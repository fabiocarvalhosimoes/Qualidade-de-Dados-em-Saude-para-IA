{
  "cells": [
    {
      "cell_type": "markdown",
      "metadata": {
        "id": "68olYupR6vKs"
      },
      "source": [
        "Centro de Inovação em Inteligência Artificial para a Saúde da UFMG\n",
        "\n",
        "**Curso de Qualidade de Dados em Saúde para IA**\n",
        "\n",
        "**Prof. Juliano Gaspar** - Faculdade de Medicina da UFMG\n",
        "\n",
        "**Aluno: Fábio C. Simões**\n",
        "\n",
        "Mais informações: https://ciia-saude.medicina.ufmg.br/"
      ]
    },
    {
      "cell_type": "markdown",
      "metadata": {
        "id": "ZfW1gQnSFA8H"
      },
      "source": [
        "# Introdução ao Python\n"
      ]
    },
    {
      "cell_type": "code",
      "execution_count": null,
      "metadata": {
        "id": "Ffw92rh5JSjC"
      },
      "outputs": [],
      "source": [
        "# Primeira função\n"
      ]
    },
    {
      "cell_type": "markdown",
      "metadata": {
        "id": "tiA_SyDvFGVN"
      },
      "source": [
        "# Variáveis"
      ]
    },
    {
      "cell_type": "code",
      "execution_count": 1,
      "metadata": {
        "id": "CIRuL4NWTk-C"
      },
      "outputs": [
        {
          "name": "stdout",
          "output_type": "stream",
          "text": [
            "10\n"
          ]
        }
      ],
      "source": [
        "# Criando variáveis\n",
        "x = 10\n",
        "\n",
        "# Mostrar o conteúdo de variáveis\n",
        "print(x)"
      ]
    },
    {
      "cell_type": "code",
      "execution_count": 2,
      "metadata": {
        "id": "NA68PbfZFhnC"
      },
      "outputs": [
        {
          "data": {
            "text/plain": [
              "10"
            ]
          },
          "execution_count": 2,
          "metadata": {},
          "output_type": "execute_result"
        }
      ],
      "source": [
        "# Outra forma de mostrar o conteúdo de variáveis, se for o último comando do bloco atual\n",
        "x"
      ]
    },
    {
      "cell_type": "code",
      "execution_count": 3,
      "metadata": {
        "id": "-_G3KcJnHu0S"
      },
      "outputs": [
        {
          "data": {
            "text/plain": [
              "40"
            ]
          },
          "execution_count": 3,
          "metadata": {},
          "output_type": "execute_result"
        }
      ],
      "source": [
        "# Somar variáveis e números\n",
        "y = x + 30\n",
        "\n",
        "# Mostrar\n",
        "y"
      ]
    },
    {
      "cell_type": "markdown",
      "metadata": {
        "id": "0jn2PYdfmauR"
      },
      "source": [
        "**Regras para nomes das variáveis**\n",
        "\n",
        "Em Python, os nomes de variáveis devem obedecer algumas regras simples:\n",
        "\n",
        "*   Devem sempre começar com uma letra;\n",
        "*   Deve ser uma sequência de letras (a → z, A → Z) e números (0 → 9);\n",
        "*   Apenas letras comuns são permitidas;\n",
        "*   Não é permitido acentuação, cedilhas, espaços, caracteres especiais como $, #, @, etc;\n",
        "*   Pode ser usado o caractere _ (underline);\n",
        "*   Palavras reservadas da linguagem não são permitidas (o sistema informa);\n",
        "\n",
        "**Padrão de escrita CamelCase**\n",
        "\n",
        "Camel case deve começar com a primeira letra minúscula e a primeira letra de cada nova palavra subsequente maiúscula:\n",
        "*   idadeRecemNascido;\n",
        "*   idadeGestante;"
      ]
    },
    {
      "cell_type": "markdown",
      "metadata": {
        "id": "P8LpS4olcxJT"
      },
      "source": [
        "# Listas e dataframe (Biblioteca Pandas)"
      ]
    },
    {
      "cell_type": "code",
      "execution_count": 4,
      "metadata": {
        "id": "ph6jr6llz-9W"
      },
      "outputs": [
        {
          "data": {
            "text/plain": [
              "[20, 18, 48, 62]"
            ]
          },
          "execution_count": 4,
          "metadata": {},
          "output_type": "execute_result"
        }
      ],
      "source": [
        "# Criar listas de números, variáveis, textos\n",
        "lista = [20, 18, 48, 62]\n",
        "lista"
      ]
    },
    {
      "cell_type": "code",
      "execution_count": 5,
      "metadata": {
        "id": "QQ-u6ejTe4j0"
      },
      "outputs": [
        {
          "data": {
            "text/plain": [
              "20"
            ]
          },
          "execution_count": 5,
          "metadata": {},
          "output_type": "execute_result"
        }
      ],
      "source": [
        "# mostrar o conteúdo da 1ª posição da lista  ==> Toda lista começa em 0\n",
        "lista[0]"
      ]
    },
    {
      "cell_type": "code",
      "execution_count": 6,
      "metadata": {
        "id": "1zjgzsdwfHFr"
      },
      "outputs": [
        {
          "data": {
            "text/plain": [
              "48"
            ]
          },
          "execution_count": 6,
          "metadata": {},
          "output_type": "execute_result"
        }
      ],
      "source": [
        "# mostrar o conteúdo da 3ª posição da lista  ==> Toda lista começa em 0\n",
        "lista[2]"
      ]
    },
    {
      "cell_type": "code",
      "execution_count": 7,
      "metadata": {
        "id": "ThdkUNoUfNRU"
      },
      "outputs": [
        {
          "data": {
            "text/plain": [
              "38"
            ]
          },
          "execution_count": 7,
          "metadata": {},
          "output_type": "execute_result"
        }
      ],
      "source": [
        "# somar o 1º com o 2º elemento da lista\n",
        "soma = lista[0] + lista[1]\n",
        "soma"
      ]
    },
    {
      "cell_type": "code",
      "execution_count": 8,
      "metadata": {
        "id": "kIZMJAL41oQ2"
      },
      "outputs": [],
      "source": [
        "# Bibliotecas (Pacotes / funcionalidades), são códigos prontos, disponíveis na internet, para fazer algo específico\n",
        "\n",
        "# Importar as biblioteca para trabalhar com dados e gráficos\n",
        "import pandas as pd"
      ]
    },
    {
      "cell_type": "markdown",
      "metadata": {
        "id": "JSIUZpYDDhpq"
      },
      "source": [
        "Consulte: https://pandas.pydata.org/"
      ]
    },
    {
      "cell_type": "code",
      "execution_count": 9,
      "metadata": {
        "id": "u_chVqYk0-dS"
      },
      "outputs": [
        {
          "data": {
            "text/html": [
              "<div>\n",
              "<style scoped>\n",
              "    .dataframe tbody tr th:only-of-type {\n",
              "        vertical-align: middle;\n",
              "    }\n",
              "\n",
              "    .dataframe tbody tr th {\n",
              "        vertical-align: top;\n",
              "    }\n",
              "\n",
              "    .dataframe thead th {\n",
              "        text-align: right;\n",
              "    }\n",
              "</style>\n",
              "<table border=\"1\" class=\"dataframe\">\n",
              "  <thead>\n",
              "    <tr style=\"text-align: right;\">\n",
              "      <th></th>\n",
              "      <th>0</th>\n",
              "    </tr>\n",
              "  </thead>\n",
              "  <tbody>\n",
              "    <tr>\n",
              "      <th>0</th>\n",
              "      <td>20</td>\n",
              "    </tr>\n",
              "    <tr>\n",
              "      <th>1</th>\n",
              "      <td>18</td>\n",
              "    </tr>\n",
              "    <tr>\n",
              "      <th>2</th>\n",
              "      <td>48</td>\n",
              "    </tr>\n",
              "    <tr>\n",
              "      <th>3</th>\n",
              "      <td>62</td>\n",
              "    </tr>\n",
              "  </tbody>\n",
              "</table>\n",
              "</div>"
            ],
            "text/plain": [
              "    0\n",
              "0  20\n",
              "1  18\n",
              "2  48\n",
              "3  62"
            ]
          },
          "execution_count": 9,
          "metadata": {},
          "output_type": "execute_result"
        }
      ],
      "source": [
        "# Criar um banco de dados, uma variável do tipo \"conjunto de dados\" ou DataSet/DataFrame\n",
        "# Esse tipo de variável nos permite executar diversas funcionalidades já programadas com os nossos dados\n",
        "dados = pd.DataFrame(lista)\n",
        "dados"
      ]
    },
    {
      "cell_type": "code",
      "execution_count": 10,
      "metadata": {
        "id": "UVjSfIeD13_a"
      },
      "outputs": [
        {
          "data": {
            "text/plain": [
              "<Axes: >"
            ]
          },
          "execution_count": 10,
          "metadata": {},
          "output_type": "execute_result"
        },
        {
          "data": {
            "image/png": "[encoded data removed]",
            "text/plain": [
              "<Figure size 640x480 with 1 Axes>"
            ]
          },
          "metadata": {},
          "output_type": "display_data"
        }
      ],
      "source": [
        "# A partir de um DataFrame é possível fazer gráficos\n",
        "\n",
        "# Gráfico de colunas\n",
        "dados.plot.bar()"
      ]
    },
    {
      "cell_type": "code",
      "execution_count": 11,
      "metadata": {
        "id": "xL8lCUzl0Z0p"
      },
      "outputs": [
        {
          "data": {
            "text/plain": [
              "<Axes: >"
            ]
          },
          "execution_count": 11,
          "metadata": {},
          "output_type": "execute_result"
        },
        {
          "data": {
            "image/png": "[encoded data removed]",
            "text/plain": [
              "<Figure size 640x480 with 1 Axes>"
            ]
          },
          "metadata": {},
          "output_type": "display_data"
        }
      ],
      "source": [
        "# Gráfico de barras horizontais\n",
        "dados.plot.barh()"
      ]
    },
    {
      "cell_type": "code",
      "execution_count": 12,
      "metadata": {
        "id": "z_2GNN4G2WOM"
      },
      "outputs": [
        {
          "data": {
            "text/plain": [
              "<Axes: >"
            ]
          },
          "execution_count": 12,
          "metadata": {},
          "output_type": "execute_result"
        },
        {
          "data": {
            "image/png": "[encoded data removed]",
            "text/plain": [
              "<Figure size 640x480 with 1 Axes>"
            ]
          },
          "metadata": {},
          "output_type": "display_data"
        }
      ],
      "source": [
        "# Gráfico de linhas\n",
        "dados.plot.line()"
      ]
    },
    {
      "cell_type": "code",
      "execution_count": 13,
      "metadata": {
        "id": "NgzfM9qZ0CN-"
      },
      "outputs": [
        {
          "data": {
            "text/plain": [
              "array([<Axes: ylabel='0'>], dtype=object)"
            ]
          },
          "execution_count": 13,
          "metadata": {},
          "output_type": "execute_result"
        },
        {
          "data": {
            "image/png": "[encoded data removed]",
            "text/plain": [
              "<Figure size 640x480 with 1 Axes>"
            ]
          },
          "metadata": {},
          "output_type": "display_data"
        }
      ],
      "source": [
        "# Gráfico de pizza\n",
        "dados.plot.pie(subplots=True)"
      ]
    },
    {
      "cell_type": "markdown",
      "metadata": {
        "id": "8r5UNIVOHkOE"
      },
      "source": [
        "# Operações aritméticas"
      ]
    },
    {
      "cell_type": "code",
      "execution_count": 14,
      "metadata": {
        "id": "lFUROxyW1-Sq"
      },
      "outputs": [
        {
          "data": {
            "text/plain": [
              "80"
            ]
          },
          "execution_count": 14,
          "metadata": {},
          "output_type": "execute_result"
        }
      ],
      "source": [
        "# Somar\n",
        "valor = 50 + 30\n",
        "valor"
      ]
    },
    {
      "cell_type": "code",
      "execution_count": 15,
      "metadata": {
        "id": "sNE_vdR2H-GP"
      },
      "outputs": [
        {
          "data": {
            "text/plain": [
              "20"
            ]
          },
          "execution_count": 15,
          "metadata": {},
          "output_type": "execute_result"
        }
      ],
      "source": [
        "# Subtrair\n",
        "valor = 50 - 30\n",
        "valor"
      ]
    },
    {
      "cell_type": "code",
      "execution_count": 16,
      "metadata": {
        "id": "QZqovUugIE0v"
      },
      "outputs": [
        {
          "data": {
            "text/plain": [
              "5.0"
            ]
          },
          "execution_count": 16,
          "metadata": {},
          "output_type": "execute_result"
        }
      ],
      "source": [
        "# dividir\n",
        "valor = 50 / 10\n",
        "valor"
      ]
    },
    {
      "cell_type": "code",
      "execution_count": 17,
      "metadata": {
        "id": "ysrZiW8wIExA"
      },
      "outputs": [
        {
          "data": {
            "text/plain": [
              "6"
            ]
          },
          "execution_count": 17,
          "metadata": {},
          "output_type": "execute_result"
        }
      ],
      "source": [
        "# multiplicar\n",
        "valor = 3 * 2\n",
        "valor"
      ]
    },
    {
      "cell_type": "code",
      "execution_count": 18,
      "metadata": {
        "id": "bd-h7H6h2Vnn"
      },
      "outputs": [
        {
          "data": {
            "text/plain": [
              "8"
            ]
          },
          "execution_count": 18,
          "metadata": {},
          "output_type": "execute_result"
        }
      ],
      "source": [
        "# exponenciação\n",
        "x = 2**3\n",
        "x"
      ]
    },
    {
      "cell_type": "code",
      "execution_count": 19,
      "metadata": {
        "id": "QCRsQ8O52Q9Z"
      },
      "outputs": [
        {
          "data": {
            "text/plain": [
              "15"
            ]
          },
          "execution_count": 19,
          "metadata": {},
          "output_type": "execute_result"
        }
      ],
      "source": [
        "# função para calcular o valor absoluto (sem sinal)\n",
        "abs(-15)"
      ]
    },
    {
      "cell_type": "code",
      "execution_count": 20,
      "metadata": {
        "id": "30b5DWRF2VkM"
      },
      "outputs": [
        {
          "data": {
            "text/plain": [
              "4"
            ]
          },
          "execution_count": 20,
          "metadata": {},
          "output_type": "execute_result"
        }
      ],
      "source": [
        "# função para valor mínimo de uma lista\n",
        "minimo = min(4, 18, 6)\n",
        "minimo"
      ]
    },
    {
      "cell_type": "code",
      "execution_count": 21,
      "metadata": {
        "id": "oluHfa43Ijb3"
      },
      "outputs": [
        {
          "data": {
            "text/plain": [
              "67"
            ]
          },
          "execution_count": 21,
          "metadata": {},
          "output_type": "execute_result"
        }
      ],
      "source": [
        "# função para valor máximo de uma lista\n",
        "maximo = max(45, 67, 23)\n",
        "maximo"
      ]
    },
    {
      "cell_type": "code",
      "execution_count": 22,
      "metadata": {
        "id": "5znSyQ_tdmDb"
      },
      "outputs": [
        {
          "data": {
            "text/plain": [
              "62"
            ]
          },
          "execution_count": 22,
          "metadata": {},
          "output_type": "execute_result"
        }
      ],
      "source": [
        "# as funções também podem ser usadas combinada com as listas / arrays\n",
        "max(lista)"
      ]
    },
    {
      "cell_type": "markdown",
      "metadata": {
        "id": "XQeVKsy5GqGT"
      },
      "source": [
        "# Operadores relacionais"
      ]
    },
    {
      "cell_type": "code",
      "execution_count": 23,
      "metadata": {
        "id": "DbUZnEMDGxtA"
      },
      "outputs": [
        {
          "name": "stdout",
          "output_type": "stream",
          "text": [
            "8\n",
            "40\n"
          ]
        }
      ],
      "source": [
        "print(x)\n",
        "print(y)"
      ]
    },
    {
      "cell_type": "code",
      "execution_count": 24,
      "metadata": {
        "id": "cX8GH2bp2Bng"
      },
      "outputs": [
        {
          "data": {
            "text/plain": [
              "False"
            ]
          },
          "execution_count": 24,
          "metadata": {},
          "output_type": "execute_result"
        }
      ],
      "source": [
        "# Operador de Igualdade\n",
        "x == y"
      ]
    },
    {
      "cell_type": "code",
      "execution_count": 25,
      "metadata": {
        "id": "ePxbhpgV2Bkv"
      },
      "outputs": [
        {
          "data": {
            "text/plain": [
              "False"
            ]
          },
          "execution_count": 25,
          "metadata": {},
          "output_type": "execute_result"
        }
      ],
      "source": [
        "# Operador de Igualdade\n",
        "x == 20"
      ]
    },
    {
      "cell_type": "code",
      "execution_count": 26,
      "metadata": {
        "id": "U16XgnGO2BfT"
      },
      "outputs": [
        {
          "data": {
            "text/plain": [
              "True"
            ]
          },
          "execution_count": 26,
          "metadata": {},
          "output_type": "execute_result"
        }
      ],
      "source": [
        "# Operador de Diferença\n",
        "x != y"
      ]
    },
    {
      "cell_type": "code",
      "execution_count": 27,
      "metadata": {
        "id": "QdBOE68T2LLH"
      },
      "outputs": [
        {
          "data": {
            "text/plain": [
              "False"
            ]
          },
          "execution_count": 27,
          "metadata": {},
          "output_type": "execute_result"
        }
      ],
      "source": [
        "# Operador de Maior que\n",
        "x > y"
      ]
    },
    {
      "cell_type": "code",
      "execution_count": 28,
      "metadata": {
        "id": "_CQn6ftU2LH3"
      },
      "outputs": [
        {
          "data": {
            "text/plain": [
              "True"
            ]
          },
          "execution_count": 28,
          "metadata": {},
          "output_type": "execute_result"
        }
      ],
      "source": [
        "# Operador de Menor que\n",
        "x < y"
      ]
    },
    {
      "cell_type": "code",
      "execution_count": 29,
      "metadata": {
        "id": "lpA040y_2LEq"
      },
      "outputs": [
        {
          "data": {
            "text/plain": [
              "False"
            ]
          },
          "execution_count": 29,
          "metadata": {},
          "output_type": "execute_result"
        }
      ],
      "source": [
        "# Operador de Maior ou igual\n",
        "x >= y"
      ]
    },
    {
      "cell_type": "code",
      "execution_count": 30,
      "metadata": {
        "id": "2yNQT5yZ1-J2"
      },
      "outputs": [
        {
          "data": {
            "text/plain": [
              "True"
            ]
          },
          "execution_count": 30,
          "metadata": {},
          "output_type": "execute_result"
        }
      ],
      "source": [
        "# Operador de Menor ou igual\n",
        "x <= y"
      ]
    },
    {
      "cell_type": "markdown",
      "metadata": {
        "id": "4rDNnskicprJ"
      },
      "source": [
        "# Variáveis do tipo texto / String"
      ]
    },
    {
      "cell_type": "code",
      "execution_count": 32,
      "metadata": {
        "id": "OqZn1OAf2Bh5"
      },
      "outputs": [
        {
          "name": "stdout",
          "output_type": "stream",
          "text": [
            "Fábio\n"
          ]
        }
      ],
      "source": [
        "# Criar variáveis do tipo texto / string\n",
        "nome = 'Fábio'\n",
        "print(nome)"
      ]
    },
    {
      "cell_type": "code",
      "execution_count": 33,
      "metadata": {
        "id": "JFw19k15GF3o"
      },
      "outputs": [
        {
          "name": "stdout",
          "output_type": "stream",
          "text": [
            "Fábio Carvalho\n"
          ]
        }
      ],
      "source": [
        "# variáveis de texto / string\n",
        "sobrenome = 'Carvalho'\n",
        "\n",
        "print(nome, sobrenome)"
      ]
    },
    {
      "cell_type": "code",
      "execution_count": 34,
      "metadata": {
        "id": "2x91ubfbGFzy"
      },
      "outputs": [
        {
          "name": "stdout",
          "output_type": "stream",
          "text": [
            "Nome do aluno: Fábio Carvalho\n"
          ]
        }
      ],
      "source": [
        "# variáveis de texto / string\n",
        "print('Nome do aluno:', nome, sobrenome)"
      ]
    },
    {
      "cell_type": "code",
      "execution_count": 35,
      "metadata": {
        "id": "C4oM6gJPGhOb"
      },
      "outputs": [
        {
          "name": "stdout",
          "output_type": "stream",
          "text": [
            "Nome do aluno: Fábio Carvalho\n",
            "Idade: 40\n"
          ]
        }
      ],
      "source": [
        "# variáveis de texto / string\n",
        "print('Nome do aluno:', nome, sobrenome)\n",
        "print('Idade:', y)"
      ]
    },
    {
      "cell_type": "markdown",
      "metadata": {
        "id": "PjcILd1LHbLb"
      },
      "source": [
        "# Exercícios"
      ]
    },
    {
      "cell_type": "code",
      "execution_count": null,
      "metadata": {
        "id": "GdyWvxoCMR6K"
      },
      "outputs": [],
      "source": [
        "# Notas do aluno\n",
        "nome = 'Fábio Carvalho Simões'\n",
        "\n",
        "# Cada atividade vale 10 pontos (informado abaixo)\n",
        "atv1 = 7\n",
        "atv2 = 8\n",
        "atv3 = 9\n",
        "atv4 = 7\n",
        "atv5 = 10\n",
        "atv6 = 10\n",
        "atv7 = 8\n",
        "atv8 = 10"
      ]
    },
    {
      "cell_type": "code",
      "execution_count": 38,
      "metadata": {
        "id": "TQqExH9n9xR9"
      },
      "outputs": [
        {
          "name": "stdout",
          "output_type": "stream",
          "text": [
            "Nome do aluno: Fábio Carvalho Simões\n",
            "Nota final: 425.0 pontos\n",
            "Aprovado: True\n"
          ]
        }
      ],
      "source": [
        "# Calcular a nota final do aluno (100 pontos), considere:\n",
        "# As atividades 1 e 3 terão peso 2\n",
        "# Mostrar a nota final do aluno\n",
        "# Mostrar o nome do aluno e a nota final ao lado\n",
        "# Informar \"True\" ou \"False\" se o aluno estiver aprovado ou não.\n",
        "# Considere que o aluno precisa ter nota final maior ou igual a 70.\n",
        "\n",
        "\n",
        "# Notas do aluno\n",
        "nome = 'Fábio Carvalho Simões'\n",
        "atv1 = 7\n",
        "atv2 = 8\n",
        "atv3 = 9\n",
        "atv4 = 7\n",
        "atv5 = 10\n",
        "atv6 = 10\n",
        "atv7 = 8\n",
        "atv8 = 10\n",
        "\n",
        "# Calcular a nota final com pesos\n",
        "nota_final = ((atv1 * 2) + atv2 + (atv3 * 2) + atv4 + atv5 + atv6 + atv7 + atv8) / 20 * 100\n",
        "\n",
        "# Arredondar para duas casas decimais\n",
        "nota_final = round(nota_final, 2)\n",
        "\n",
        "# Verificar se o aluno foi aprovado (nota final maior ou igual a 70)\n",
        "aprovado = nota_final >= 70\n",
        "\n",
        "# Imprimir o nome do aluno, nota final e se foi aprovado ou não\n",
        "print(f\"Nome do aluno: {nome}\")\n",
        "print(f\"Nota final: {nota_final} pontos\")\n",
        "print(f\"Aprovado: {aprovado}\")\n",
        "\n"
      ]
    },
    {
      "cell_type": "markdown",
      "metadata": {
        "id": "lZN5zVKtGYEb"
      },
      "source": [
        "# Exemplo de trabalhar com Banco de Dados\n",
        "**Abrir um arquivo e transformar em um objeto de banco dados para manipulação no Python**"
      ]
    },
    {
      "cell_type": "code",
      "execution_count": 39,
      "metadata": {
        "id": "dlJGVJXlEV2f"
      },
      "outputs": [],
      "source": [
        "# importar as bibliotecas\n",
        "import pandas as pd\n",
        "import matplotlib.pyplot as plt"
      ]
    },
    {
      "cell_type": "markdown",
      "metadata": {
        "id": "Vq1wtrmJEaPZ"
      },
      "source": [
        "# Abrir o arquivo da Base de Dados"
      ]
    },
    {
      "cell_type": "code",
      "execution_count": 40,
      "metadata": {
        "id": "Mh40lWsrEbts"
      },
      "outputs": [
        {
          "data": {
            "text/html": [
              "<div>\n",
              "<style scoped>\n",
              "    .dataframe tbody tr th:only-of-type {\n",
              "        vertical-align: middle;\n",
              "    }\n",
              "\n",
              "    .dataframe tbody tr th {\n",
              "        vertical-align: top;\n",
              "    }\n",
              "\n",
              "    .dataframe thead th {\n",
              "        text-align: right;\n",
              "    }\n",
              "</style>\n",
              "<table border=\"1\" class=\"dataframe\">\n",
              "  <thead>\n",
              "    <tr style=\"text-align: right;\">\n",
              "      <th></th>\n",
              "      <th>Unnamed: 0</th>\n",
              "      <th>DT_INTERNACAO</th>\n",
              "      <th>DT_ALTA</th>\n",
              "      <th>DURACAO_INT</th>\n",
              "      <th>GESTACOES</th>\n",
              "      <th>PARTOS</th>\n",
              "      <th>IG_OBSTETRA</th>\n",
              "      <th>IG_PEDIATRA</th>\n",
              "      <th>ALTO_RISCO</th>\n",
              "      <th>TIPO_PARTO</th>\n",
              "      <th>...</th>\n",
              "      <th>IG_TERMO</th>\n",
              "      <th>HOUVE_CESAREA</th>\n",
              "      <th>HOUVE_LACERACAO</th>\n",
              "      <th>HOUVE_CM</th>\n",
              "      <th>PARIDADE</th>\n",
              "      <th>PESO_VIAVEIS</th>\n",
              "      <th>PESO_US</th>\n",
              "      <th>PESO_ALTA</th>\n",
              "      <th>BAIXO_APGAR5</th>\n",
              "      <th>PARTO_CESAREO</th>\n",
              "    </tr>\n",
              "  </thead>\n",
              "  <tbody>\n",
              "    <tr>\n",
              "      <th>0</th>\n",
              "      <td>0</td>\n",
              "      <td>2014-01-20</td>\n",
              "      <td>2014-01-21</td>\n",
              "      <td>1</td>\n",
              "      <td>2</td>\n",
              "      <td>1.0</td>\n",
              "      <td>38.0</td>\n",
              "      <td>38.0</td>\n",
              "      <td>Sim</td>\n",
              "      <td>Parto Normal</td>\n",
              "      <td>...</td>\n",
              "      <td>Termo-precoce</td>\n",
              "      <td>Não</td>\n",
              "      <td>Não</td>\n",
              "      <td>Sim</td>\n",
              "      <td>Primípara</td>\n",
              "      <td>3590.0</td>\n",
              "      <td>2590.0</td>\n",
              "      <td>3440.0</td>\n",
              "      <td>Não</td>\n",
              "      <td>Não</td>\n",
              "    </tr>\n",
              "    <tr>\n",
              "      <th>1</th>\n",
              "      <td>1</td>\n",
              "      <td>2014-05-21</td>\n",
              "      <td>2014-05-22</td>\n",
              "      <td>1</td>\n",
              "      <td>1</td>\n",
              "      <td>0.0</td>\n",
              "      <td>36.0</td>\n",
              "      <td>36.0</td>\n",
              "      <td>Sim</td>\n",
              "      <td>Parto Normal</td>\n",
              "      <td>...</td>\n",
              "      <td>Prematuro</td>\n",
              "      <td>Não</td>\n",
              "      <td>Não</td>\n",
              "      <td>Não</td>\n",
              "      <td>Nulípara</td>\n",
              "      <td>2660.0</td>\n",
              "      <td>1660.0</td>\n",
              "      <td>2510.0</td>\n",
              "      <td>Não</td>\n",
              "      <td>Não</td>\n",
              "    </tr>\n",
              "    <tr>\n",
              "      <th>2</th>\n",
              "      <td>2</td>\n",
              "      <td>2014-04-13</td>\n",
              "      <td>2014-04-14</td>\n",
              "      <td>1</td>\n",
              "      <td>2</td>\n",
              "      <td>1.0</td>\n",
              "      <td>39.0</td>\n",
              "      <td>39.0</td>\n",
              "      <td>Não</td>\n",
              "      <td>Parto Normal</td>\n",
              "      <td>...</td>\n",
              "      <td>Termo</td>\n",
              "      <td>Sim</td>\n",
              "      <td>Sim</td>\n",
              "      <td>Sim</td>\n",
              "      <td>Primípara</td>\n",
              "      <td>3075.0</td>\n",
              "      <td>2075.0</td>\n",
              "      <td>2925.0</td>\n",
              "      <td>Não</td>\n",
              "      <td>Não</td>\n",
              "    </tr>\n",
              "    <tr>\n",
              "      <th>3</th>\n",
              "      <td>3</td>\n",
              "      <td>2013-12-04</td>\n",
              "      <td>2013-12-05</td>\n",
              "      <td>1</td>\n",
              "      <td>2</td>\n",
              "      <td>1.0</td>\n",
              "      <td>41.0</td>\n",
              "      <td>41.0</td>\n",
              "      <td>Não</td>\n",
              "      <td>Parto Normal</td>\n",
              "      <td>...</td>\n",
              "      <td>Termo</td>\n",
              "      <td>Não</td>\n",
              "      <td>Sim</td>\n",
              "      <td>Sim</td>\n",
              "      <td>Primípara</td>\n",
              "      <td>3505.0</td>\n",
              "      <td>2755.5</td>\n",
              "      <td>3355.0</td>\n",
              "      <td>Não</td>\n",
              "      <td>Não</td>\n",
              "    </tr>\n",
              "    <tr>\n",
              "      <th>4</th>\n",
              "      <td>4</td>\n",
              "      <td>2013-12-05</td>\n",
              "      <td>2013-12-06</td>\n",
              "      <td>1</td>\n",
              "      <td>1</td>\n",
              "      <td>0.0</td>\n",
              "      <td>36.0</td>\n",
              "      <td>36.0</td>\n",
              "      <td>Não</td>\n",
              "      <td>Parto Normal</td>\n",
              "      <td>...</td>\n",
              "      <td>Prematuro</td>\n",
              "      <td>Não</td>\n",
              "      <td>Não</td>\n",
              "      <td>Sim</td>\n",
              "      <td>Nulípara</td>\n",
              "      <td>3405.0</td>\n",
              "      <td>2405.0</td>\n",
              "      <td>3255.0</td>\n",
              "      <td>Não</td>\n",
              "      <td>Não</td>\n",
              "    </tr>\n",
              "    <tr>\n",
              "      <th>...</th>\n",
              "      <td>...</td>\n",
              "      <td>...</td>\n",
              "      <td>...</td>\n",
              "      <td>...</td>\n",
              "      <td>...</td>\n",
              "      <td>...</td>\n",
              "      <td>...</td>\n",
              "      <td>...</td>\n",
              "      <td>...</td>\n",
              "      <td>...</td>\n",
              "      <td>...</td>\n",
              "      <td>...</td>\n",
              "      <td>...</td>\n",
              "      <td>...</td>\n",
              "      <td>...</td>\n",
              "      <td>...</td>\n",
              "      <td>...</td>\n",
              "      <td>...</td>\n",
              "      <td>...</td>\n",
              "      <td>...</td>\n",
              "      <td>...</td>\n",
              "    </tr>\n",
              "    <tr>\n",
              "      <th>1703</th>\n",
              "      <td>1703</td>\n",
              "      <td>2014-07-05</td>\n",
              "      <td>2014-08-12</td>\n",
              "      <td>38</td>\n",
              "      <td>2</td>\n",
              "      <td>1.0</td>\n",
              "      <td>38.0</td>\n",
              "      <td>38.0</td>\n",
              "      <td>Não</td>\n",
              "      <td>Parto Normal</td>\n",
              "      <td>...</td>\n",
              "      <td>Termo-precoce</td>\n",
              "      <td>Não</td>\n",
              "      <td>Sim</td>\n",
              "      <td>Sim</td>\n",
              "      <td>Primípara</td>\n",
              "      <td>2940.0</td>\n",
              "      <td>1940.0</td>\n",
              "      <td>2790.0</td>\n",
              "      <td>Não</td>\n",
              "      <td>Não</td>\n",
              "    </tr>\n",
              "    <tr>\n",
              "      <th>1704</th>\n",
              "      <td>1704</td>\n",
              "      <td>2014-04-25</td>\n",
              "      <td>2014-06-10</td>\n",
              "      <td>46</td>\n",
              "      <td>2</td>\n",
              "      <td>1.0</td>\n",
              "      <td>29.0</td>\n",
              "      <td>34.0</td>\n",
              "      <td>Sim</td>\n",
              "      <td>Parto Cesáreo</td>\n",
              "      <td>...</td>\n",
              "      <td>Prematuro</td>\n",
              "      <td>Não</td>\n",
              "      <td>Não</td>\n",
              "      <td>Sim</td>\n",
              "      <td>Primípara</td>\n",
              "      <td>1945.0</td>\n",
              "      <td>661.5</td>\n",
              "      <td>1795.0</td>\n",
              "      <td>Não</td>\n",
              "      <td>Sim</td>\n",
              "    </tr>\n",
              "    <tr>\n",
              "      <th>1705</th>\n",
              "      <td>1705</td>\n",
              "      <td>2013-11-04</td>\n",
              "      <td>2013-12-22</td>\n",
              "      <td>48</td>\n",
              "      <td>2</td>\n",
              "      <td>1.0</td>\n",
              "      <td>26.0</td>\n",
              "      <td>32.0</td>\n",
              "      <td>Sim</td>\n",
              "      <td>Parto Cesáreo</td>\n",
              "      <td>...</td>\n",
              "      <td>Prematuro</td>\n",
              "      <td>Não</td>\n",
              "      <td>Não</td>\n",
              "      <td>Sim</td>\n",
              "      <td>Primípara</td>\n",
              "      <td>2275.0</td>\n",
              "      <td>892.5</td>\n",
              "      <td>2125.0</td>\n",
              "      <td>Não</td>\n",
              "      <td>Sim</td>\n",
              "    </tr>\n",
              "    <tr>\n",
              "      <th>1706</th>\n",
              "      <td>1706</td>\n",
              "      <td>2013-10-04</td>\n",
              "      <td>2013-11-28</td>\n",
              "      <td>55</td>\n",
              "      <td>3</td>\n",
              "      <td>0.0</td>\n",
              "      <td>27.0</td>\n",
              "      <td>34.0</td>\n",
              "      <td>Sim</td>\n",
              "      <td>Parto Cesáreo</td>\n",
              "      <td>...</td>\n",
              "      <td>Prematuro</td>\n",
              "      <td>Não</td>\n",
              "      <td>Não</td>\n",
              "      <td>Sim</td>\n",
              "      <td>Nulípara</td>\n",
              "      <td>2590.0</td>\n",
              "      <td>1113.0</td>\n",
              "      <td>2440.0</td>\n",
              "      <td>Não</td>\n",
              "      <td>Sim</td>\n",
              "    </tr>\n",
              "    <tr>\n",
              "      <th>1707</th>\n",
              "      <td>1707</td>\n",
              "      <td>2014-03-12</td>\n",
              "      <td>2014-05-14</td>\n",
              "      <td>63</td>\n",
              "      <td>3</td>\n",
              "      <td>2.0</td>\n",
              "      <td>39.0</td>\n",
              "      <td>39.0</td>\n",
              "      <td>Não</td>\n",
              "      <td>Parto Normal</td>\n",
              "      <td>...</td>\n",
              "      <td>Termo</td>\n",
              "      <td>Não</td>\n",
              "      <td>Sim</td>\n",
              "      <td>Sim</td>\n",
              "      <td>Multípara</td>\n",
              "      <td>3190.0</td>\n",
              "      <td>2190.0</td>\n",
              "      <td>3040.0</td>\n",
              "      <td>Não</td>\n",
              "      <td>Não</td>\n",
              "    </tr>\n",
              "  </tbody>\n",
              "</table>\n",
              "<p>1708 rows × 50 columns</p>\n",
              "</div>"
            ],
            "text/plain": [
              "      Unnamed: 0 DT_INTERNACAO    DT_ALTA  DURACAO_INT  GESTACOES  PARTOS  \\\n",
              "0              0    2014-01-20 2014-01-21            1          2     1.0   \n",
              "1              1    2014-05-21 2014-05-22            1          1     0.0   \n",
              "2              2    2014-04-13 2014-04-14            1          2     1.0   \n",
              "3              3    2013-12-04 2013-12-05            1          2     1.0   \n",
              "4              4    2013-12-05 2013-12-06            1          1     0.0   \n",
              "...          ...           ...        ...          ...        ...     ...   \n",
              "1703        1703    2014-07-05 2014-08-12           38          2     1.0   \n",
              "1704        1704    2014-04-25 2014-06-10           46          2     1.0   \n",
              "1705        1705    2013-11-04 2013-12-22           48          2     1.0   \n",
              "1706        1706    2013-10-04 2013-11-28           55          3     0.0   \n",
              "1707        1707    2014-03-12 2014-05-14           63          3     2.0   \n",
              "\n",
              "      IG_OBSTETRA  IG_PEDIATRA ALTO_RISCO     TIPO_PARTO  ...       IG_TERMO  \\\n",
              "0            38.0         38.0        Sim   Parto Normal  ...  Termo-precoce   \n",
              "1            36.0         36.0        Sim   Parto Normal  ...      Prematuro   \n",
              "2            39.0         39.0        Não   Parto Normal  ...          Termo   \n",
              "3            41.0         41.0        Não   Parto Normal  ...          Termo   \n",
              "4            36.0         36.0        Não   Parto Normal  ...      Prematuro   \n",
              "...           ...          ...        ...            ...  ...            ...   \n",
              "1703         38.0         38.0        Não   Parto Normal  ...  Termo-precoce   \n",
              "1704         29.0         34.0        Sim  Parto Cesáreo  ...      Prematuro   \n",
              "1705         26.0         32.0        Sim  Parto Cesáreo  ...      Prematuro   \n",
              "1706         27.0         34.0        Sim  Parto Cesáreo  ...      Prematuro   \n",
              "1707         39.0         39.0        Não   Parto Normal  ...          Termo   \n",
              "\n",
              "     HOUVE_CESAREA  HOUVE_LACERACAO HOUVE_CM   PARIDADE PESO_VIAVEIS PESO_US  \\\n",
              "0              Não              Não      Sim  Primípara       3590.0  2590.0   \n",
              "1              Não              Não      Não   Nulípara       2660.0  1660.0   \n",
              "2              Sim              Sim      Sim  Primípara       3075.0  2075.0   \n",
              "3              Não              Sim      Sim  Primípara       3505.0  2755.5   \n",
              "4              Não              Não      Sim   Nulípara       3405.0  2405.0   \n",
              "...            ...              ...      ...        ...          ...     ...   \n",
              "1703           Não              Sim      Sim  Primípara       2940.0  1940.0   \n",
              "1704           Não              Não      Sim  Primípara       1945.0   661.5   \n",
              "1705           Não              Não      Sim  Primípara       2275.0   892.5   \n",
              "1706           Não              Não      Sim   Nulípara       2590.0  1113.0   \n",
              "1707           Não              Sim      Sim  Multípara       3190.0  2190.0   \n",
              "\n",
              "     PESO_ALTA BAIXO_APGAR5 PARTO_CESAREO  \n",
              "0       3440.0          Não           Não  \n",
              "1       2510.0          Não           Não  \n",
              "2       2925.0          Não           Não  \n",
              "3       3355.0          Não           Não  \n",
              "4       3255.0          Não           Não  \n",
              "...        ...          ...           ...  \n",
              "1703    2790.0          Não           Não  \n",
              "1704    1795.0          Não           Sim  \n",
              "1705    2125.0          Não           Sim  \n",
              "1706    2440.0          Não           Sim  \n",
              "1707    3040.0          Não           Não  \n",
              "\n",
              "[1708 rows x 50 columns]"
            ]
          },
          "execution_count": 40,
          "metadata": {},
          "output_type": "execute_result"
        }
      ],
      "source": [
        "# Endereço do arquivo com a base de dados\n",
        "arquivo = 'https://ftp.medicina.ufmg.br/cursosciia/qds/BD_PARTOS.xlsx'\n",
        "\n",
        "# Ler o arquivo\n",
        "dados = pd.read_excel(arquivo)\n",
        "dados"
      ]
    },
    {
      "cell_type": "code",
      "execution_count": 41,
      "metadata": {
        "id": "FalIVayDEbqJ"
      },
      "outputs": [
        {
          "name": "stdout",
          "output_type": "stream",
          "text": [
            "<class 'pandas.core.frame.DataFrame'>\n",
            "RangeIndex: 1708 entries, 0 to 1707\n",
            "Data columns (total 50 columns):\n",
            " #   Column              Non-Null Count  Dtype         \n",
            "---  ------              --------------  -----         \n",
            " 0   Unnamed: 0          1708 non-null   int64         \n",
            " 1   DT_INTERNACAO       1708 non-null   datetime64[ns]\n",
            " 2   DT_ALTA             1708 non-null   datetime64[ns]\n",
            " 3   DURACAO_INT         1708 non-null   int64         \n",
            " 4   GESTACOES           1708 non-null   int64         \n",
            " 5   PARTOS              1707 non-null   float64       \n",
            " 6   IG_OBSTETRA         1686 non-null   float64       \n",
            " 7   IG_PEDIATRA         1704 non-null   float64       \n",
            " 8   ALTO_RISCO          1708 non-null   object        \n",
            " 9   TIPO_PARTO          1708 non-null   object        \n",
            " 10  HIPERTENSAO         1708 non-null   object        \n",
            " 11  GEMELAR             1708 non-null   object        \n",
            " 12  CESAREAS_PREVIAS    1701 non-null   float64       \n",
            " 13  EPISIOTOMIA         1708 non-null   object        \n",
            " 14  ANALGESIA           1708 non-null   object        \n",
            " 15  FORCEPS             1708 non-null   object        \n",
            " 16  CM_LACERACAO_CANAL  1553 non-null   object        \n",
            " 17  CM_UTI              1708 non-null   object        \n",
            " 18  CM_INFECCAO         1708 non-null   object        \n",
            " 19  CM_NEARMISS         1708 non-null   object        \n",
            " 20  CM_TRANSFUSAO       1705 non-null   object        \n",
            " 21  VIVO                1672 non-null   object        \n",
            " 22  SEXO                1650 non-null   object        \n",
            " 23  PESO_NASCER         1680 non-null   float64       \n",
            " 24  APGAR1              1650 non-null   float64       \n",
            " 25  APGAR5              1708 non-null   int64         \n",
            " 26  UTI_RN              1708 non-null   object        \n",
            " 27  LIGADURACORDAO      605 non-null    object        \n",
            " 28  LC_MOTIVO           53 non-null     object        \n",
            " 29  EQUIPAMENTO_A       853 non-null    float64       \n",
            " 30  EQUIPAMENTO_B       1708 non-null   float64       \n",
            " 31  UBS                 1680 non-null   float64       \n",
            " 32  BAIRRO              1708 non-null   object        \n",
            " 33  LATITUDE            1708 non-null   float64       \n",
            " 34  LONGITUDE           1708 non-null   float64       \n",
            " 35  BAIXO_APGAR1        1650 non-null   object        \n",
            " 36  ASFIXIA_APGAR1      1650 non-null   object        \n",
            " 37  BAIXO_PESO          1680 non-null   object        \n",
            " 38  PREMATURO_OBS       1686 non-null   object        \n",
            " 39  PREMATURO_PED       1704 non-null   object        \n",
            " 40  IG_TERMO            1686 non-null   object        \n",
            " 41  HOUVE_CESAREA       1701 non-null   object        \n",
            " 42  HOUVE_LACERACAO     1553 non-null   object        \n",
            " 43  HOUVE_CM            1562 non-null   object        \n",
            " 44  PARIDADE            1707 non-null   object        \n",
            " 45  PESO_VIAVEIS        1640 non-null   float64       \n",
            " 46  PESO_US             1595 non-null   float64       \n",
            " 47  PESO_ALTA           1680 non-null   float64       \n",
            " 48  BAIXO_APGAR5        1708 non-null   object        \n",
            " 49  PARTO_CESAREO       1708 non-null   object        \n",
            "dtypes: datetime64[ns](2), float64(14), int64(4), object(30)\n",
            "memory usage: 667.3+ KB\n"
          ]
        }
      ],
      "source": [
        "# informações sobre as variáveis/colunas\n",
        "dados.info()"
      ]
    },
    {
      "cell_type": "markdown",
      "metadata": {
        "id": "cz4KEu2SE74L"
      },
      "source": [
        "# Testes com os dados da Base de Dados"
      ]
    },
    {
      "cell_type": "code",
      "execution_count": 42,
      "metadata": {
        "id": "GU_kAnh4EbS3"
      },
      "outputs": [
        {
          "data": {
            "text/plain": [
              "SEXO\n",
              "Masculino    853\n",
              "Feminino     797\n",
              "Name: count, dtype: int64"
            ]
          },
          "execution_count": 42,
          "metadata": {},
          "output_type": "execute_result"
        }
      ],
      "source": [
        "# Frequencia absolunta\n",
        "dados.SEXO.value_counts()"
      ]
    },
    {
      "cell_type": "code",
      "execution_count": 43,
      "metadata": {
        "id": "q-JDpsCmE0U0"
      },
      "outputs": [
        {
          "data": {
            "text/plain": [
              "<Axes: xlabel='SEXO'>"
            ]
          },
          "execution_count": 43,
          "metadata": {},
          "output_type": "execute_result"
        },
        {
          "data": {
            "image/png": "[encoded data removed]",
            "text/plain": [
              "<Figure size 640x480 with 1 Axes>"
            ]
          },
          "metadata": {},
          "output_type": "display_data"
        }
      ],
      "source": [
        "# Gráfico de colunas\n",
        "dados.SEXO.value_counts().plot.bar()"
      ]
    },
    {
      "cell_type": "code",
      "execution_count": 44,
      "metadata": {
        "id": "JH8S-NL1E42d"
      },
      "outputs": [
        {
          "data": {
            "text/plain": [
              "<Axes: ylabel='count'>"
            ]
          },
          "execution_count": 44,
          "metadata": {},
          "output_type": "execute_result"
        },
        {
          "data": {
            "image/png": "[encoded data removed]",
            "text/plain": [
              "<Figure size 640x480 with 1 Axes>"
            ]
          },
          "metadata": {},
          "output_type": "display_data"
        }
      ],
      "source": [
        "# Gráfico de pizza\n",
        "dados.ALTO_RISCO.value_counts().plot.pie()"
      ]
    },
    {
      "cell_type": "code",
      "execution_count": 45,
      "metadata": {
        "id": "TWDn2eBQNXvm"
      },
      "outputs": [
        {
          "data": {
            "image/png": "[encoded data removed]",
            "text/plain": [
              "<Figure size 640x480 with 1 Axes>"
            ]
          },
          "metadata": {},
          "output_type": "display_data"
        }
      ],
      "source": [
        "# Gráfico de pizza - valores formatados\n",
        "\n",
        "dados.ALTO_RISCO.value_counts().plot.pie(autopct='%1.1f%%')\n",
        "\n",
        "# para salvar/preparar a figura (depois baixar)\n",
        "plt.savefig('Roteiro_QDS01_atividade4.jpg', format='jpg', dpi=300)"
      ]
    },
    {
      "cell_type": "code",
      "execution_count": null,
      "metadata": {},
      "outputs": [],
      "source": []
    }
  ],
  "metadata": {
    "colab": {
      "collapsed_sections": [
        "8r5UNIVOHkOE",
        "XQeVKsy5GqGT",
        "4rDNnskicprJ",
        "PjcILd1LHbLb"
      ],
      "provenance": []
    },
    "kernelspec": {
      "display_name": "Python 3",
      "name": "python3"
    },
    "language_info": {
      "codemirror_mode": {
        "name": "ipython",
        "version": 3
      },
      "file_extension": ".py",
      "mimetype": "text/x-python",
      "name": "python",
      "nbconvert_exporter": "python",
      "pygments_lexer": "ipython3",
      "version": "3.11.5"
    }
  },
  "nbformat": 4,
  "nbformat_minor": 0
}
