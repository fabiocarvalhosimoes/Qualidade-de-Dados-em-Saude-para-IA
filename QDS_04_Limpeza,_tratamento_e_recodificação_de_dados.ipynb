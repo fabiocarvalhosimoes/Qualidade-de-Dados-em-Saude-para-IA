{
  "cells": [
    {
      "cell_type": "markdown",
      "metadata": {
        "id": "PN7h6ENUBLv0"
      },
      "source": [
        "Centro de Inovação em Inteligência Artificial para a Saúde da UFMG\n",
        "\n",
        "**Curso de Qualidade de Dados em Saúde para IA**\n",
        "\n",
        "**Prof. Juliano Gaspar** - Faculdade de Medicina da UFMG\n",
        "\n",
        "**Aluno: Fábio C. Simões**\n",
        "\n",
        "Mais informações: https://ciia-saude.medicina.ufmg.br/"
      ]
    },
    {
      "cell_type": "markdown",
      "metadata": {
        "id": "H5QuO8kThm1U"
      },
      "source": [
        "# **Limpeza, tratamento e recodificação de Dados**\n",
        "\n",
        "* Análise da qualidade das variáveis numéricas\n",
        "* Recodificação de variáveis\n",
        "* Salvando a base de dados corrigida"
      ]
    },
    {
      "cell_type": "markdown",
      "metadata": {
        "id": "ny_9IQiHT0dM"
      },
      "source": [
        "# Abrir a base de dados"
      ]
    },
    {
      "cell_type": "code",
      "execution_count": 1,
      "metadata": {
        "id": "MB-IztkPQ4xa"
      },
      "outputs": [],
      "source": [
        "# Importar as bibliotecas para trabalhar com base de dados e gráficos\n",
        "import pandas as pd\n",
        "import matplotlib.pyplot as plt\n",
        "import seaborn as sns\n",
        "import numpy as np"
      ]
    },
    {
      "cell_type": "code",
      "execution_count": 2,
      "metadata": {
        "id": "mrsmPA5iUOSP"
      },
      "outputs": [
        {
          "name": "stdout",
          "output_type": "stream",
          "text": [
            "<class 'pandas.core.frame.DataFrame'>\n",
            "RangeIndex: 1709 entries, 0 to 1708\n",
            "Data columns (total 32 columns):\n",
            " #   Column              Non-Null Count  Dtype         \n",
            "---  ------              --------------  -----         \n",
            " 0   Unnamed: 0          1709 non-null   int64         \n",
            " 1   DT_INTERNACAO       1709 non-null   datetime64[ns]\n",
            " 2   DT_ALTA             1709 non-null   datetime64[ns]\n",
            " 3   DURACAO_INT         1709 non-null   float64       \n",
            " 4   GESTACOES           1709 non-null   int64         \n",
            " 5   PARTOS              1708 non-null   float64       \n",
            " 6   IG_OBSTETRA         1689 non-null   float64       \n",
            " 7   IG_PEDIATRA         1706 non-null   float64       \n",
            " 8   ALTO_RISCO          1709 non-null   object        \n",
            " 9   TIPO_PARTO          1709 non-null   int64         \n",
            " 10  HIPERTENSAO         1709 non-null   int64         \n",
            " 11  GEMELAR             1709 non-null   int64         \n",
            " 12  CESAREAS_PREVIAS    1702 non-null   float64       \n",
            " 13  EPISIOTOMIA         1709 non-null   int64         \n",
            " 14  ANALGESIA           1709 non-null   int64         \n",
            " 15  FORCEPS             1709 non-null   int64         \n",
            " 16  CM_LACERACAO_CANAL  1554 non-null   float64       \n",
            " 17  CM_UTI              1709 non-null   int64         \n",
            " 18  CM_INFECCAO         1709 non-null   int64         \n",
            " 19  CM_NEARMISS         1709 non-null   int64         \n",
            " 20  CM_TRANSFUSAO       1706 non-null   float64       \n",
            " 21  VIVO                1673 non-null   float64       \n",
            " 22  SEXO                1709 non-null   int64         \n",
            " 23  PESO_NASCER         1681 non-null   float64       \n",
            " 24  APGAR1              1651 non-null   float64       \n",
            " 25  APGAR5              1709 non-null   int64         \n",
            " 26  UTI_RN              1709 non-null   int64         \n",
            " 27  LIGADURACORDAO      1709 non-null   int64         \n",
            " 28  LC_MOTIVO           1709 non-null   int64         \n",
            " 29  EQUIPAMENTO_A       853 non-null    float64       \n",
            " 30  EQUIPAMENTO_B       1709 non-null   float64       \n",
            " 31  BAIRRO              1709 non-null   object        \n",
            "dtypes: datetime64[ns](2), float64(12), int64(16), object(2)\n",
            "memory usage: 427.4+ KB\n"
          ]
        }
      ],
      "source": [
        "# Endereço do arquivo com a base de dados\n",
        "arquivo = 'https://ftp.medicina.ufmg.br/cursosciia/qds/BD_PARTOS_corrigida.xlsx'\n",
        "\n",
        "# Ler todos os dados e colocar na variável dados\n",
        "dados = pd.read_excel(arquivo)\n",
        "\n",
        "# Mostrar destalhes/informações das variáveis importadas\n",
        "dados.info()"
      ]
    },
    {
      "cell_type": "code",
      "execution_count": 3,
      "metadata": {
        "id": "n_0s2K_KatXT"
      },
      "outputs": [
        {
          "data": {
            "text/html": [
              "<div>\n",
              "<style scoped>\n",
              "    .dataframe tbody tr th:only-of-type {\n",
              "        vertical-align: middle;\n",
              "    }\n",
              "\n",
              "    .dataframe tbody tr th {\n",
              "        vertical-align: top;\n",
              "    }\n",
              "\n",
              "    .dataframe thead th {\n",
              "        text-align: right;\n",
              "    }\n",
              "</style>\n",
              "<table border=\"1\" class=\"dataframe\">\n",
              "  <thead>\n",
              "    <tr style=\"text-align: right;\">\n",
              "      <th></th>\n",
              "      <th>Unnamed: 0</th>\n",
              "      <th>DT_INTERNACAO</th>\n",
              "      <th>DT_ALTA</th>\n",
              "      <th>DURACAO_INT</th>\n",
              "      <th>GESTACOES</th>\n",
              "      <th>PARTOS</th>\n",
              "      <th>IG_OBSTETRA</th>\n",
              "      <th>IG_PEDIATRA</th>\n",
              "      <th>ALTO_RISCO</th>\n",
              "      <th>TIPO_PARTO</th>\n",
              "      <th>...</th>\n",
              "      <th>SEXO</th>\n",
              "      <th>PESO_NASCER</th>\n",
              "      <th>APGAR1</th>\n",
              "      <th>APGAR5</th>\n",
              "      <th>UTI_RN</th>\n",
              "      <th>LIGADURACORDAO</th>\n",
              "      <th>LC_MOTIVO</th>\n",
              "      <th>EQUIPAMENTO_A</th>\n",
              "      <th>EQUIPAMENTO_B</th>\n",
              "      <th>BAIRRO</th>\n",
              "    </tr>\n",
              "  </thead>\n",
              "  <tbody>\n",
              "    <tr>\n",
              "      <th>0</th>\n",
              "      <td>0</td>\n",
              "      <td>2014-01-20</td>\n",
              "      <td>2014-01-21</td>\n",
              "      <td>0.768750</td>\n",
              "      <td>2</td>\n",
              "      <td>1.0</td>\n",
              "      <td>38.0</td>\n",
              "      <td>38.0</td>\n",
              "      <td>sim</td>\n",
              "      <td>1</td>\n",
              "      <td>...</td>\n",
              "      <td>1</td>\n",
              "      <td>3590.0</td>\n",
              "      <td>9.0</td>\n",
              "      <td>10</td>\n",
              "      <td>0</td>\n",
              "      <td>2</td>\n",
              "      <td>0</td>\n",
              "      <td>3405.0</td>\n",
              "      <td>3385.000000</td>\n",
              "      <td>Coqueiros</td>\n",
              "    </tr>\n",
              "    <tr>\n",
              "      <th>1</th>\n",
              "      <td>1</td>\n",
              "      <td>2014-05-21</td>\n",
              "      <td>2014-05-22</td>\n",
              "      <td>0.773611</td>\n",
              "      <td>1</td>\n",
              "      <td>0.0</td>\n",
              "      <td>36.0</td>\n",
              "      <td>36.0</td>\n",
              "      <td>sim</td>\n",
              "      <td>1</td>\n",
              "      <td>...</td>\n",
              "      <td>1</td>\n",
              "      <td>2660.0</td>\n",
              "      <td>9.0</td>\n",
              "      <td>9</td>\n",
              "      <td>0</td>\n",
              "      <td>1</td>\n",
              "      <td>0</td>\n",
              "      <td>2595.0</td>\n",
              "      <td>2570.000000</td>\n",
              "      <td>Nossa Senhora de Fátima</td>\n",
              "    </tr>\n",
              "    <tr>\n",
              "      <th>2</th>\n",
              "      <td>2</td>\n",
              "      <td>2014-04-13</td>\n",
              "      <td>2014-04-14</td>\n",
              "      <td>0.798611</td>\n",
              "      <td>2</td>\n",
              "      <td>1.0</td>\n",
              "      <td>39.0</td>\n",
              "      <td>39.0</td>\n",
              "      <td>não</td>\n",
              "      <td>1</td>\n",
              "      <td>...</td>\n",
              "      <td>2</td>\n",
              "      <td>3075.0</td>\n",
              "      <td>9.0</td>\n",
              "      <td>10</td>\n",
              "      <td>0</td>\n",
              "      <td>2</td>\n",
              "      <td>0</td>\n",
              "      <td>3910.0</td>\n",
              "      <td>3675.000000</td>\n",
              "      <td>São Lucas</td>\n",
              "    </tr>\n",
              "    <tr>\n",
              "      <th>3</th>\n",
              "      <td>3</td>\n",
              "      <td>2013-12-04</td>\n",
              "      <td>2013-12-05</td>\n",
              "      <td>0.807639</td>\n",
              "      <td>2</td>\n",
              "      <td>1.0</td>\n",
              "      <td>41.0</td>\n",
              "      <td>41.0</td>\n",
              "      <td>não</td>\n",
              "      <td>1</td>\n",
              "      <td>...</td>\n",
              "      <td>1</td>\n",
              "      <td>3505.0</td>\n",
              "      <td>9.0</td>\n",
              "      <td>10</td>\n",
              "      <td>0</td>\n",
              "      <td>2</td>\n",
              "      <td>0</td>\n",
              "      <td>3275.0</td>\n",
              "      <td>3300.000000</td>\n",
              "      <td>Jardim Vitória</td>\n",
              "    </tr>\n",
              "    <tr>\n",
              "      <th>4</th>\n",
              "      <td>4</td>\n",
              "      <td>2013-12-05</td>\n",
              "      <td>2013-12-06</td>\n",
              "      <td>0.815972</td>\n",
              "      <td>1</td>\n",
              "      <td>0.0</td>\n",
              "      <td>36.0</td>\n",
              "      <td>36.0</td>\n",
              "      <td>não</td>\n",
              "      <td>1</td>\n",
              "      <td>...</td>\n",
              "      <td>1</td>\n",
              "      <td>3405.0</td>\n",
              "      <td>5.0</td>\n",
              "      <td>8</td>\n",
              "      <td>0</td>\n",
              "      <td>1</td>\n",
              "      <td>0</td>\n",
              "      <td>620.0</td>\n",
              "      <td>3078.450462</td>\n",
              "      <td>Alto dos Pinheiros</td>\n",
              "    </tr>\n",
              "    <tr>\n",
              "      <th>...</th>\n",
              "      <td>...</td>\n",
              "      <td>...</td>\n",
              "      <td>...</td>\n",
              "      <td>...</td>\n",
              "      <td>...</td>\n",
              "      <td>...</td>\n",
              "      <td>...</td>\n",
              "      <td>...</td>\n",
              "      <td>...</td>\n",
              "      <td>...</td>\n",
              "      <td>...</td>\n",
              "      <td>...</td>\n",
              "      <td>...</td>\n",
              "      <td>...</td>\n",
              "      <td>...</td>\n",
              "      <td>...</td>\n",
              "      <td>...</td>\n",
              "      <td>...</td>\n",
              "      <td>...</td>\n",
              "      <td>...</td>\n",
              "      <td>...</td>\n",
              "    </tr>\n",
              "    <tr>\n",
              "      <th>1704</th>\n",
              "      <td>1704</td>\n",
              "      <td>2014-07-05</td>\n",
              "      <td>2014-08-12</td>\n",
              "      <td>37.604167</td>\n",
              "      <td>2</td>\n",
              "      <td>1.0</td>\n",
              "      <td>38.0</td>\n",
              "      <td>38.0</td>\n",
              "      <td>não</td>\n",
              "      <td>1</td>\n",
              "      <td>...</td>\n",
              "      <td>2</td>\n",
              "      <td>2940.0</td>\n",
              "      <td>9.0</td>\n",
              "      <td>9</td>\n",
              "      <td>0</td>\n",
              "      <td>1</td>\n",
              "      <td>0</td>\n",
              "      <td>NaN</td>\n",
              "      <td>3840.000000</td>\n",
              "      <td>Jardim Montanhês</td>\n",
              "    </tr>\n",
              "    <tr>\n",
              "      <th>1705</th>\n",
              "      <td>1705</td>\n",
              "      <td>2014-04-25</td>\n",
              "      <td>2014-06-10</td>\n",
              "      <td>45.618750</td>\n",
              "      <td>2</td>\n",
              "      <td>1.0</td>\n",
              "      <td>29.0</td>\n",
              "      <td>34.0</td>\n",
              "      <td>sim</td>\n",
              "      <td>2</td>\n",
              "      <td>...</td>\n",
              "      <td>1</td>\n",
              "      <td>1945.0</td>\n",
              "      <td>2.0</td>\n",
              "      <td>9</td>\n",
              "      <td>1</td>\n",
              "      <td>1</td>\n",
              "      <td>0</td>\n",
              "      <td>3000.0</td>\n",
              "      <td>2660.000000</td>\n",
              "      <td>Letícia</td>\n",
              "    </tr>\n",
              "    <tr>\n",
              "      <th>1706</th>\n",
              "      <td>1706</td>\n",
              "      <td>2013-11-04</td>\n",
              "      <td>2013-12-22</td>\n",
              "      <td>47.984028</td>\n",
              "      <td>2</td>\n",
              "      <td>1.0</td>\n",
              "      <td>26.0</td>\n",
              "      <td>32.0</td>\n",
              "      <td>sim</td>\n",
              "      <td>2</td>\n",
              "      <td>...</td>\n",
              "      <td>1</td>\n",
              "      <td>2275.0</td>\n",
              "      <td>7.0</td>\n",
              "      <td>9</td>\n",
              "      <td>1</td>\n",
              "      <td>1</td>\n",
              "      <td>0</td>\n",
              "      <td>NaN</td>\n",
              "      <td>2610.000000</td>\n",
              "      <td>São Lucas</td>\n",
              "    </tr>\n",
              "    <tr>\n",
              "      <th>1707</th>\n",
              "      <td>1707</td>\n",
              "      <td>2013-10-04</td>\n",
              "      <td>2013-11-28</td>\n",
              "      <td>54.895833</td>\n",
              "      <td>3</td>\n",
              "      <td>0.0</td>\n",
              "      <td>27.0</td>\n",
              "      <td>34.0</td>\n",
              "      <td>sim</td>\n",
              "      <td>2</td>\n",
              "      <td>...</td>\n",
              "      <td>1</td>\n",
              "      <td>2590.0</td>\n",
              "      <td>7.0</td>\n",
              "      <td>9</td>\n",
              "      <td>1</td>\n",
              "      <td>1</td>\n",
              "      <td>0</td>\n",
              "      <td>2660.0</td>\n",
              "      <td>2675.000000</td>\n",
              "      <td>Nossa Senhora de Fátima</td>\n",
              "    </tr>\n",
              "    <tr>\n",
              "      <th>1708</th>\n",
              "      <td>1708</td>\n",
              "      <td>2014-03-12</td>\n",
              "      <td>2014-05-14</td>\n",
              "      <td>62.537500</td>\n",
              "      <td>3</td>\n",
              "      <td>2.0</td>\n",
              "      <td>39.0</td>\n",
              "      <td>39.0</td>\n",
              "      <td>não</td>\n",
              "      <td>1</td>\n",
              "      <td>...</td>\n",
              "      <td>1</td>\n",
              "      <td>3190.0</td>\n",
              "      <td>9.0</td>\n",
              "      <td>10</td>\n",
              "      <td>0</td>\n",
              "      <td>1</td>\n",
              "      <td>0</td>\n",
              "      <td>4920.0</td>\n",
              "      <td>3078.450462</td>\n",
              "      <td>Vera Cruz</td>\n",
              "    </tr>\n",
              "  </tbody>\n",
              "</table>\n",
              "<p>1709 rows × 32 columns</p>\n",
              "</div>"
            ],
            "text/plain": [
              "      Unnamed: 0 DT_INTERNACAO    DT_ALTA  DURACAO_INT  GESTACOES  PARTOS  \\\n",
              "0              0    2014-01-20 2014-01-21     0.768750          2     1.0   \n",
              "1              1    2014-05-21 2014-05-22     0.773611          1     0.0   \n",
              "2              2    2014-04-13 2014-04-14     0.798611          2     1.0   \n",
              "3              3    2013-12-04 2013-12-05     0.807639          2     1.0   \n",
              "4              4    2013-12-05 2013-12-06     0.815972          1     0.0   \n",
              "...          ...           ...        ...          ...        ...     ...   \n",
              "1704        1704    2014-07-05 2014-08-12    37.604167          2     1.0   \n",
              "1705        1705    2014-04-25 2014-06-10    45.618750          2     1.0   \n",
              "1706        1706    2013-11-04 2013-12-22    47.984028          2     1.0   \n",
              "1707        1707    2013-10-04 2013-11-28    54.895833          3     0.0   \n",
              "1708        1708    2014-03-12 2014-05-14    62.537500          3     2.0   \n",
              "\n",
              "      IG_OBSTETRA  IG_PEDIATRA ALTO_RISCO  TIPO_PARTO  ...  SEXO  PESO_NASCER  \\\n",
              "0            38.0         38.0        sim           1  ...     1       3590.0   \n",
              "1            36.0         36.0        sim           1  ...     1       2660.0   \n",
              "2            39.0         39.0        não           1  ...     2       3075.0   \n",
              "3            41.0         41.0        não           1  ...     1       3505.0   \n",
              "4            36.0         36.0        não           1  ...     1       3405.0   \n",
              "...           ...          ...        ...         ...  ...   ...          ...   \n",
              "1704         38.0         38.0        não           1  ...     2       2940.0   \n",
              "1705         29.0         34.0        sim           2  ...     1       1945.0   \n",
              "1706         26.0         32.0        sim           2  ...     1       2275.0   \n",
              "1707         27.0         34.0        sim           2  ...     1       2590.0   \n",
              "1708         39.0         39.0        não           1  ...     1       3190.0   \n",
              "\n",
              "      APGAR1  APGAR5  UTI_RN  LIGADURACORDAO  LC_MOTIVO  EQUIPAMENTO_A  \\\n",
              "0        9.0      10       0               2          0         3405.0   \n",
              "1        9.0       9       0               1          0         2595.0   \n",
              "2        9.0      10       0               2          0         3910.0   \n",
              "3        9.0      10       0               2          0         3275.0   \n",
              "4        5.0       8       0               1          0          620.0   \n",
              "...      ...     ...     ...             ...        ...            ...   \n",
              "1704     9.0       9       0               1          0            NaN   \n",
              "1705     2.0       9       1               1          0         3000.0   \n",
              "1706     7.0       9       1               1          0            NaN   \n",
              "1707     7.0       9       1               1          0         2660.0   \n",
              "1708     9.0      10       0               1          0         4920.0   \n",
              "\n",
              "      EQUIPAMENTO_B                   BAIRRO  \n",
              "0       3385.000000                Coqueiros  \n",
              "1       2570.000000  Nossa Senhora de Fátima  \n",
              "2       3675.000000                São Lucas  \n",
              "3       3300.000000           Jardim Vitória  \n",
              "4       3078.450462       Alto dos Pinheiros  \n",
              "...             ...                      ...  \n",
              "1704    3840.000000         Jardim Montanhês  \n",
              "1705    2660.000000                  Letícia  \n",
              "1706    2610.000000                São Lucas  \n",
              "1707    2675.000000  Nossa Senhora de Fátima  \n",
              "1708    3078.450462                Vera Cruz  \n",
              "\n",
              "[1709 rows x 32 columns]"
            ]
          },
          "execution_count": 3,
          "metadata": {},
          "output_type": "execute_result"
        }
      ],
      "source": [
        "# Mostrar um resumo dos dados (as 5 primeiras linhas e 5 últimas 5 linhas)\n",
        "dados"
      ]
    },
    {
      "cell_type": "markdown",
      "metadata": {
        "id": "jcbGdKr7u8dl"
      },
      "source": [
        "# Análise da qualidade das variáveis numéricas - (análise descritiva)"
      ]
    },
    {
      "cell_type": "code",
      "execution_count": 4,
      "metadata": {
        "id": "P-MQCq8WXn8U"
      },
      "outputs": [
        {
          "data": {
            "text/html": [
              "<div>\n",
              "<style scoped>\n",
              "    .dataframe tbody tr th:only-of-type {\n",
              "        vertical-align: middle;\n",
              "    }\n",
              "\n",
              "    .dataframe tbody tr th {\n",
              "        vertical-align: top;\n",
              "    }\n",
              "\n",
              "    .dataframe thead th {\n",
              "        text-align: right;\n",
              "    }\n",
              "</style>\n",
              "<table border=\"1\" class=\"dataframe\">\n",
              "  <thead>\n",
              "    <tr style=\"text-align: right;\">\n",
              "      <th></th>\n",
              "      <th>Unnamed: 0</th>\n",
              "      <th>DT_INTERNACAO</th>\n",
              "      <th>DT_ALTA</th>\n",
              "      <th>DURACAO_INT</th>\n",
              "      <th>GESTACOES</th>\n",
              "      <th>PARTOS</th>\n",
              "      <th>IG_OBSTETRA</th>\n",
              "      <th>IG_PEDIATRA</th>\n",
              "      <th>TIPO_PARTO</th>\n",
              "      <th>HIPERTENSAO</th>\n",
              "      <th>...</th>\n",
              "      <th>VIVO</th>\n",
              "      <th>SEXO</th>\n",
              "      <th>PESO_NASCER</th>\n",
              "      <th>APGAR1</th>\n",
              "      <th>APGAR5</th>\n",
              "      <th>UTI_RN</th>\n",
              "      <th>LIGADURACORDAO</th>\n",
              "      <th>LC_MOTIVO</th>\n",
              "      <th>EQUIPAMENTO_A</th>\n",
              "      <th>EQUIPAMENTO_B</th>\n",
              "    </tr>\n",
              "  </thead>\n",
              "  <tbody>\n",
              "    <tr>\n",
              "      <th>count</th>\n",
              "      <td>1709.000000</td>\n",
              "      <td>1709</td>\n",
              "      <td>1709</td>\n",
              "      <td>1709.000000</td>\n",
              "      <td>1709.000000</td>\n",
              "      <td>1708.000000</td>\n",
              "      <td>1689.000000</td>\n",
              "      <td>1706.000000</td>\n",
              "      <td>1709.000000</td>\n",
              "      <td>1709.000000</td>\n",
              "      <td>...</td>\n",
              "      <td>1673.000000</td>\n",
              "      <td>1709.00000</td>\n",
              "      <td>1681.000000</td>\n",
              "      <td>1651.000000</td>\n",
              "      <td>1709.000000</td>\n",
              "      <td>1709.000000</td>\n",
              "      <td>1709.000000</td>\n",
              "      <td>1709.000000</td>\n",
              "      <td>853.000000</td>\n",
              "      <td>1709.000000</td>\n",
              "    </tr>\n",
              "    <tr>\n",
              "      <th>mean</th>\n",
              "      <td>854.000000</td>\n",
              "      <td>2014-03-16 04:27:06.214160128</td>\n",
              "      <td>2014-03-19 06:49:30.157986816</td>\n",
              "      <td>3.019051</td>\n",
              "      <td>2.174371</td>\n",
              "      <td>0.953162</td>\n",
              "      <td>37.857904</td>\n",
              "      <td>37.941970</td>\n",
              "      <td>1.382095</td>\n",
              "      <td>0.130486</td>\n",
              "      <td>...</td>\n",
              "      <td>0.981470</td>\n",
              "      <td>1.44880</td>\n",
              "      <td>2977.876859</td>\n",
              "      <td>8.011508</td>\n",
              "      <td>8.851375</td>\n",
              "      <td>0.143944</td>\n",
              "      <td>1.583382</td>\n",
              "      <td>0.074898</td>\n",
              "      <td>3082.961313</td>\n",
              "      <td>3078.450462</td>\n",
              "    </tr>\n",
              "    <tr>\n",
              "      <th>min</th>\n",
              "      <td>0.000000</td>\n",
              "      <td>2013-09-27 00:00:00</td>\n",
              "      <td>2013-09-29 00:00:00</td>\n",
              "      <td>0.768750</td>\n",
              "      <td>1.000000</td>\n",
              "      <td>0.000000</td>\n",
              "      <td>0.000000</td>\n",
              "      <td>9.000000</td>\n",
              "      <td>1.000000</td>\n",
              "      <td>0.000000</td>\n",
              "      <td>...</td>\n",
              "      <td>0.000000</td>\n",
              "      <td>0.00000</td>\n",
              "      <td>270.000000</td>\n",
              "      <td>0.000000</td>\n",
              "      <td>0.000000</td>\n",
              "      <td>0.000000</td>\n",
              "      <td>0.000000</td>\n",
              "      <td>0.000000</td>\n",
              "      <td>410.000000</td>\n",
              "      <td>1990.000000</td>\n",
              "    </tr>\n",
              "    <tr>\n",
              "      <th>25%</th>\n",
              "      <td>427.000000</td>\n",
              "      <td>2013-12-16 00:00:00</td>\n",
              "      <td>2013-12-19 00:00:00</td>\n",
              "      <td>1.606250</td>\n",
              "      <td>1.000000</td>\n",
              "      <td>0.000000</td>\n",
              "      <td>37.000000</td>\n",
              "      <td>37.000000</td>\n",
              "      <td>1.000000</td>\n",
              "      <td>0.000000</td>\n",
              "      <td>...</td>\n",
              "      <td>1.000000</td>\n",
              "      <td>1.00000</td>\n",
              "      <td>2710.000000</td>\n",
              "      <td>8.000000</td>\n",
              "      <td>9.000000</td>\n",
              "      <td>0.000000</td>\n",
              "      <td>1.000000</td>\n",
              "      <td>0.000000</td>\n",
              "      <td>2785.000000</td>\n",
              "      <td>2830.000000</td>\n",
              "    </tr>\n",
              "    <tr>\n",
              "      <th>50%</th>\n",
              "      <td>854.000000</td>\n",
              "      <td>2014-03-05 00:00:00</td>\n",
              "      <td>2014-03-08 00:00:00</td>\n",
              "      <td>2.070833</td>\n",
              "      <td>2.000000</td>\n",
              "      <td>1.000000</td>\n",
              "      <td>39.000000</td>\n",
              "      <td>39.000000</td>\n",
              "      <td>1.000000</td>\n",
              "      <td>0.000000</td>\n",
              "      <td>...</td>\n",
              "      <td>1.000000</td>\n",
              "      <td>1.00000</td>\n",
              "      <td>3065.000000</td>\n",
              "      <td>9.000000</td>\n",
              "      <td>9.000000</td>\n",
              "      <td>0.000000</td>\n",
              "      <td>2.000000</td>\n",
              "      <td>0.000000</td>\n",
              "      <td>3130.000000</td>\n",
              "      <td>3078.450462</td>\n",
              "    </tr>\n",
              "    <tr>\n",
              "      <th>75%</th>\n",
              "      <td>1281.000000</td>\n",
              "      <td>2014-05-29 00:00:00</td>\n",
              "      <td>2014-06-02 00:00:00</td>\n",
              "      <td>2.852778</td>\n",
              "      <td>3.000000</td>\n",
              "      <td>1.000000</td>\n",
              "      <td>40.000000</td>\n",
              "      <td>40.000000</td>\n",
              "      <td>2.000000</td>\n",
              "      <td>0.000000</td>\n",
              "      <td>...</td>\n",
              "      <td>1.000000</td>\n",
              "      <td>2.00000</td>\n",
              "      <td>3390.000000</td>\n",
              "      <td>9.000000</td>\n",
              "      <td>10.000000</td>\n",
              "      <td>0.000000</td>\n",
              "      <td>2.000000</td>\n",
              "      <td>0.000000</td>\n",
              "      <td>3360.000000</td>\n",
              "      <td>3335.000000</td>\n",
              "    </tr>\n",
              "    <tr>\n",
              "      <th>max</th>\n",
              "      <td>1708.000000</td>\n",
              "      <td>2014-10-31 00:00:00</td>\n",
              "      <td>2014-11-17 00:00:00</td>\n",
              "      <td>62.537500</td>\n",
              "      <td>17.000000</td>\n",
              "      <td>10.000000</td>\n",
              "      <td>42.000000</td>\n",
              "      <td>42.000000</td>\n",
              "      <td>2.000000</td>\n",
              "      <td>1.000000</td>\n",
              "      <td>...</td>\n",
              "      <td>1.000000</td>\n",
              "      <td>3.00000</td>\n",
              "      <td>5625.000000</td>\n",
              "      <td>10.000000</td>\n",
              "      <td>10.000000</td>\n",
              "      <td>1.000000</td>\n",
              "      <td>2.000000</td>\n",
              "      <td>3.000000</td>\n",
              "      <td>5290.000000</td>\n",
              "      <td>4125.000000</td>\n",
              "    </tr>\n",
              "    <tr>\n",
              "      <th>std</th>\n",
              "      <td>493.490121</td>\n",
              "      <td>NaN</td>\n",
              "      <td>NaN</td>\n",
              "      <td>4.320177</td>\n",
              "      <td>1.448984</td>\n",
              "      <td>1.226598</td>\n",
              "      <td>3.436104</td>\n",
              "      <td>3.189908</td>\n",
              "      <td>0.486042</td>\n",
              "      <td>0.336936</td>\n",
              "      <td>...</td>\n",
              "      <td>0.134897</td>\n",
              "      <td>0.56164</td>\n",
              "      <td>690.987646</td>\n",
              "      <td>1.863653</td>\n",
              "      <td>2.066552</td>\n",
              "      <td>0.351136</td>\n",
              "      <td>0.606062</td>\n",
              "      <td>0.437159</td>\n",
              "      <td>626.188775</td>\n",
              "      <td>422.334424</td>\n",
              "    </tr>\n",
              "  </tbody>\n",
              "</table>\n",
              "<p>8 rows × 30 columns</p>\n",
              "</div>"
            ],
            "text/plain": [
              "        Unnamed: 0                  DT_INTERNACAO  \\\n",
              "count  1709.000000                           1709   \n",
              "mean    854.000000  2014-03-16 04:27:06.214160128   \n",
              "min       0.000000            2013-09-27 00:00:00   \n",
              "25%     427.000000            2013-12-16 00:00:00   \n",
              "50%     854.000000            2014-03-05 00:00:00   \n",
              "75%    1281.000000            2014-05-29 00:00:00   \n",
              "max    1708.000000            2014-10-31 00:00:00   \n",
              "std     493.490121                            NaN   \n",
              "\n",
              "                             DT_ALTA  DURACAO_INT    GESTACOES       PARTOS  \\\n",
              "count                           1709  1709.000000  1709.000000  1708.000000   \n",
              "mean   2014-03-19 06:49:30.157986816     3.019051     2.174371     0.953162   \n",
              "min              2013-09-29 00:00:00     0.768750     1.000000     0.000000   \n",
              "25%              2013-12-19 00:00:00     1.606250     1.000000     0.000000   \n",
              "50%              2014-03-08 00:00:00     2.070833     2.000000     1.000000   \n",
              "75%              2014-06-02 00:00:00     2.852778     3.000000     1.000000   \n",
              "max              2014-11-17 00:00:00    62.537500    17.000000    10.000000   \n",
              "std                              NaN     4.320177     1.448984     1.226598   \n",
              "\n",
              "       IG_OBSTETRA  IG_PEDIATRA   TIPO_PARTO  HIPERTENSAO  ...         VIVO  \\\n",
              "count  1689.000000  1706.000000  1709.000000  1709.000000  ...  1673.000000   \n",
              "mean     37.857904    37.941970     1.382095     0.130486  ...     0.981470   \n",
              "min       0.000000     9.000000     1.000000     0.000000  ...     0.000000   \n",
              "25%      37.000000    37.000000     1.000000     0.000000  ...     1.000000   \n",
              "50%      39.000000    39.000000     1.000000     0.000000  ...     1.000000   \n",
              "75%      40.000000    40.000000     2.000000     0.000000  ...     1.000000   \n",
              "max      42.000000    42.000000     2.000000     1.000000  ...     1.000000   \n",
              "std       3.436104     3.189908     0.486042     0.336936  ...     0.134897   \n",
              "\n",
              "             SEXO  PESO_NASCER       APGAR1       APGAR5       UTI_RN  \\\n",
              "count  1709.00000  1681.000000  1651.000000  1709.000000  1709.000000   \n",
              "mean      1.44880  2977.876859     8.011508     8.851375     0.143944   \n",
              "min       0.00000   270.000000     0.000000     0.000000     0.000000   \n",
              "25%       1.00000  2710.000000     8.000000     9.000000     0.000000   \n",
              "50%       1.00000  3065.000000     9.000000     9.000000     0.000000   \n",
              "75%       2.00000  3390.000000     9.000000    10.000000     0.000000   \n",
              "max       3.00000  5625.000000    10.000000    10.000000     1.000000   \n",
              "std       0.56164   690.987646     1.863653     2.066552     0.351136   \n",
              "\n",
              "       LIGADURACORDAO    LC_MOTIVO  EQUIPAMENTO_A  EQUIPAMENTO_B  \n",
              "count     1709.000000  1709.000000     853.000000    1709.000000  \n",
              "mean         1.583382     0.074898    3082.961313    3078.450462  \n",
              "min          0.000000     0.000000     410.000000    1990.000000  \n",
              "25%          1.000000     0.000000    2785.000000    2830.000000  \n",
              "50%          2.000000     0.000000    3130.000000    3078.450462  \n",
              "75%          2.000000     0.000000    3360.000000    3335.000000  \n",
              "max          2.000000     3.000000    5290.000000    4125.000000  \n",
              "std          0.606062     0.437159     626.188775     422.334424  \n",
              "\n",
              "[8 rows x 30 columns]"
            ]
          },
          "execution_count": 4,
          "metadata": {},
          "output_type": "execute_result"
        }
      ],
      "source": [
        "# Resumo descritivo das colunas numéricas\n",
        "# Observação: que o Python entendeu como númerica na importação\n",
        "dados.describe()"
      ]
    },
    {
      "cell_type": "markdown",
      "metadata": {
        "id": "Yk--I6YrSqSi"
      },
      "source": [
        "Função para conveter tipos de uma coluna em outro (float => int), só é possível se não houver NAN (vazios, missings, nulos)\n",
        "\n",
        "dados.PARTOS = dados.PARTOS.apply(np.int64)"
      ]
    },
    {
      "cell_type": "markdown",
      "metadata": {
        "id": "ca3uNt92rAN4"
      },
      "source": [
        "**Numéricas discretas**"
      ]
    },
    {
      "cell_type": "code",
      "execution_count": 5,
      "metadata": {
        "id": "8gPDzzRtk0FF"
      },
      "outputs": [
        {
          "data": {
            "text/plain": [
              "count    1709.000000\n",
              "mean        2.174371\n",
              "std         1.448984\n",
              "min         1.000000\n",
              "25%         1.000000\n",
              "50%         2.000000\n",
              "75%         3.000000\n",
              "max        17.000000\n",
              "Name: GESTACOES, dtype: float64"
            ]
          },
          "execution_count": 5,
          "metadata": {},
          "output_type": "execute_result"
        }
      ],
      "source": [
        "# GESTACOES\n",
        "# Explorar medidas resumo - (média, desvio padrão, mínimo, 1º quartil, mediana, 3º quartil, máximo)\n",
        "dados.GESTACOES.describe()"
      ]
    },
    {
      "cell_type": "code",
      "execution_count": 6,
      "metadata": {
        "id": "5A408YfEctP1"
      },
      "outputs": [
        {
          "data": {
            "text/plain": [
              "GESTACOES\n",
              "1     687\n",
              "2     520\n",
              "3     251\n",
              "4     130\n",
              "5      62\n",
              "6      38\n",
              "7      12\n",
              "8       3\n",
              "9       2\n",
              "11      2\n",
              "17      1\n",
              "13      1\n",
              "Name: count, dtype: int64"
            ]
          },
          "execution_count": 6,
          "metadata": {},
          "output_type": "execute_result"
        }
      ],
      "source": [
        "# Contando a quantidade de casos\n",
        "dados.GESTACOES.value_counts()"
      ]
    },
    {
      "cell_type": "code",
      "execution_count": 7,
      "metadata": {
        "id": "Qrbu96L7lvun"
      },
      "outputs": [
        {
          "data": {
            "text/plain": [
              "<Axes: xlabel='GESTACOES', ylabel='Count'>"
            ]
          },
          "execution_count": 7,
          "metadata": {},
          "output_type": "execute_result"
        },
        {
          "data": {
            "image/png": "[encoded data removed]",
            "text/plain": [
              "<Figure size 640x480 with 1 Axes>"
            ]
          },
          "metadata": {},
          "output_type": "display_data"
        }
      ],
      "source": [
        "# Histograma\n",
        "sns.histplot(dados.GESTACOES)"
      ]
    },
    {
      "cell_type": "code",
      "execution_count": 8,
      "metadata": {
        "id": "yOTNTb8hqhbV"
      },
      "outputs": [
        {
          "data": {
            "text/plain": [
              "count    1708.000000\n",
              "mean        0.953162\n",
              "std         1.226598\n",
              "min         0.000000\n",
              "25%         0.000000\n",
              "50%         1.000000\n",
              "75%         1.000000\n",
              "max        10.000000\n",
              "Name: PARTOS, dtype: float64"
            ]
          },
          "execution_count": 8,
          "metadata": {},
          "output_type": "execute_result"
        }
      ],
      "source": [
        "# PARTOS\n",
        "# Explorar medidas resumo - (média, desvio padrão, mínimo, 1º quartil, mediana, 3º quartil, máximo)\n",
        "dados.PARTOS.describe()"
      ]
    },
    {
      "cell_type": "code",
      "execution_count": 9,
      "metadata": {
        "id": "1I7m0V8DqhYA"
      },
      "outputs": [
        {
          "data": {
            "text/plain": [
              "PARTOS\n",
              "0.0     780\n",
              "1.0     523\n",
              "2.0     242\n",
              "3.0      92\n",
              "4.0      38\n",
              "5.0      21\n",
              "6.0       4\n",
              "7.0       4\n",
              "8.0       2\n",
              "10.0      2\n",
              "Name: count, dtype: int64"
            ]
          },
          "execution_count": 9,
          "metadata": {},
          "output_type": "execute_result"
        }
      ],
      "source": [
        "# Contando a quantidade de casos\n",
        "dados.PARTOS.value_counts()"
      ]
    },
    {
      "cell_type": "code",
      "execution_count": 10,
      "metadata": {
        "id": "tHM-mlvBqhUo"
      },
      "outputs": [
        {
          "data": {
            "text/plain": [
              "<Axes: xlabel='PARTOS', ylabel='Count'>"
            ]
          },
          "execution_count": 10,
          "metadata": {},
          "output_type": "execute_result"
        },
        {
          "data": {
            "image/png": "[encoded data removed]",
            "text/plain": [
              "<Figure size 640x480 with 1 Axes>"
            ]
          },
          "metadata": {},
          "output_type": "display_data"
        }
      ],
      "source": [
        "# Histograma\n",
        "sns.histplot(dados.PARTOS)"
      ]
    },
    {
      "cell_type": "code",
      "execution_count": 11,
      "metadata": {
        "id": "E_V1Ynk9qhRM"
      },
      "outputs": [
        {
          "data": {
            "text/plain": [
              "count    1702.000000\n",
              "mean        0.262045\n",
              "std         0.600376\n",
              "min         0.000000\n",
              "25%         0.000000\n",
              "50%         0.000000\n",
              "75%         0.000000\n",
              "max         5.000000\n",
              "Name: CESAREAS_PREVIAS, dtype: float64"
            ]
          },
          "execution_count": 11,
          "metadata": {},
          "output_type": "execute_result"
        }
      ],
      "source": [
        "# CESAREAS_PREVIAS\n",
        "# Explorar medidas resumo - (média, desvio padrão, mínimo, 1º quartil, mediana, 3º quartil, máximo)\n",
        "dados.CESAREAS_PREVIAS.describe()"
      ]
    },
    {
      "cell_type": "code",
      "execution_count": 12,
      "metadata": {
        "id": "clPudFwCrT2n"
      },
      "outputs": [
        {
          "data": {
            "text/plain": [
              "CESAREAS_PREVIAS\n",
              "0.0    1364\n",
              "1.0     255\n",
              "2.0      66\n",
              "3.0      10\n",
              "4.0       6\n",
              "5.0       1\n",
              "Name: count, dtype: int64"
            ]
          },
          "execution_count": 12,
          "metadata": {},
          "output_type": "execute_result"
        }
      ],
      "source": [
        "# Contando a quantidade de casos\n",
        "dados.CESAREAS_PREVIAS.value_counts()"
      ]
    },
    {
      "cell_type": "code",
      "execution_count": 13,
      "metadata": {
        "id": "xEdDlsd5rTuI"
      },
      "outputs": [
        {
          "data": {
            "text/plain": [
              "<Axes: xlabel='CESAREAS_PREVIAS', ylabel='Count'>"
            ]
          },
          "execution_count": 13,
          "metadata": {},
          "output_type": "execute_result"
        },
        {
          "data": {
            "image/png": "[encoded data removed]",
            "text/plain": [
              "<Figure size 640x480 with 1 Axes>"
            ]
          },
          "metadata": {},
          "output_type": "display_data"
        }
      ],
      "source": [
        "# Histograma\n",
        "sns.histplot(dados.CESAREAS_PREVIAS)"
      ]
    },
    {
      "cell_type": "markdown",
      "metadata": {
        "id": "O4WiYyLasCWI"
      },
      "source": [
        "**Numéricas discretas - com faixa de valores muito grandes**"
      ]
    },
    {
      "cell_type": "code",
      "execution_count": 14,
      "metadata": {
        "id": "UOl3W9zek5pz"
      },
      "outputs": [
        {
          "data": {
            "text/plain": [
              "count    1681.000000\n",
              "mean     2977.876859\n",
              "std       690.987646\n",
              "min       270.000000\n",
              "25%      2710.000000\n",
              "50%      3065.000000\n",
              "75%      3390.000000\n",
              "max      5625.000000\n",
              "Name: PESO_NASCER, dtype: float64"
            ]
          },
          "execution_count": 14,
          "metadata": {},
          "output_type": "execute_result"
        }
      ],
      "source": [
        "# PESO_NASCER\n",
        "# Explorar medidas resumo - (média, desvio padrão, mínimo, 1º quartil, mediana, 3º quartil, máximo)\n",
        "dados.PESO_NASCER.describe()"
      ]
    },
    {
      "cell_type": "code",
      "execution_count": 15,
      "metadata": {
        "id": "R4W8mhqcmn6L"
      },
      "outputs": [
        {
          "data": {
            "text/plain": [
              "<Axes: xlabel='PESO_NASCER', ylabel='Count'>"
            ]
          },
          "execution_count": 15,
          "metadata": {},
          "output_type": "execute_result"
        },
        {
          "data": {
            "image/png": "[encoded data removed]",
            "text/plain": [
              "<Figure size 640x480 with 1 Axes>"
            ]
          },
          "metadata": {},
          "output_type": "display_data"
        }
      ],
      "source": [
        "# Histograma\n",
        "sns.histplot(dados.PESO_NASCER)"
      ]
    },
    {
      "cell_type": "code",
      "execution_count": 16,
      "metadata": {
        "id": "w2rQedVelSa6"
      },
      "outputs": [
        {
          "data": {
            "text/plain": [
              "count    1689.000000\n",
              "mean       37.857904\n",
              "std         3.436104\n",
              "min         0.000000\n",
              "25%        37.000000\n",
              "50%        39.000000\n",
              "75%        40.000000\n",
              "max        42.000000\n",
              "Name: IG_OBSTETRA, dtype: float64"
            ]
          },
          "execution_count": 16,
          "metadata": {},
          "output_type": "execute_result"
        }
      ],
      "source": [
        "# IG_OBSTETRA\n",
        "# Explorar medidas resumo - (média, desvio padrão, mínimo, 1º quartil, mediana, 3º quartil, máximo)\n",
        "dados.IG_OBSTETRA.describe()"
      ]
    },
    {
      "cell_type": "code",
      "execution_count": 17,
      "metadata": {
        "id": "mA_Dwn2NnCkl"
      },
      "outputs": [
        {
          "data": {
            "text/plain": [
              "<Axes: xlabel='IG_OBSTETRA', ylabel='Count'>"
            ]
          },
          "execution_count": 17,
          "metadata": {},
          "output_type": "execute_result"
        },
        {
          "data": {
            "image/png": "[encoded data removed]",
            "text/plain": [
              "<Figure size 640x480 with 1 Axes>"
            ]
          },
          "metadata": {},
          "output_type": "display_data"
        }
      ],
      "source": [
        "# Histograma\n",
        "sns.histplot(dados.IG_OBSTETRA)"
      ]
    },
    {
      "cell_type": "code",
      "execution_count": 18,
      "metadata": {
        "id": "yxHIFuP-nUEi"
      },
      "outputs": [
        {
          "data": {
            "text/plain": [
              "IG_OBSTETRA\n",
              "39.0    433\n",
              "40.0    311\n",
              "38.0    302\n",
              "41.0    177\n",
              "37.0    168\n",
              "36.0     80\n",
              "35.0     49\n",
              "34.0     37\n",
              "33.0     26\n",
              "32.0     16\n",
              "29.0     13\n",
              "31.0     11\n",
              "30.0      9\n",
              "26.0      9\n",
              "27.0      8\n",
              "23.0      8\n",
              "22.0      7\n",
              "25.0      6\n",
              "28.0      6\n",
              "24.0      5\n",
              "42.0      5\n",
              "0.0       2\n",
              "19.0      1\n",
              "Name: count, dtype: int64"
            ]
          },
          "execution_count": 18,
          "metadata": {},
          "output_type": "execute_result"
        }
      ],
      "source": [
        "#  Limpeza de dados - 2 casos com IG = 0\n",
        "dados.IG_OBSTETRA.value_counts()"
      ]
    },
    {
      "cell_type": "code",
      "execution_count": 19,
      "metadata": {
        "id": "vwvuUCNpnT4J"
      },
      "outputs": [
        {
          "data": {
            "text/plain": [
              "count    1687.000000\n",
              "mean       37.902786\n",
              "std         3.180984\n",
              "min        19.000000\n",
              "25%        37.000000\n",
              "50%        39.000000\n",
              "75%        40.000000\n",
              "max        42.000000\n",
              "Name: IG_OBSTETRA, dtype: float64"
            ]
          },
          "execution_count": 19,
          "metadata": {},
          "output_type": "execute_result"
        }
      ],
      "source": [
        "#  Limpeza de dados\n",
        "#  Preencher com null (nan) os valores 0\n",
        "dados.IG_OBSTETRA.replace(0, np.nan, inplace=True)\n",
        "\n",
        "dados.IG_OBSTETRA.describe()"
      ]
    },
    {
      "cell_type": "code",
      "execution_count": 20,
      "metadata": {
        "id": "SFswLzwOnxjL"
      },
      "outputs": [
        {
          "data": {
            "text/plain": [
              "<Axes: xlabel='IG_OBSTETRA', ylabel='Count'>"
            ]
          },
          "execution_count": 20,
          "metadata": {},
          "output_type": "execute_result"
        },
        {
          "data": {
            "image/png": "[encoded data removed]",
            "text/plain": [
              "<Figure size 640x480 with 1 Axes>"
            ]
          },
          "metadata": {},
          "output_type": "display_data"
        }
      ],
      "source": [
        "# Histograma\n",
        "sns.histplot(dados.IG_OBSTETRA)"
      ]
    },
    {
      "cell_type": "code",
      "execution_count": 21,
      "metadata": {
        "id": "4ptycWDrsTeN"
      },
      "outputs": [
        {
          "data": {
            "text/plain": [
              "count    1706.000000\n",
              "mean       37.941970\n",
              "std         3.189908\n",
              "min         9.000000\n",
              "25%        37.000000\n",
              "50%        39.000000\n",
              "75%        40.000000\n",
              "max        42.000000\n",
              "Name: IG_PEDIATRA, dtype: float64"
            ]
          },
          "execution_count": 21,
          "metadata": {},
          "output_type": "execute_result"
        }
      ],
      "source": [
        "# IG_PEDIATRA\n",
        "# Explorar medidas resumo - (média, desvio padrão, mínimo, 1º quartil, mediana, 3º quartil, máximo)\n",
        "dados.IG_PEDIATRA.describe()"
      ]
    },
    {
      "cell_type": "code",
      "execution_count": 22,
      "metadata": {
        "id": "3hGl6EhWsTZz"
      },
      "outputs": [
        {
          "data": {
            "text/plain": [
              "<Axes: xlabel='IG_PEDIATRA', ylabel='Count'>"
            ]
          },
          "execution_count": 22,
          "metadata": {},
          "output_type": "execute_result"
        },
        {
          "data": {
            "image/png": "[encoded data removed]",
            "text/plain": [
              "<Figure size 640x480 with 1 Axes>"
            ]
          },
          "metadata": {},
          "output_type": "display_data"
        }
      ],
      "source": [
        "# Histograma\n",
        "sns.histplot(dados.IG_PEDIATRA)"
      ]
    },
    {
      "cell_type": "code",
      "execution_count": 23,
      "metadata": {
        "id": "IovKoYNNsTWA"
      },
      "outputs": [
        {
          "data": {
            "text/plain": [
              "IG_PEDIATRA\n",
              "39.0    436\n",
              "40.0    323\n",
              "38.0    317\n",
              "41.0    176\n",
              "37.0    173\n",
              "36.0     76\n",
              "35.0     44\n",
              "34.0     43\n",
              "33.0     24\n",
              "32.0     13\n",
              "30.0     11\n",
              "31.0     10\n",
              "29.0      8\n",
              "26.0      8\n",
              "27.0      8\n",
              "22.0      7\n",
              "28.0      7\n",
              "23.0      7\n",
              "24.0      5\n",
              "42.0      3\n",
              "25.0      3\n",
              "20.0      2\n",
              "9.0       1\n",
              "19.0      1\n",
              "Name: count, dtype: int64"
            ]
          },
          "execution_count": 23,
          "metadata": {},
          "output_type": "execute_result"
        }
      ],
      "source": [
        "#  Limpeza de dados - 1 caso com IG = 9\n",
        "dados.IG_PEDIATRA.value_counts()"
      ]
    },
    {
      "cell_type": "code",
      "execution_count": 24,
      "metadata": {
        "id": "D2fxppQ3sTRv"
      },
      "outputs": [
        {
          "data": {
            "text/plain": [
              "count    1705.000000\n",
              "mean       37.958944\n",
              "std         3.112817\n",
              "min        19.000000\n",
              "25%        37.000000\n",
              "50%        39.000000\n",
              "75%        40.000000\n",
              "max        42.000000\n",
              "Name: IG_PEDIATRA, dtype: float64"
            ]
          },
          "execution_count": 24,
          "metadata": {},
          "output_type": "execute_result"
        }
      ],
      "source": [
        "#  Limpeza de dados\n",
        "#  Preencher com null (nan) os valores 9\n",
        "dados.IG_PEDIATRA.replace(9, np.nan, inplace=True)\n",
        "\n",
        "dados.IG_PEDIATRA.describe()"
      ]
    },
    {
      "cell_type": "code",
      "execution_count": 25,
      "metadata": {
        "id": "0jUs59uzugQF"
      },
      "outputs": [
        {
          "data": {
            "text/plain": [
              "<Axes: xlabel='IG_PEDIATRA', ylabel='Count'>"
            ]
          },
          "execution_count": 25,
          "metadata": {},
          "output_type": "execute_result"
        },
        {
          "data": {
            "image/png": "[encoded data removed]",
            "text/plain": [
              "<Figure size 640x480 with 1 Axes>"
            ]
          },
          "metadata": {},
          "output_type": "display_data"
        }
      ],
      "source": [
        "# Histograma\n",
        "sns.histplot(dados.IG_PEDIATRA)"
      ]
    },
    {
      "cell_type": "markdown",
      "metadata": {
        "id": "tFspnyGVvGGm"
      },
      "source": [
        "**Numéricas continuas**"
      ]
    },
    {
      "cell_type": "code",
      "execution_count": 26,
      "metadata": {
        "id": "GJ1lZdBKJgON"
      },
      "outputs": [
        {
          "data": {
            "text/plain": [
              "Index(['Unnamed: 0', 'DT_INTERNACAO', 'DT_ALTA', 'DURACAO_INT', 'GESTACOES',\n",
              "       'PARTOS', 'IG_OBSTETRA', 'IG_PEDIATRA', 'ALTO_RISCO', 'TIPO_PARTO',\n",
              "       'HIPERTENSAO', 'GEMELAR', 'CESAREAS_PREVIAS', 'EPISIOTOMIA',\n",
              "       'ANALGESIA', 'FORCEPS', 'CM_LACERACAO_CANAL', 'CM_UTI', 'CM_INFECCAO',\n",
              "       'CM_NEARMISS', 'CM_TRANSFUSAO', 'VIVO', 'SEXO', 'PESO_NASCER', 'APGAR1',\n",
              "       'APGAR5', 'UTI_RN', 'LIGADURACORDAO', 'LC_MOTIVO', 'EQUIPAMENTO_A',\n",
              "       'EQUIPAMENTO_B', 'BAIRRO'],\n",
              "      dtype='object')"
            ]
          },
          "execution_count": 26,
          "metadata": {},
          "output_type": "execute_result"
        }
      ],
      "source": [
        "dados.columns"
      ]
    },
    {
      "cell_type": "code",
      "execution_count": 27,
      "metadata": {
        "id": "r4B3OYNrn_TR"
      },
      "outputs": [
        {
          "data": {
            "text/plain": [
              "count    1709.000000\n",
              "mean        3.019051\n",
              "std         4.320177\n",
              "min         0.768750\n",
              "25%         1.606250\n",
              "50%         2.070833\n",
              "75%         2.852778\n",
              "max        62.537500\n",
              "Name: DURACAO_INT, dtype: float64"
            ]
          },
          "execution_count": 27,
          "metadata": {},
          "output_type": "execute_result"
        }
      ],
      "source": [
        "# DURACAO_INT\n",
        "# Explorar medidas resumo - (média, desvio padrão, mínimo, 1º quartil, mediana, 3º quartil, máximo)\n",
        "dados.DURACAO_INT.describe()"
      ]
    },
    {
      "cell_type": "code",
      "execution_count": 28,
      "metadata": {
        "id": "y72n3QwOYbDO"
      },
      "outputs": [
        {
          "data": {
            "text/plain": [
              "0        0.768750\n",
              "1        0.773611\n",
              "2        0.798611\n",
              "3        0.807639\n",
              "4        0.815972\n",
              "          ...    \n",
              "1704    37.604167\n",
              "1705    45.618750\n",
              "1706    47.984028\n",
              "1707    54.895833\n",
              "1708    62.537500\n",
              "Name: DURACAO_INT, Length: 1709, dtype: float64"
            ]
          },
          "execution_count": 28,
          "metadata": {},
          "output_type": "execute_result"
        }
      ],
      "source": [
        "# analisar os casos\n",
        "dados.DURACAO_INT"
      ]
    },
    {
      "cell_type": "code",
      "execution_count": 41,
      "metadata": {
        "id": "YOI9XKLlY_ES"
      },
      "outputs": [],
      "source": [
        "# Vamos arrendodar para dias inteiros\n",
        "dados.DURACAO_INT = dados.DURACAO_INT.round(0)"
      ]
    },
    {
      "cell_type": "code",
      "execution_count": 30,
      "metadata": {
        "id": "9pxShyhdoA9P"
      },
      "outputs": [
        {
          "data": {
            "text/plain": [
              "<Axes: xlabel='DURACAO_INT', ylabel='Count'>"
            ]
          },
          "execution_count": 30,
          "metadata": {},
          "output_type": "execute_result"
        },
        {
          "data": {
            "image/png": "[encoded data removed]",
            "text/plain": [
              "<Figure size 640x480 with 1 Axes>"
            ]
          },
          "metadata": {},
          "output_type": "display_data"
        }
      ],
      "source": [
        "# Histograma\n",
        "sns.histplot(dados.DURACAO_INT)"
      ]
    },
    {
      "cell_type": "markdown",
      "metadata": {
        "id": "hAqMQtEYh0ki"
      },
      "source": [
        "# Analisando variáveis do tipo datas - datetime"
      ]
    },
    {
      "cell_type": "code",
      "execution_count": 31,
      "metadata": {
        "id": "946NMOyfcql8"
      },
      "outputs": [],
      "source": [
        "# Caso a variável não seja do tipo data - Converter o tipo de uma coluna OBJECT para DATETIME"
      ]
    },
    {
      "cell_type": "code",
      "execution_count": 32,
      "metadata": {
        "id": "qxI_UyvMc93f"
      },
      "outputs": [
        {
          "name": "stdout",
          "output_type": "stream",
          "text": [
            "<class 'pandas.core.frame.DataFrame'>\n",
            "RangeIndex: 1709 entries, 0 to 1708\n",
            "Data columns (total 32 columns):\n",
            " #   Column              Non-Null Count  Dtype         \n",
            "---  ------              --------------  -----         \n",
            " 0   Unnamed: 0          1709 non-null   int64         \n",
            " 1   DT_INTERNACAO       1709 non-null   datetime64[ns]\n",
            " 2   DT_ALTA             1709 non-null   datetime64[ns]\n",
            " 3   DURACAO_INT         1709 non-null   float64       \n",
            " 4   GESTACOES           1709 non-null   int64         \n",
            " 5   PARTOS              1708 non-null   float64       \n",
            " 6   IG_OBSTETRA         1687 non-null   float64       \n",
            " 7   IG_PEDIATRA         1705 non-null   float64       \n",
            " 8   ALTO_RISCO          1709 non-null   object        \n",
            " 9   TIPO_PARTO          1709 non-null   int64         \n",
            " 10  HIPERTENSAO         1709 non-null   int64         \n",
            " 11  GEMELAR             1709 non-null   int64         \n",
            " 12  CESAREAS_PREVIAS    1702 non-null   float64       \n",
            " 13  EPISIOTOMIA         1709 non-null   int64         \n",
            " 14  ANALGESIA           1709 non-null   int64         \n",
            " 15  FORCEPS             1709 non-null   int64         \n",
            " 16  CM_LACERACAO_CANAL  1554 non-null   float64       \n",
            " 17  CM_UTI              1709 non-null   int64         \n",
            " 18  CM_INFECCAO         1709 non-null   int64         \n",
            " 19  CM_NEARMISS         1709 non-null   int64         \n",
            " 20  CM_TRANSFUSAO       1706 non-null   float64       \n",
            " 21  VIVO                1673 non-null   float64       \n",
            " 22  SEXO                1709 non-null   int64         \n",
            " 23  PESO_NASCER         1681 non-null   float64       \n",
            " 24  APGAR1              1651 non-null   float64       \n",
            " 25  APGAR5              1709 non-null   int64         \n",
            " 26  UTI_RN              1709 non-null   int64         \n",
            " 27  LIGADURACORDAO      1709 non-null   int64         \n",
            " 28  LC_MOTIVO           1709 non-null   int64         \n",
            " 29  EQUIPAMENTO_A       853 non-null    float64       \n",
            " 30  EQUIPAMENTO_B       1709 non-null   float64       \n",
            " 31  BAIRRO              1709 non-null   object        \n",
            "dtypes: datetime64[ns](2), float64(12), int64(16), object(2)\n",
            "memory usage: 427.4+ KB\n"
          ]
        }
      ],
      "source": [
        "dados.info()"
      ]
    },
    {
      "cell_type": "code",
      "execution_count": 39,
      "metadata": {
        "id": "zI40HyYDq0tX"
      },
      "outputs": [
        {
          "name": "stdout",
          "output_type": "stream",
          "text": [
            "Descrição:\n",
            "count                             1709\n",
            "mean     2014-03-16 04:27:06.214160128\n",
            "min                2013-09-27 00:00:00\n",
            "25%                2013-12-16 00:00:00\n",
            "50%                2014-03-05 00:00:00\n",
            "75%                2014-05-29 00:00:00\n",
            "max                2014-10-31 00:00:00\n",
            "Name: DT_INTERNACAO, dtype: object\n",
            "\n",
            "Outras Medidas:\n",
            "Média: 2014-03-16 04:27:06.214160128\n",
            "Desvio Padrão: 106 days 01:12:07.901471724\n",
            "Mínimo: 2013-09-27 00:00:00\n",
            "1º Quartil: 2013-12-16 00:00:00\n",
            "Mediana: 2014-03-05 00:00:00\n",
            "3º Quartil: 2014-05-29 00:00:00\n",
            "Máximo: 2014-10-31 00:00:00\n"
          ]
        }
      ],
      "source": [
        "# Explorar medidas resumo da coluna DT_INTERNACAO\n",
        "descricao = dados['DT_INTERNACAO'].describe()\n",
        "\n",
        "# Calcular outras medidas diretamente\n",
        "media = dados['DT_INTERNACAO'].mean()\n",
        "desvio_padrao = dados['DT_INTERNACAO'].std()\n",
        "minimo = dados['DT_INTERNACAO'].min()\n",
        "primeiro_quartil = dados['DT_INTERNACAO'].quantile(0.25)\n",
        "mediana = dados['DT_INTERNACAO'].median()\n",
        "terceiro_quartil = dados['DT_INTERNACAO'].quantile(0.75)\n",
        "maximo = dados['DT_INTERNACAO'].max()\n",
        "\n",
        "# Exibir todas as medidas\n",
        "print(\"Descrição:\")\n",
        "print(descricao)\n",
        "print(\"\\nOutras Medidas:\")\n",
        "print(\"Média:\", media)\n",
        "print(\"Desvio Padrão:\", desvio_padrao)\n",
        "print(\"Mínimo:\", minimo)\n",
        "print(\"1º Quartil:\", primeiro_quartil)\n",
        "print(\"Mediana:\", mediana)\n",
        "print(\"3º Quartil:\", terceiro_quartil)\n",
        "print(\"Máximo:\", maximo)\n"
      ]
    },
    {
      "cell_type": "code",
      "execution_count": 42,
      "metadata": {
        "id": "8F3uV8bcxcAD"
      },
      "outputs": [
        {
          "name": "stdout",
          "output_type": "stream",
          "text": [
            "Descrição:\n",
            "count                             1709\n",
            "mean     2014-03-19 06:49:30.157986816\n",
            "min                2013-09-29 00:00:00\n",
            "25%                2013-12-19 00:00:00\n",
            "50%                2014-03-08 00:00:00\n",
            "75%                2014-06-02 00:00:00\n",
            "max                2014-11-17 00:00:00\n",
            "Name: DT_ALTA, dtype: object\n",
            "\n",
            "Outras Medidas:\n",
            "Média: 2014-03-19 06:49:30.157986816\n",
            "Desvio Padrão: 106 days 02:55:34.760311652\n",
            "Mínimo: 2013-09-29 00:00:00\n",
            "1º Quartil: 2013-12-19 00:00:00\n",
            "Mediana: 2014-03-08 00:00:00\n",
            "3º Quartil: 2014-06-02 00:00:00\n",
            "Máximo: 2014-11-17 00:00:00\n"
          ]
        }
      ],
      "source": [
        "# Explorar medidas resumo da coluna DT_ALTA\n",
        "descricao = dados['DT_ALTA'].describe()\n",
        "\n",
        "# Calcular outras medidas diretamente\n",
        "media = dados['DT_ALTA'].mean()\n",
        "desvio_padrao = dados['DT_ALTA'].std()\n",
        "minimo = dados['DT_ALTA'].min()\n",
        "primeiro_quartil = dados['DT_ALTA'].quantile(0.25)\n",
        "mediana = dados['DT_ALTA'].median()\n",
        "terceiro_quartil = dados['DT_ALTA'].quantile(0.75)\n",
        "maximo = dados['DT_ALTA'].max()\n",
        "\n",
        "# Exibir todas as medidas\n",
        "print(\"Descrição:\")\n",
        "print(descricao)\n",
        "print(\"\\nOutras Medidas:\")\n",
        "print(\"Média:\", media)\n",
        "print(\"Desvio Padrão:\", desvio_padrao)\n",
        "print(\"Mínimo:\", minimo)\n",
        "print(\"1º Quartil:\", primeiro_quartil)\n",
        "print(\"Mediana:\", mediana)\n",
        "print(\"3º Quartil:\", terceiro_quartil)\n",
        "print(\"Máximo:\", maximo)\n"
      ]
    },
    {
      "cell_type": "code",
      "execution_count": 43,
      "metadata": {
        "id": "M2B8RyQ5dDF8"
      },
      "outputs": [
        {
          "data": {
            "text/plain": [
              "<Axes: xlabel='DT_INTERNACAO'>"
            ]
          },
          "execution_count": 43,
          "metadata": {},
          "output_type": "execute_result"
        },
        {
          "data": {
            "image/png": "[encoded data removed]",
            "text/plain": [
              "<Figure size 640x480 with 1 Axes>"
            ]
          },
          "metadata": {},
          "output_type": "display_data"
        }
      ],
      "source": [
        "# contar por ano\n",
        "tabela_DT_INTERNACAO = dados.DT_INTERNACAO.dt.year.value_counts()\n",
        "\n",
        "# Criar gráfico por ano\n",
        "tabela_DT_INTERNACAO.plot.bar()"
      ]
    },
    {
      "cell_type": "code",
      "execution_count": 44,
      "metadata": {
        "id": "qFYt4sHAdP_v"
      },
      "outputs": [
        {
          "data": {
            "text/plain": [
              "<Axes: xlabel='DT_ALTA'>"
            ]
          },
          "execution_count": 44,
          "metadata": {},
          "output_type": "execute_result"
        },
        {
          "data": {
            "image/png": "[encoded data removed]",
            "text/plain": [
              "<Figure size 640x480 with 1 Axes>"
            ]
          },
          "metadata": {},
          "output_type": "display_data"
        }
      ],
      "source": [
        "# contar por ano\n",
        "tabela_DT_ALTA = dados.DT_ALTA.dt.year.value_counts()\n",
        "\n",
        "# Criar gráfico por ano\n",
        "tabela_DT_ALTA.plot.bar()"
      ]
    },
    {
      "cell_type": "code",
      "execution_count": 45,
      "metadata": {
        "id": "P4WbXNJ5dWYX"
      },
      "outputs": [
        {
          "data": {
            "text/plain": [
              "0       1 days\n",
              "1       1 days\n",
              "2       1 days\n",
              "3       1 days\n",
              "4       1 days\n",
              "         ...  \n",
              "1704   38 days\n",
              "1705   46 days\n",
              "1706   48 days\n",
              "1707   55 days\n",
              "1708   63 days\n",
              "Name: DIAS_INTERNACAO, Length: 1709, dtype: timedelta64[ns]"
            ]
          },
          "execution_count": 45,
          "metadata": {},
          "output_type": "execute_result"
        }
      ],
      "source": [
        "# Diferença em dias\n",
        "dados['DIAS_INTERNACAO'] = dados.DT_ALTA - dados.DT_INTERNACAO\n",
        "\n",
        "# mostrar\n",
        "dados.DIAS_INTERNACAO"
      ]
    },
    {
      "cell_type": "markdown",
      "metadata": {
        "id": "bMihoJ5kW4x9"
      },
      "source": [
        "Saiba mais em: https://towardsdatascience.com/3-useful-pandas-tips-to-work-with-datetime-data-424afbec628b"
      ]
    },
    {
      "cell_type": "code",
      "execution_count": 46,
      "metadata": {
        "id": "EH30da6CW4TD"
      },
      "outputs": [
        {
          "data": {
            "text/plain": [
              "0      2014-02-05\n",
              "1      2014-06-06\n",
              "2      2014-04-29\n",
              "3      2013-12-20\n",
              "4      2013-12-21\n",
              "          ...    \n",
              "1704   2014-08-27\n",
              "1705   2014-06-25\n",
              "1706   2014-01-06\n",
              "1707   2013-12-13\n",
              "1708   2014-05-29\n",
              "Name: DT_CONSULTAPOS, Length: 1709, dtype: datetime64[ns]"
            ]
          },
          "execution_count": 46,
          "metadata": {},
          "output_type": "execute_result"
        }
      ],
      "source": [
        "import datetime\n",
        "\n",
        "# Criando uma nova coluna com a diferença em dias\n",
        "dados['DT_CONSULTAPOS'] = dados.DT_ALTA + datetime.timedelta(days=15)\n",
        "\n",
        "# datetime.timedelta  (days=0, seconds=0, microseconds=0, milliseconds=0, minutes=0, hours=0, weeks=0)\n",
        "\n",
        "# https://docs.python.org/pt-br/3/library/datetime.html\n",
        "\n",
        "# mostrar\n",
        "dados.DT_CONSULTAPOS"
      ]
    },
    {
      "cell_type": "code",
      "execution_count": 48,
      "metadata": {
        "id": "D57v3JFsbKow"
      },
      "outputs": [
        {
          "data": {
            "text/plain": [
              "0      2024-02-13 14:01:27.846890\n",
              "1      2024-02-13 14:01:27.846890\n",
              "2      2024-02-13 14:01:27.846890\n",
              "3      2024-02-13 14:01:27.846890\n",
              "4      2024-02-13 14:01:27.846890\n",
              "                  ...            \n",
              "1704   2024-02-13 14:01:27.846890\n",
              "1705   2024-02-13 14:01:27.846890\n",
              "1706   2024-02-13 14:01:27.846890\n",
              "1707   2024-02-13 14:01:27.846890\n",
              "1708   2024-02-13 14:01:27.846890\n",
              "Name: DT_AGORA, Length: 1709, dtype: datetime64[ns]"
            ]
          },
          "execution_count": 48,
          "metadata": {},
          "output_type": "execute_result"
        }
      ],
      "source": [
        "# Importar a classe datetime do módulo datetime\n",
        "from datetime import datetime\n",
        "\n",
        "# Criar uma nova coluna 'DT_AGORA' e atribuir a data e hora atuais\n",
        "dados['DT_AGORA'] = datetime.now()\n",
        "\n",
        "# Exibir o valor da coluna 'DT_AGORA'\n",
        "dados.DT_AGORA\n"
      ]
    },
    {
      "cell_type": "code",
      "execution_count": 49,
      "metadata": {
        "id": "wh6Gwh_maU9f"
      },
      "outputs": [
        {
          "data": {
            "text/html": [
              "<div>\n",
              "<style scoped>\n",
              "    .dataframe tbody tr th:only-of-type {\n",
              "        vertical-align: middle;\n",
              "    }\n",
              "\n",
              "    .dataframe tbody tr th {\n",
              "        vertical-align: top;\n",
              "    }\n",
              "\n",
              "    .dataframe thead th {\n",
              "        text-align: right;\n",
              "    }\n",
              "</style>\n",
              "<table border=\"1\" class=\"dataframe\">\n",
              "  <thead>\n",
              "    <tr style=\"text-align: right;\">\n",
              "      <th></th>\n",
              "      <th>DATA</th>\n",
              "    </tr>\n",
              "  </thead>\n",
              "  <tbody>\n",
              "    <tr>\n",
              "      <th>0</th>\n",
              "      <td>2024-02-13 14:01:27.846890</td>\n",
              "    </tr>\n",
              "    <tr>\n",
              "      <th>1</th>\n",
              "      <td>2024-02-13 14:01:27.846890</td>\n",
              "    </tr>\n",
              "    <tr>\n",
              "      <th>2</th>\n",
              "      <td>2024-02-13 14:01:27.846890</td>\n",
              "    </tr>\n",
              "    <tr>\n",
              "      <th>3</th>\n",
              "      <td>2024-02-13 14:01:27.846890</td>\n",
              "    </tr>\n",
              "    <tr>\n",
              "      <th>4</th>\n",
              "      <td>2024-02-13 14:01:27.846890</td>\n",
              "    </tr>\n",
              "    <tr>\n",
              "      <th>...</th>\n",
              "      <td>...</td>\n",
              "    </tr>\n",
              "    <tr>\n",
              "      <th>1704</th>\n",
              "      <td>2024-02-13 14:01:27.846890</td>\n",
              "    </tr>\n",
              "    <tr>\n",
              "      <th>1705</th>\n",
              "      <td>2024-02-13 14:01:27.846890</td>\n",
              "    </tr>\n",
              "    <tr>\n",
              "      <th>1706</th>\n",
              "      <td>2024-02-13 14:01:27.846890</td>\n",
              "    </tr>\n",
              "    <tr>\n",
              "      <th>1707</th>\n",
              "      <td>2024-02-13 14:01:27.846890</td>\n",
              "    </tr>\n",
              "    <tr>\n",
              "      <th>1708</th>\n",
              "      <td>2024-02-13 14:01:27.846890</td>\n",
              "    </tr>\n",
              "  </tbody>\n",
              "</table>\n",
              "<p>1709 rows × 1 columns</p>\n",
              "</div>"
            ],
            "text/plain": [
              "                           DATA\n",
              "0    2024-02-13 14:01:27.846890\n",
              "1    2024-02-13 14:01:27.846890\n",
              "2    2024-02-13 14:01:27.846890\n",
              "3    2024-02-13 14:01:27.846890\n",
              "4    2024-02-13 14:01:27.846890\n",
              "...                         ...\n",
              "1704 2024-02-13 14:01:27.846890\n",
              "1705 2024-02-13 14:01:27.846890\n",
              "1706 2024-02-13 14:01:27.846890\n",
              "1707 2024-02-13 14:01:27.846890\n",
              "1708 2024-02-13 14:01:27.846890\n",
              "\n",
              "[1709 rows x 1 columns]"
            ]
          },
          "execution_count": 49,
          "metadata": {},
          "output_type": "execute_result"
        }
      ],
      "source": [
        "# Fazer uma cópia da coluna DT_ALTA para outro dataset - para testes\n",
        "dados2 = pd.DataFrame()\n",
        "\n",
        "dados2[\"DATA\"] = dados[\"DT_AGORA\"]\n",
        "dados2"
      ]
    },
    {
      "cell_type": "code",
      "execution_count": 56,
      "metadata": {
        "id": "hXch3Q8NWwej"
      },
      "outputs": [
        {
          "name": "stdout",
          "output_type": "stream",
          "text": [
            "      Unnamed: 0 DT_INTERNACAO    DT_ALTA  DURACAO_INT  GESTACOES  PARTOS  \\\n",
            "0              0    2014-01-20 2014-01-21          1.0          2     1.0   \n",
            "1              1    2014-05-21 2014-05-22          1.0          1     0.0   \n",
            "2              2    2014-04-13 2014-04-14          1.0          2     1.0   \n",
            "3              3    2013-12-04 2013-12-05          1.0          2     1.0   \n",
            "4              4    2013-12-05 2013-12-06          1.0          1     0.0   \n",
            "...          ...           ...        ...          ...        ...     ...   \n",
            "1704        1704    2014-07-05 2014-08-12         38.0          2     1.0   \n",
            "1705        1705    2014-04-25 2014-06-10         46.0          2     1.0   \n",
            "1706        1706    2013-11-04 2013-12-22         48.0          2     1.0   \n",
            "1707        1707    2013-10-04 2013-11-28         55.0          3     0.0   \n",
            "1708        1708    2014-03-12 2014-05-14         63.0          3     2.0   \n",
            "\n",
            "      IG_OBSTETRA  IG_PEDIATRA ALTO_RISCO  TIPO_PARTO  ...  DIAS_INTERNACAO  \\\n",
            "0            38.0         38.0        sim           1  ...           1 days   \n",
            "1            36.0         36.0        sim           1  ...           1 days   \n",
            "2            39.0         39.0        não           1  ...           1 days   \n",
            "3            41.0         41.0        não           1  ...           1 days   \n",
            "4            36.0         36.0        não           1  ...           1 days   \n",
            "...           ...          ...        ...         ...  ...              ...   \n",
            "1704         38.0         38.0        não           1  ...          38 days   \n",
            "1705         29.0         34.0        sim           2  ...          46 days   \n",
            "1706         26.0         32.0        sim           2  ...          48 days   \n",
            "1707         27.0         34.0        sim           2  ...          55 days   \n",
            "1708         39.0         39.0        não           1  ...          63 days   \n",
            "\n",
            "      DT_CONSULTAPOS                   DT_AGORA  Year  Month  Day  Hour  \\\n",
            "0         2014-02-05 2024-02-13 14:01:27.846890  2024      2   13    14   \n",
            "1         2014-06-06 2024-02-13 14:01:27.846890  2024      2   13    14   \n",
            "2         2014-04-29 2024-02-13 14:01:27.846890  2024      2   13    14   \n",
            "3         2013-12-20 2024-02-13 14:01:27.846890  2024      2   13    14   \n",
            "4         2013-12-21 2024-02-13 14:01:27.846890  2024      2   13    14   \n",
            "...              ...                        ...   ...    ...  ...   ...   \n",
            "1704      2014-08-27 2024-02-13 14:01:27.846890  2024      2   13    14   \n",
            "1705      2014-06-25 2024-02-13 14:01:27.846890  2024      2   13    14   \n",
            "1706      2014-01-06 2024-02-13 14:01:27.846890  2024      2   13    14   \n",
            "1707      2013-12-13 2024-02-13 14:01:27.846890  2024      2   13    14   \n",
            "1708      2014-05-29 2024-02-13 14:01:27.846890  2024      2   13    14   \n",
            "\n",
            "      Minute  Seconds  Timezone  \n",
            "0          1       27      None  \n",
            "1          1       27      None  \n",
            "2          1       27      None  \n",
            "3          1       27      None  \n",
            "4          1       27      None  \n",
            "...      ...      ...       ...  \n",
            "1704       1       27      None  \n",
            "1705       1       27      None  \n",
            "1706       1       27      None  \n",
            "1707       1       27      None  \n",
            "1708       1       27      None  \n",
            "\n",
            "[1709 rows x 42 columns]\n"
          ]
        }
      ],
      "source": [
        "\n",
        "\n",
        "# Supondo que a coluna DT_AGORA seja originalmente do tipo string (object)\n",
        "dados[\"DT_AGORA\"] = pd.to_datetime(dados[\"DT_AGORA\"])\n",
        "\n",
        "# Agora, você pode extrair componentes de data e hora\n",
        "dados[\"Year\"] = dados[\"DT_AGORA\"].dt.year\n",
        "dados[\"Month\"] = dados[\"DT_AGORA\"].dt.month\n",
        "dados[\"Day\"] = dados[\"DT_AGORA\"].dt.day\n",
        "dados[\"Hour\"] = dados[\"DT_AGORA\"].dt.hour\n",
        "dados[\"Minute\"] = dados[\"DT_AGORA\"].dt.minute\n",
        "dados[\"Seconds\"] = dados[\"DT_AGORA\"].dt.second\n",
        "dados[\"Timezone\"] = dados[\"DT_AGORA\"].dt.tz\n",
        "\n",
        "# Exibir o DataFrame atualizado\n",
        "print(dados)\n"
      ]
    },
    {
      "cell_type": "code",
      "execution_count": null,
      "metadata": {
        "id": "Z4FdS5plXF8A"
      },
      "outputs": [],
      "source": [
        "dados2"
      ]
    },
    {
      "cell_type": "code",
      "execution_count": 57,
      "metadata": {
        "id": "-Ohm-KNUXF5B"
      },
      "outputs": [
        {
          "data": {
            "text/html": [
              "<div>\n",
              "<style scoped>\n",
              "    .dataframe tbody tr th:only-of-type {\n",
              "        vertical-align: middle;\n",
              "    }\n",
              "\n",
              "    .dataframe tbody tr th {\n",
              "        vertical-align: top;\n",
              "    }\n",
              "\n",
              "    .dataframe thead th {\n",
              "        text-align: right;\n",
              "    }\n",
              "</style>\n",
              "<table border=\"1\" class=\"dataframe\">\n",
              "  <thead>\n",
              "    <tr style=\"text-align: right;\">\n",
              "      <th></th>\n",
              "      <th>DATA</th>\n",
              "      <th>Year</th>\n",
              "      <th>Month</th>\n",
              "      <th>Day</th>\n",
              "      <th>Hour</th>\n",
              "      <th>Minute</th>\n",
              "      <th>Seconds</th>\n",
              "      <th>Timezone</th>\n",
              "      <th>DayName</th>\n",
              "      <th>MonthName</th>\n",
              "    </tr>\n",
              "  </thead>\n",
              "  <tbody>\n",
              "    <tr>\n",
              "      <th>0</th>\n",
              "      <td>2024-02-13 14:01:27.846890</td>\n",
              "      <td>2024</td>\n",
              "      <td>2</td>\n",
              "      <td>13</td>\n",
              "      <td>14</td>\n",
              "      <td>1</td>\n",
              "      <td>27</td>\n",
              "      <td>None</td>\n",
              "      <td>Tuesday</td>\n",
              "      <td>February</td>\n",
              "    </tr>\n",
              "    <tr>\n",
              "      <th>1</th>\n",
              "      <td>2024-02-13 14:01:27.846890</td>\n",
              "      <td>2024</td>\n",
              "      <td>2</td>\n",
              "      <td>13</td>\n",
              "      <td>14</td>\n",
              "      <td>1</td>\n",
              "      <td>27</td>\n",
              "      <td>None</td>\n",
              "      <td>Tuesday</td>\n",
              "      <td>February</td>\n",
              "    </tr>\n",
              "    <tr>\n",
              "      <th>2</th>\n",
              "      <td>2024-02-13 14:01:27.846890</td>\n",
              "      <td>2024</td>\n",
              "      <td>2</td>\n",
              "      <td>13</td>\n",
              "      <td>14</td>\n",
              "      <td>1</td>\n",
              "      <td>27</td>\n",
              "      <td>None</td>\n",
              "      <td>Tuesday</td>\n",
              "      <td>February</td>\n",
              "    </tr>\n",
              "    <tr>\n",
              "      <th>3</th>\n",
              "      <td>2024-02-13 14:01:27.846890</td>\n",
              "      <td>2024</td>\n",
              "      <td>2</td>\n",
              "      <td>13</td>\n",
              "      <td>14</td>\n",
              "      <td>1</td>\n",
              "      <td>27</td>\n",
              "      <td>None</td>\n",
              "      <td>Tuesday</td>\n",
              "      <td>February</td>\n",
              "    </tr>\n",
              "    <tr>\n",
              "      <th>4</th>\n",
              "      <td>2024-02-13 14:01:27.846890</td>\n",
              "      <td>2024</td>\n",
              "      <td>2</td>\n",
              "      <td>13</td>\n",
              "      <td>14</td>\n",
              "      <td>1</td>\n",
              "      <td>27</td>\n",
              "      <td>None</td>\n",
              "      <td>Tuesday</td>\n",
              "      <td>February</td>\n",
              "    </tr>\n",
              "  </tbody>\n",
              "</table>\n",
              "</div>"
            ],
            "text/plain": [
              "                        DATA  Year  Month  Day  Hour  Minute  Seconds  \\\n",
              "0 2024-02-13 14:01:27.846890  2024      2   13    14       1       27   \n",
              "1 2024-02-13 14:01:27.846890  2024      2   13    14       1       27   \n",
              "2 2024-02-13 14:01:27.846890  2024      2   13    14       1       27   \n",
              "3 2024-02-13 14:01:27.846890  2024      2   13    14       1       27   \n",
              "4 2024-02-13 14:01:27.846890  2024      2   13    14       1       27   \n",
              "\n",
              "  Timezone  DayName MonthName  \n",
              "0     None  Tuesday  February  \n",
              "1     None  Tuesday  February  \n",
              "2     None  Tuesday  February  \n",
              "3     None  Tuesday  February  \n",
              "4     None  Tuesday  February  "
            ]
          },
          "execution_count": 57,
          "metadata": {},
          "output_type": "execute_result"
        }
      ],
      "source": [
        "# Get Day name\n",
        "dados2[\"DayName\"] = dados2.DATA.dt.day_name()\n",
        "\n",
        "# Get Month name\n",
        "dados2[\"MonthName\"] = dados2.DATA.dt.month_name()\n",
        "\n",
        "dados2.head()"
      ]
    },
    {
      "cell_type": "code",
      "execution_count": 58,
      "metadata": {
        "id": "5Wy01Pj4XeWh"
      },
      "outputs": [
        {
          "data": {
            "text/html": [
              "<div>\n",
              "<style scoped>\n",
              "    .dataframe tbody tr th:only-of-type {\n",
              "        vertical-align: middle;\n",
              "    }\n",
              "\n",
              "    .dataframe tbody tr th {\n",
              "        vertical-align: top;\n",
              "    }\n",
              "\n",
              "    .dataframe thead th {\n",
              "        text-align: right;\n",
              "    }\n",
              "</style>\n",
              "<table border=\"1\" class=\"dataframe\">\n",
              "  <thead>\n",
              "    <tr style=\"text-align: right;\">\n",
              "      <th></th>\n",
              "      <th>DATA</th>\n",
              "      <th>Year</th>\n",
              "      <th>Month</th>\n",
              "      <th>Day</th>\n",
              "      <th>Hour</th>\n",
              "      <th>Minute</th>\n",
              "      <th>Seconds</th>\n",
              "      <th>Timezone</th>\n",
              "      <th>DayName</th>\n",
              "      <th>MonthName</th>\n",
              "      <th>IsMonthStart</th>\n",
              "      <th>IsYearStart</th>\n",
              "      <th>IsMonthEnd</th>\n",
              "      <th>IsYearEnd</th>\n",
              "    </tr>\n",
              "  </thead>\n",
              "  <tbody>\n",
              "    <tr>\n",
              "      <th>0</th>\n",
              "      <td>2024-02-13 14:01:27.846890</td>\n",
              "      <td>2024</td>\n",
              "      <td>2</td>\n",
              "      <td>13</td>\n",
              "      <td>14</td>\n",
              "      <td>1</td>\n",
              "      <td>27</td>\n",
              "      <td>None</td>\n",
              "      <td>Tuesday</td>\n",
              "      <td>February</td>\n",
              "      <td>False</td>\n",
              "      <td>False</td>\n",
              "      <td>False</td>\n",
              "      <td>False</td>\n",
              "    </tr>\n",
              "    <tr>\n",
              "      <th>1</th>\n",
              "      <td>2024-02-13 14:01:27.846890</td>\n",
              "      <td>2024</td>\n",
              "      <td>2</td>\n",
              "      <td>13</td>\n",
              "      <td>14</td>\n",
              "      <td>1</td>\n",
              "      <td>27</td>\n",
              "      <td>None</td>\n",
              "      <td>Tuesday</td>\n",
              "      <td>February</td>\n",
              "      <td>False</td>\n",
              "      <td>False</td>\n",
              "      <td>False</td>\n",
              "      <td>False</td>\n",
              "    </tr>\n",
              "    <tr>\n",
              "      <th>2</th>\n",
              "      <td>2024-02-13 14:01:27.846890</td>\n",
              "      <td>2024</td>\n",
              "      <td>2</td>\n",
              "      <td>13</td>\n",
              "      <td>14</td>\n",
              "      <td>1</td>\n",
              "      <td>27</td>\n",
              "      <td>None</td>\n",
              "      <td>Tuesday</td>\n",
              "      <td>February</td>\n",
              "      <td>False</td>\n",
              "      <td>False</td>\n",
              "      <td>False</td>\n",
              "      <td>False</td>\n",
              "    </tr>\n",
              "    <tr>\n",
              "      <th>3</th>\n",
              "      <td>2024-02-13 14:01:27.846890</td>\n",
              "      <td>2024</td>\n",
              "      <td>2</td>\n",
              "      <td>13</td>\n",
              "      <td>14</td>\n",
              "      <td>1</td>\n",
              "      <td>27</td>\n",
              "      <td>None</td>\n",
              "      <td>Tuesday</td>\n",
              "      <td>February</td>\n",
              "      <td>False</td>\n",
              "      <td>False</td>\n",
              "      <td>False</td>\n",
              "      <td>False</td>\n",
              "    </tr>\n",
              "    <tr>\n",
              "      <th>4</th>\n",
              "      <td>2024-02-13 14:01:27.846890</td>\n",
              "      <td>2024</td>\n",
              "      <td>2</td>\n",
              "      <td>13</td>\n",
              "      <td>14</td>\n",
              "      <td>1</td>\n",
              "      <td>27</td>\n",
              "      <td>None</td>\n",
              "      <td>Tuesday</td>\n",
              "      <td>February</td>\n",
              "      <td>False</td>\n",
              "      <td>False</td>\n",
              "      <td>False</td>\n",
              "      <td>False</td>\n",
              "    </tr>\n",
              "  </tbody>\n",
              "</table>\n",
              "</div>"
            ],
            "text/plain": [
              "                        DATA  Year  Month  Day  Hour  Minute  Seconds  \\\n",
              "0 2024-02-13 14:01:27.846890  2024      2   13    14       1       27   \n",
              "1 2024-02-13 14:01:27.846890  2024      2   13    14       1       27   \n",
              "2 2024-02-13 14:01:27.846890  2024      2   13    14       1       27   \n",
              "3 2024-02-13 14:01:27.846890  2024      2   13    14       1       27   \n",
              "4 2024-02-13 14:01:27.846890  2024      2   13    14       1       27   \n",
              "\n",
              "  Timezone  DayName MonthName  IsMonthStart  IsYearStart  IsMonthEnd  \\\n",
              "0     None  Tuesday  February         False        False       False   \n",
              "1     None  Tuesday  February         False        False       False   \n",
              "2     None  Tuesday  February         False        False       False   \n",
              "3     None  Tuesday  February         False        False       False   \n",
              "4     None  Tuesday  February         False        False       False   \n",
              "\n",
              "   IsYearEnd  \n",
              "0      False  \n",
              "1      False  \n",
              "2      False  \n",
              "3      False  \n",
              "4      False  "
            ]
          },
          "execution_count": 58,
          "metadata": {},
          "output_type": "execute_result"
        }
      ],
      "source": [
        "# Is it the Start of the Month?\n",
        "dados2[\"IsMonthStart\"] = dados2.DATA.dt.is_month_start\n",
        "\n",
        "# Is it the Start of the Year?\n",
        "dados2[\"IsYearStart\"] = dados2.DATA.dt.is_year_start\n",
        "\n",
        "# Is it the End of the Month?\n",
        "dados2[\"IsMonthEnd\"] = dados2.DATA.dt.is_month_end\n",
        "\n",
        "# Is it the End of the Year?\n",
        "dados2[\"IsYearEnd\"] = dados2.DATA.dt.is_year_end\n",
        "\n",
        "dados2.head()"
      ]
    },
    {
      "cell_type": "code",
      "execution_count": 59,
      "metadata": {
        "id": "AhMj8BROXeTM"
      },
      "outputs": [
        {
          "data": {
            "text/html": [
              "<div>\n",
              "<style scoped>\n",
              "    .dataframe tbody tr th:only-of-type {\n",
              "        vertical-align: middle;\n",
              "    }\n",
              "\n",
              "    .dataframe tbody tr th {\n",
              "        vertical-align: top;\n",
              "    }\n",
              "\n",
              "    .dataframe thead th {\n",
              "        text-align: right;\n",
              "    }\n",
              "</style>\n",
              "<table border=\"1\" class=\"dataframe\">\n",
              "  <thead>\n",
              "    <tr style=\"text-align: right;\">\n",
              "      <th></th>\n",
              "      <th>DATA</th>\n",
              "      <th>Year</th>\n",
              "      <th>Month</th>\n",
              "      <th>Day</th>\n",
              "      <th>Hour</th>\n",
              "      <th>Minute</th>\n",
              "      <th>Seconds</th>\n",
              "      <th>Timezone</th>\n",
              "      <th>DayName</th>\n",
              "      <th>MonthName</th>\n",
              "      <th>IsMonthStart</th>\n",
              "      <th>IsYearStart</th>\n",
              "      <th>IsMonthEnd</th>\n",
              "      <th>IsYearEnd</th>\n",
              "      <th>OnlyDate</th>\n",
              "      <th>OnlyTime</th>\n",
              "    </tr>\n",
              "  </thead>\n",
              "  <tbody>\n",
              "    <tr>\n",
              "      <th>0</th>\n",
              "      <td>2024-02-13 14:01:27.846890</td>\n",
              "      <td>2024</td>\n",
              "      <td>2</td>\n",
              "      <td>13</td>\n",
              "      <td>14</td>\n",
              "      <td>1</td>\n",
              "      <td>27</td>\n",
              "      <td>None</td>\n",
              "      <td>Tuesday</td>\n",
              "      <td>February</td>\n",
              "      <td>False</td>\n",
              "      <td>False</td>\n",
              "      <td>False</td>\n",
              "      <td>False</td>\n",
              "      <td>2024-02-13</td>\n",
              "      <td>14:01:27.846890</td>\n",
              "    </tr>\n",
              "    <tr>\n",
              "      <th>1</th>\n",
              "      <td>2024-02-13 14:01:27.846890</td>\n",
              "      <td>2024</td>\n",
              "      <td>2</td>\n",
              "      <td>13</td>\n",
              "      <td>14</td>\n",
              "      <td>1</td>\n",
              "      <td>27</td>\n",
              "      <td>None</td>\n",
              "      <td>Tuesday</td>\n",
              "      <td>February</td>\n",
              "      <td>False</td>\n",
              "      <td>False</td>\n",
              "      <td>False</td>\n",
              "      <td>False</td>\n",
              "      <td>2024-02-13</td>\n",
              "      <td>14:01:27.846890</td>\n",
              "    </tr>\n",
              "    <tr>\n",
              "      <th>2</th>\n",
              "      <td>2024-02-13 14:01:27.846890</td>\n",
              "      <td>2024</td>\n",
              "      <td>2</td>\n",
              "      <td>13</td>\n",
              "      <td>14</td>\n",
              "      <td>1</td>\n",
              "      <td>27</td>\n",
              "      <td>None</td>\n",
              "      <td>Tuesday</td>\n",
              "      <td>February</td>\n",
              "      <td>False</td>\n",
              "      <td>False</td>\n",
              "      <td>False</td>\n",
              "      <td>False</td>\n",
              "      <td>2024-02-13</td>\n",
              "      <td>14:01:27.846890</td>\n",
              "    </tr>\n",
              "    <tr>\n",
              "      <th>3</th>\n",
              "      <td>2024-02-13 14:01:27.846890</td>\n",
              "      <td>2024</td>\n",
              "      <td>2</td>\n",
              "      <td>13</td>\n",
              "      <td>14</td>\n",
              "      <td>1</td>\n",
              "      <td>27</td>\n",
              "      <td>None</td>\n",
              "      <td>Tuesday</td>\n",
              "      <td>February</td>\n",
              "      <td>False</td>\n",
              "      <td>False</td>\n",
              "      <td>False</td>\n",
              "      <td>False</td>\n",
              "      <td>2024-02-13</td>\n",
              "      <td>14:01:27.846890</td>\n",
              "    </tr>\n",
              "    <tr>\n",
              "      <th>4</th>\n",
              "      <td>2024-02-13 14:01:27.846890</td>\n",
              "      <td>2024</td>\n",
              "      <td>2</td>\n",
              "      <td>13</td>\n",
              "      <td>14</td>\n",
              "      <td>1</td>\n",
              "      <td>27</td>\n",
              "      <td>None</td>\n",
              "      <td>Tuesday</td>\n",
              "      <td>February</td>\n",
              "      <td>False</td>\n",
              "      <td>False</td>\n",
              "      <td>False</td>\n",
              "      <td>False</td>\n",
              "      <td>2024-02-13</td>\n",
              "      <td>14:01:27.846890</td>\n",
              "    </tr>\n",
              "  </tbody>\n",
              "</table>\n",
              "</div>"
            ],
            "text/plain": [
              "                        DATA  Year  Month  Day  Hour  Minute  Seconds  \\\n",
              "0 2024-02-13 14:01:27.846890  2024      2   13    14       1       27   \n",
              "1 2024-02-13 14:01:27.846890  2024      2   13    14       1       27   \n",
              "2 2024-02-13 14:01:27.846890  2024      2   13    14       1       27   \n",
              "3 2024-02-13 14:01:27.846890  2024      2   13    14       1       27   \n",
              "4 2024-02-13 14:01:27.846890  2024      2   13    14       1       27   \n",
              "\n",
              "  Timezone  DayName MonthName  IsMonthStart  IsYearStart  IsMonthEnd  \\\n",
              "0     None  Tuesday  February         False        False       False   \n",
              "1     None  Tuesday  February         False        False       False   \n",
              "2     None  Tuesday  February         False        False       False   \n",
              "3     None  Tuesday  February         False        False       False   \n",
              "4     None  Tuesday  February         False        False       False   \n",
              "\n",
              "   IsYearEnd    OnlyDate         OnlyTime  \n",
              "0      False  2024-02-13  14:01:27.846890  \n",
              "1      False  2024-02-13  14:01:27.846890  \n",
              "2      False  2024-02-13  14:01:27.846890  \n",
              "3      False  2024-02-13  14:01:27.846890  \n",
              "4      False  2024-02-13  14:01:27.846890  "
            ]
          },
          "execution_count": 59,
          "metadata": {},
          "output_type": "execute_result"
        }
      ],
      "source": [
        "# Get only Date\n",
        "dados2[\"OnlyDate\"] = dados2.DATA.dt.date\n",
        "\n",
        "# Get only Time\n",
        "dados2[\"OnlyTime\"] = dados2.DATA.dt.time\n",
        "\n",
        "dados2.head()"
      ]
    },
    {
      "cell_type": "code",
      "execution_count": 60,
      "metadata": {
        "id": "e23djpqtXeP2"
      },
      "outputs": [
        {
          "data": {
            "text/html": [
              "<div>\n",
              "<style scoped>\n",
              "    .dataframe tbody tr th:only-of-type {\n",
              "        vertical-align: middle;\n",
              "    }\n",
              "\n",
              "    .dataframe tbody tr th {\n",
              "        vertical-align: top;\n",
              "    }\n",
              "\n",
              "    .dataframe thead th {\n",
              "        text-align: right;\n",
              "    }\n",
              "</style>\n",
              "<table border=\"1\" class=\"dataframe\">\n",
              "  <thead>\n",
              "    <tr style=\"text-align: right;\">\n",
              "      <th></th>\n",
              "      <th>DATA</th>\n",
              "      <th>Year</th>\n",
              "      <th>Month</th>\n",
              "      <th>Day</th>\n",
              "      <th>Hour</th>\n",
              "      <th>Minute</th>\n",
              "      <th>Seconds</th>\n",
              "      <th>Timezone</th>\n",
              "      <th>DayName</th>\n",
              "      <th>MonthName</th>\n",
              "      <th>IsMonthStart</th>\n",
              "      <th>IsYearStart</th>\n",
              "      <th>IsMonthEnd</th>\n",
              "      <th>IsYearEnd</th>\n",
              "      <th>OnlyDate</th>\n",
              "      <th>OnlyTime</th>\n",
              "      <th>OnlyTime-AMPM</th>\n",
              "    </tr>\n",
              "  </thead>\n",
              "  <tbody>\n",
              "    <tr>\n",
              "      <th>0</th>\n",
              "      <td>2024-02-13 14:01:27.846890</td>\n",
              "      <td>2024</td>\n",
              "      <td>02</td>\n",
              "      <td>13</td>\n",
              "      <td>14</td>\n",
              "      <td>01</td>\n",
              "      <td>27</td>\n",
              "      <td>None</td>\n",
              "      <td>Tuesday</td>\n",
              "      <td>February</td>\n",
              "      <td>False</td>\n",
              "      <td>False</td>\n",
              "      <td>False</td>\n",
              "      <td>False</td>\n",
              "      <td>02/13/24</td>\n",
              "      <td>14:01:27</td>\n",
              "      <td>02:01:27 PM</td>\n",
              "    </tr>\n",
              "    <tr>\n",
              "      <th>1</th>\n",
              "      <td>2024-02-13 14:01:27.846890</td>\n",
              "      <td>2024</td>\n",
              "      <td>02</td>\n",
              "      <td>13</td>\n",
              "      <td>14</td>\n",
              "      <td>01</td>\n",
              "      <td>27</td>\n",
              "      <td>None</td>\n",
              "      <td>Tuesday</td>\n",
              "      <td>February</td>\n",
              "      <td>False</td>\n",
              "      <td>False</td>\n",
              "      <td>False</td>\n",
              "      <td>False</td>\n",
              "      <td>02/13/24</td>\n",
              "      <td>14:01:27</td>\n",
              "      <td>02:01:27 PM</td>\n",
              "    </tr>\n",
              "    <tr>\n",
              "      <th>2</th>\n",
              "      <td>2024-02-13 14:01:27.846890</td>\n",
              "      <td>2024</td>\n",
              "      <td>02</td>\n",
              "      <td>13</td>\n",
              "      <td>14</td>\n",
              "      <td>01</td>\n",
              "      <td>27</td>\n",
              "      <td>None</td>\n",
              "      <td>Tuesday</td>\n",
              "      <td>February</td>\n",
              "      <td>False</td>\n",
              "      <td>False</td>\n",
              "      <td>False</td>\n",
              "      <td>False</td>\n",
              "      <td>02/13/24</td>\n",
              "      <td>14:01:27</td>\n",
              "      <td>02:01:27 PM</td>\n",
              "    </tr>\n",
              "    <tr>\n",
              "      <th>3</th>\n",
              "      <td>2024-02-13 14:01:27.846890</td>\n",
              "      <td>2024</td>\n",
              "      <td>02</td>\n",
              "      <td>13</td>\n",
              "      <td>14</td>\n",
              "      <td>01</td>\n",
              "      <td>27</td>\n",
              "      <td>None</td>\n",
              "      <td>Tuesday</td>\n",
              "      <td>February</td>\n",
              "      <td>False</td>\n",
              "      <td>False</td>\n",
              "      <td>False</td>\n",
              "      <td>False</td>\n",
              "      <td>02/13/24</td>\n",
              "      <td>14:01:27</td>\n",
              "      <td>02:01:27 PM</td>\n",
              "    </tr>\n",
              "    <tr>\n",
              "      <th>4</th>\n",
              "      <td>2024-02-13 14:01:27.846890</td>\n",
              "      <td>2024</td>\n",
              "      <td>02</td>\n",
              "      <td>13</td>\n",
              "      <td>14</td>\n",
              "      <td>01</td>\n",
              "      <td>27</td>\n",
              "      <td>None</td>\n",
              "      <td>Tuesday</td>\n",
              "      <td>February</td>\n",
              "      <td>False</td>\n",
              "      <td>False</td>\n",
              "      <td>False</td>\n",
              "      <td>False</td>\n",
              "      <td>02/13/24</td>\n",
              "      <td>14:01:27</td>\n",
              "      <td>02:01:27 PM</td>\n",
              "    </tr>\n",
              "  </tbody>\n",
              "</table>\n",
              "</div>"
            ],
            "text/plain": [
              "                        DATA  Year Month Day Hour Minute Seconds Timezone  \\\n",
              "0 2024-02-13 14:01:27.846890  2024    02  13   14     01      27     None   \n",
              "1 2024-02-13 14:01:27.846890  2024    02  13   14     01      27     None   \n",
              "2 2024-02-13 14:01:27.846890  2024    02  13   14     01      27     None   \n",
              "3 2024-02-13 14:01:27.846890  2024    02  13   14     01      27     None   \n",
              "4 2024-02-13 14:01:27.846890  2024    02  13   14     01      27     None   \n",
              "\n",
              "   DayName MonthName  IsMonthStart  IsYearStart  IsMonthEnd  IsYearEnd  \\\n",
              "0  Tuesday  February         False        False       False      False   \n",
              "1  Tuesday  February         False        False       False      False   \n",
              "2  Tuesday  February         False        False       False      False   \n",
              "3  Tuesday  February         False        False       False      False   \n",
              "4  Tuesday  February         False        False       False      False   \n",
              "\n",
              "   OnlyDate  OnlyTime OnlyTime-AMPM  \n",
              "0  02/13/24  14:01:27   02:01:27 PM  \n",
              "1  02/13/24  14:01:27   02:01:27 PM  \n",
              "2  02/13/24  14:01:27   02:01:27 PM  \n",
              "3  02/13/24  14:01:27   02:01:27 PM  \n",
              "4  02/13/24  14:01:27   02:01:27 PM  "
            ]
          },
          "execution_count": 60,
          "metadata": {},
          "output_type": "execute_result"
        }
      ],
      "source": [
        "# Get Year\n",
        "dados2[\"Year\"] = dados2.DATA.dt.strftime('%Y')\n",
        "\n",
        "# Get Month of a Year\n",
        "dados2[\"Month\"] = dados2.DATA.dt.strftime('%m')\n",
        "\n",
        "# Get Day of a Month\n",
        "dados2[\"Day\"] = dados2.DATA.dt.strftime('%d')\n",
        "\n",
        "# Get Hour of the day\n",
        "dados2[\"Hour\"] = dados2.DATA.dt.strftime('%H')\n",
        "\n",
        "# Get Minute of the Hour\n",
        "dados2[\"Minute\"] = dados2.DATA.dt.strftime('%M')\n",
        "\n",
        "# Get Seconds of the Minute\n",
        "dados2[\"Seconds\"] = dados2.DATA.dt.strftime('%S')\n",
        "\n",
        "# Get Only Date\n",
        "dados2[\"OnlyDate\"] = dados2.DATA.dt.strftime('%D')\n",
        "\n",
        "# Get Only Time\n",
        "dados2[\"OnlyTime\"] = dados2.DATA.dt.strftime('%T')\n",
        "\n",
        "# Get Only Time - AM or PM format\n",
        "dados2[\"OnlyTime-AMPM\"] = dados2.DATA.dt.strftime('%r')\n",
        "\n",
        "dados2.head()"
      ]
    },
    {
      "cell_type": "code",
      "execution_count": 61,
      "metadata": {
        "id": "aD-Lr4YhXmNe"
      },
      "outputs": [
        {
          "data": {
            "text/html": [
              "<div>\n",
              "<style scoped>\n",
              "    .dataframe tbody tr th:only-of-type {\n",
              "        vertical-align: middle;\n",
              "    }\n",
              "\n",
              "    .dataframe tbody tr th {\n",
              "        vertical-align: top;\n",
              "    }\n",
              "\n",
              "    .dataframe thead th {\n",
              "        text-align: right;\n",
              "    }\n",
              "</style>\n",
              "<table border=\"1\" class=\"dataframe\">\n",
              "  <thead>\n",
              "    <tr style=\"text-align: right;\">\n",
              "      <th></th>\n",
              "      <th>DATA</th>\n",
              "      <th>Year</th>\n",
              "      <th>Month</th>\n",
              "      <th>Day</th>\n",
              "      <th>Hour</th>\n",
              "      <th>Minute</th>\n",
              "      <th>Seconds</th>\n",
              "      <th>Timezone</th>\n",
              "      <th>DayName</th>\n",
              "      <th>MonthName</th>\n",
              "      <th>...</th>\n",
              "      <th>IsYearStart</th>\n",
              "      <th>IsMonthEnd</th>\n",
              "      <th>IsYearEnd</th>\n",
              "      <th>OnlyDate</th>\n",
              "      <th>OnlyTime</th>\n",
              "      <th>OnlyTime-AMPM</th>\n",
              "      <th>Date+Day</th>\n",
              "      <th>Date+Hour</th>\n",
              "      <th>Date+Minute</th>\n",
              "      <th>Date+Seconds</th>\n",
              "    </tr>\n",
              "  </thead>\n",
              "  <tbody>\n",
              "    <tr>\n",
              "      <th>0</th>\n",
              "      <td>2024-02-13 14:01:27.846890</td>\n",
              "      <td>2024</td>\n",
              "      <td>02</td>\n",
              "      <td>13</td>\n",
              "      <td>14</td>\n",
              "      <td>01</td>\n",
              "      <td>27</td>\n",
              "      <td>None</td>\n",
              "      <td>Tuesday</td>\n",
              "      <td>February</td>\n",
              "      <td>...</td>\n",
              "      <td>False</td>\n",
              "      <td>False</td>\n",
              "      <td>False</td>\n",
              "      <td>02/13/24</td>\n",
              "      <td>14:01:27</td>\n",
              "      <td>02:01:27 PM</td>\n",
              "      <td>2024-02-15 14:01:27.846890</td>\n",
              "      <td>2024-02-13 16:01:27.846890</td>\n",
              "      <td>2024-02-13 14:03:27.846890</td>\n",
              "      <td>2024-02-13 14:01:29.846890</td>\n",
              "    </tr>\n",
              "    <tr>\n",
              "      <th>1</th>\n",
              "      <td>2024-02-13 14:01:27.846890</td>\n",
              "      <td>2024</td>\n",
              "      <td>02</td>\n",
              "      <td>13</td>\n",
              "      <td>14</td>\n",
              "      <td>01</td>\n",
              "      <td>27</td>\n",
              "      <td>None</td>\n",
              "      <td>Tuesday</td>\n",
              "      <td>February</td>\n",
              "      <td>...</td>\n",
              "      <td>False</td>\n",
              "      <td>False</td>\n",
              "      <td>False</td>\n",
              "      <td>02/13/24</td>\n",
              "      <td>14:01:27</td>\n",
              "      <td>02:01:27 PM</td>\n",
              "      <td>2024-02-15 14:01:27.846890</td>\n",
              "      <td>2024-02-13 16:01:27.846890</td>\n",
              "      <td>2024-02-13 14:03:27.846890</td>\n",
              "      <td>2024-02-13 14:01:29.846890</td>\n",
              "    </tr>\n",
              "    <tr>\n",
              "      <th>2</th>\n",
              "      <td>2024-02-13 14:01:27.846890</td>\n",
              "      <td>2024</td>\n",
              "      <td>02</td>\n",
              "      <td>13</td>\n",
              "      <td>14</td>\n",
              "      <td>01</td>\n",
              "      <td>27</td>\n",
              "      <td>None</td>\n",
              "      <td>Tuesday</td>\n",
              "      <td>February</td>\n",
              "      <td>...</td>\n",
              "      <td>False</td>\n",
              "      <td>False</td>\n",
              "      <td>False</td>\n",
              "      <td>02/13/24</td>\n",
              "      <td>14:01:27</td>\n",
              "      <td>02:01:27 PM</td>\n",
              "      <td>2024-02-15 14:01:27.846890</td>\n",
              "      <td>2024-02-13 16:01:27.846890</td>\n",
              "      <td>2024-02-13 14:03:27.846890</td>\n",
              "      <td>2024-02-13 14:01:29.846890</td>\n",
              "    </tr>\n",
              "    <tr>\n",
              "      <th>3</th>\n",
              "      <td>2024-02-13 14:01:27.846890</td>\n",
              "      <td>2024</td>\n",
              "      <td>02</td>\n",
              "      <td>13</td>\n",
              "      <td>14</td>\n",
              "      <td>01</td>\n",
              "      <td>27</td>\n",
              "      <td>None</td>\n",
              "      <td>Tuesday</td>\n",
              "      <td>February</td>\n",
              "      <td>...</td>\n",
              "      <td>False</td>\n",
              "      <td>False</td>\n",
              "      <td>False</td>\n",
              "      <td>02/13/24</td>\n",
              "      <td>14:01:27</td>\n",
              "      <td>02:01:27 PM</td>\n",
              "      <td>2024-02-15 14:01:27.846890</td>\n",
              "      <td>2024-02-13 16:01:27.846890</td>\n",
              "      <td>2024-02-13 14:03:27.846890</td>\n",
              "      <td>2024-02-13 14:01:29.846890</td>\n",
              "    </tr>\n",
              "    <tr>\n",
              "      <th>4</th>\n",
              "      <td>2024-02-13 14:01:27.846890</td>\n",
              "      <td>2024</td>\n",
              "      <td>02</td>\n",
              "      <td>13</td>\n",
              "      <td>14</td>\n",
              "      <td>01</td>\n",
              "      <td>27</td>\n",
              "      <td>None</td>\n",
              "      <td>Tuesday</td>\n",
              "      <td>February</td>\n",
              "      <td>...</td>\n",
              "      <td>False</td>\n",
              "      <td>False</td>\n",
              "      <td>False</td>\n",
              "      <td>02/13/24</td>\n",
              "      <td>14:01:27</td>\n",
              "      <td>02:01:27 PM</td>\n",
              "      <td>2024-02-15 14:01:27.846890</td>\n",
              "      <td>2024-02-13 16:01:27.846890</td>\n",
              "      <td>2024-02-13 14:03:27.846890</td>\n",
              "      <td>2024-02-13 14:01:29.846890</td>\n",
              "    </tr>\n",
              "  </tbody>\n",
              "</table>\n",
              "<p>5 rows × 21 columns</p>\n",
              "</div>"
            ],
            "text/plain": [
              "                        DATA  Year Month Day Hour Minute Seconds Timezone  \\\n",
              "0 2024-02-13 14:01:27.846890  2024    02  13   14     01      27     None   \n",
              "1 2024-02-13 14:01:27.846890  2024    02  13   14     01      27     None   \n",
              "2 2024-02-13 14:01:27.846890  2024    02  13   14     01      27     None   \n",
              "3 2024-02-13 14:01:27.846890  2024    02  13   14     01      27     None   \n",
              "4 2024-02-13 14:01:27.846890  2024    02  13   14     01      27     None   \n",
              "\n",
              "   DayName MonthName  ...  IsYearStart  IsMonthEnd  IsYearEnd  OnlyDate  \\\n",
              "0  Tuesday  February  ...        False       False      False  02/13/24   \n",
              "1  Tuesday  February  ...        False       False      False  02/13/24   \n",
              "2  Tuesday  February  ...        False       False      False  02/13/24   \n",
              "3  Tuesday  February  ...        False       False      False  02/13/24   \n",
              "4  Tuesday  February  ...        False       False      False  02/13/24   \n",
              "\n",
              "   OnlyTime OnlyTime-AMPM                   Date+Day  \\\n",
              "0  14:01:27   02:01:27 PM 2024-02-15 14:01:27.846890   \n",
              "1  14:01:27   02:01:27 PM 2024-02-15 14:01:27.846890   \n",
              "2  14:01:27   02:01:27 PM 2024-02-15 14:01:27.846890   \n",
              "3  14:01:27   02:01:27 PM 2024-02-15 14:01:27.846890   \n",
              "4  14:01:27   02:01:27 PM 2024-02-15 14:01:27.846890   \n",
              "\n",
              "                   Date+Hour                Date+Minute  \\\n",
              "0 2024-02-13 16:01:27.846890 2024-02-13 14:03:27.846890   \n",
              "1 2024-02-13 16:01:27.846890 2024-02-13 14:03:27.846890   \n",
              "2 2024-02-13 16:01:27.846890 2024-02-13 14:03:27.846890   \n",
              "3 2024-02-13 16:01:27.846890 2024-02-13 14:03:27.846890   \n",
              "4 2024-02-13 16:01:27.846890 2024-02-13 14:03:27.846890   \n",
              "\n",
              "                Date+Seconds  \n",
              "0 2024-02-13 14:01:29.846890  \n",
              "1 2024-02-13 14:01:29.846890  \n",
              "2 2024-02-13 14:01:29.846890  \n",
              "3 2024-02-13 14:01:29.846890  \n",
              "4 2024-02-13 14:01:29.846890  \n",
              "\n",
              "[5 rows x 21 columns]"
            ]
          },
          "execution_count": 61,
          "metadata": {},
          "output_type": "execute_result"
        }
      ],
      "source": [
        "# Add Days\n",
        "dados2[\"Date+Day\"] = dados2.DATA + pd.Timedelta(2, 'days')\n",
        "\n",
        "# Add Hour\n",
        "dados2[\"Date+Hour\"] = dados2.DATA + pd.Timedelta(2, 'hours')\n",
        "\n",
        "# Add Minutes\n",
        "dados2[\"Date+Minute\"] = dados2.DATA + pd.Timedelta(2, 'minutes')\n",
        "\n",
        "# Add Seconds\n",
        "dados2[\"Date+Seconds\"] = dados2.DATA + pd.Timedelta(2, 'seconds')\n",
        "\n",
        "dados2.head()"
      ]
    },
    {
      "cell_type": "code",
      "execution_count": 62,
      "metadata": {
        "id": "7qlag6tkXmJ9"
      },
      "outputs": [
        {
          "data": {
            "text/html": [
              "<div>\n",
              "<style scoped>\n",
              "    .dataframe tbody tr th:only-of-type {\n",
              "        vertical-align: middle;\n",
              "    }\n",
              "\n",
              "    .dataframe tbody tr th {\n",
              "        vertical-align: top;\n",
              "    }\n",
              "\n",
              "    .dataframe thead th {\n",
              "        text-align: right;\n",
              "    }\n",
              "</style>\n",
              "<table border=\"1\" class=\"dataframe\">\n",
              "  <thead>\n",
              "    <tr style=\"text-align: right;\">\n",
              "      <th></th>\n",
              "      <th>DATA</th>\n",
              "      <th>Year</th>\n",
              "      <th>Month</th>\n",
              "      <th>Day</th>\n",
              "      <th>Hour</th>\n",
              "      <th>Minute</th>\n",
              "      <th>Seconds</th>\n",
              "      <th>Timezone</th>\n",
              "      <th>DayName</th>\n",
              "      <th>MonthName</th>\n",
              "      <th>...</th>\n",
              "      <th>IsYearEnd</th>\n",
              "      <th>OnlyDate</th>\n",
              "      <th>OnlyTime</th>\n",
              "      <th>OnlyTime-AMPM</th>\n",
              "      <th>Date+Day</th>\n",
              "      <th>Date+Hour</th>\n",
              "      <th>Date+Minute</th>\n",
              "      <th>Date+Seconds</th>\n",
              "      <th>Date+Year</th>\n",
              "      <th>Date+Month</th>\n",
              "    </tr>\n",
              "  </thead>\n",
              "  <tbody>\n",
              "    <tr>\n",
              "      <th>0</th>\n",
              "      <td>2024-02-13 14:01:27.846890</td>\n",
              "      <td>2024</td>\n",
              "      <td>02</td>\n",
              "      <td>13</td>\n",
              "      <td>14</td>\n",
              "      <td>01</td>\n",
              "      <td>27</td>\n",
              "      <td>None</td>\n",
              "      <td>Tuesday</td>\n",
              "      <td>February</td>\n",
              "      <td>...</td>\n",
              "      <td>False</td>\n",
              "      <td>02/13/24</td>\n",
              "      <td>14:01:27</td>\n",
              "      <td>02:01:27 PM</td>\n",
              "      <td>2024-02-15 14:01:27.846890</td>\n",
              "      <td>2024-02-13 16:01:27.846890</td>\n",
              "      <td>2024-02-13 14:03:27.846890</td>\n",
              "      <td>2024-02-13 14:01:29.846890</td>\n",
              "      <td>2026-02-13 14:01:27.846890</td>\n",
              "      <td>2024-04-13 14:01:27.846890</td>\n",
              "    </tr>\n",
              "    <tr>\n",
              "      <th>1</th>\n",
              "      <td>2024-02-13 14:01:27.846890</td>\n",
              "      <td>2024</td>\n",
              "      <td>02</td>\n",
              "      <td>13</td>\n",
              "      <td>14</td>\n",
              "      <td>01</td>\n",
              "      <td>27</td>\n",
              "      <td>None</td>\n",
              "      <td>Tuesday</td>\n",
              "      <td>February</td>\n",
              "      <td>...</td>\n",
              "      <td>False</td>\n",
              "      <td>02/13/24</td>\n",
              "      <td>14:01:27</td>\n",
              "      <td>02:01:27 PM</td>\n",
              "      <td>2024-02-15 14:01:27.846890</td>\n",
              "      <td>2024-02-13 16:01:27.846890</td>\n",
              "      <td>2024-02-13 14:03:27.846890</td>\n",
              "      <td>2024-02-13 14:01:29.846890</td>\n",
              "      <td>2026-02-13 14:01:27.846890</td>\n",
              "      <td>2024-04-13 14:01:27.846890</td>\n",
              "    </tr>\n",
              "    <tr>\n",
              "      <th>2</th>\n",
              "      <td>2024-02-13 14:01:27.846890</td>\n",
              "      <td>2024</td>\n",
              "      <td>02</td>\n",
              "      <td>13</td>\n",
              "      <td>14</td>\n",
              "      <td>01</td>\n",
              "      <td>27</td>\n",
              "      <td>None</td>\n",
              "      <td>Tuesday</td>\n",
              "      <td>February</td>\n",
              "      <td>...</td>\n",
              "      <td>False</td>\n",
              "      <td>02/13/24</td>\n",
              "      <td>14:01:27</td>\n",
              "      <td>02:01:27 PM</td>\n",
              "      <td>2024-02-15 14:01:27.846890</td>\n",
              "      <td>2024-02-13 16:01:27.846890</td>\n",
              "      <td>2024-02-13 14:03:27.846890</td>\n",
              "      <td>2024-02-13 14:01:29.846890</td>\n",
              "      <td>2026-02-13 14:01:27.846890</td>\n",
              "      <td>2024-04-13 14:01:27.846890</td>\n",
              "    </tr>\n",
              "    <tr>\n",
              "      <th>3</th>\n",
              "      <td>2024-02-13 14:01:27.846890</td>\n",
              "      <td>2024</td>\n",
              "      <td>02</td>\n",
              "      <td>13</td>\n",
              "      <td>14</td>\n",
              "      <td>01</td>\n",
              "      <td>27</td>\n",
              "      <td>None</td>\n",
              "      <td>Tuesday</td>\n",
              "      <td>February</td>\n",
              "      <td>...</td>\n",
              "      <td>False</td>\n",
              "      <td>02/13/24</td>\n",
              "      <td>14:01:27</td>\n",
              "      <td>02:01:27 PM</td>\n",
              "      <td>2024-02-15 14:01:27.846890</td>\n",
              "      <td>2024-02-13 16:01:27.846890</td>\n",
              "      <td>2024-02-13 14:03:27.846890</td>\n",
              "      <td>2024-02-13 14:01:29.846890</td>\n",
              "      <td>2026-02-13 14:01:27.846890</td>\n",
              "      <td>2024-04-13 14:01:27.846890</td>\n",
              "    </tr>\n",
              "    <tr>\n",
              "      <th>4</th>\n",
              "      <td>2024-02-13 14:01:27.846890</td>\n",
              "      <td>2024</td>\n",
              "      <td>02</td>\n",
              "      <td>13</td>\n",
              "      <td>14</td>\n",
              "      <td>01</td>\n",
              "      <td>27</td>\n",
              "      <td>None</td>\n",
              "      <td>Tuesday</td>\n",
              "      <td>February</td>\n",
              "      <td>...</td>\n",
              "      <td>False</td>\n",
              "      <td>02/13/24</td>\n",
              "      <td>14:01:27</td>\n",
              "      <td>02:01:27 PM</td>\n",
              "      <td>2024-02-15 14:01:27.846890</td>\n",
              "      <td>2024-02-13 16:01:27.846890</td>\n",
              "      <td>2024-02-13 14:03:27.846890</td>\n",
              "      <td>2024-02-13 14:01:29.846890</td>\n",
              "      <td>2026-02-13 14:01:27.846890</td>\n",
              "      <td>2024-04-13 14:01:27.846890</td>\n",
              "    </tr>\n",
              "  </tbody>\n",
              "</table>\n",
              "<p>5 rows × 23 columns</p>\n",
              "</div>"
            ],
            "text/plain": [
              "                        DATA  Year Month Day Hour Minute Seconds Timezone  \\\n",
              "0 2024-02-13 14:01:27.846890  2024    02  13   14     01      27     None   \n",
              "1 2024-02-13 14:01:27.846890  2024    02  13   14     01      27     None   \n",
              "2 2024-02-13 14:01:27.846890  2024    02  13   14     01      27     None   \n",
              "3 2024-02-13 14:01:27.846890  2024    02  13   14     01      27     None   \n",
              "4 2024-02-13 14:01:27.846890  2024    02  13   14     01      27     None   \n",
              "\n",
              "   DayName MonthName  ...  IsYearEnd  OnlyDate  OnlyTime  OnlyTime-AMPM  \\\n",
              "0  Tuesday  February  ...      False  02/13/24  14:01:27    02:01:27 PM   \n",
              "1  Tuesday  February  ...      False  02/13/24  14:01:27    02:01:27 PM   \n",
              "2  Tuesday  February  ...      False  02/13/24  14:01:27    02:01:27 PM   \n",
              "3  Tuesday  February  ...      False  02/13/24  14:01:27    02:01:27 PM   \n",
              "4  Tuesday  February  ...      False  02/13/24  14:01:27    02:01:27 PM   \n",
              "\n",
              "                    Date+Day                  Date+Hour  \\\n",
              "0 2024-02-15 14:01:27.846890 2024-02-13 16:01:27.846890   \n",
              "1 2024-02-15 14:01:27.846890 2024-02-13 16:01:27.846890   \n",
              "2 2024-02-15 14:01:27.846890 2024-02-13 16:01:27.846890   \n",
              "3 2024-02-15 14:01:27.846890 2024-02-13 16:01:27.846890   \n",
              "4 2024-02-15 14:01:27.846890 2024-02-13 16:01:27.846890   \n",
              "\n",
              "                 Date+Minute               Date+Seconds  \\\n",
              "0 2024-02-13 14:03:27.846890 2024-02-13 14:01:29.846890   \n",
              "1 2024-02-13 14:03:27.846890 2024-02-13 14:01:29.846890   \n",
              "2 2024-02-13 14:03:27.846890 2024-02-13 14:01:29.846890   \n",
              "3 2024-02-13 14:03:27.846890 2024-02-13 14:01:29.846890   \n",
              "4 2024-02-13 14:03:27.846890 2024-02-13 14:01:29.846890   \n",
              "\n",
              "                   Date+Year                 Date+Month  \n",
              "0 2026-02-13 14:01:27.846890 2024-04-13 14:01:27.846890  \n",
              "1 2026-02-13 14:01:27.846890 2024-04-13 14:01:27.846890  \n",
              "2 2026-02-13 14:01:27.846890 2024-04-13 14:01:27.846890  \n",
              "3 2026-02-13 14:01:27.846890 2024-04-13 14:01:27.846890  \n",
              "4 2026-02-13 14:01:27.846890 2024-04-13 14:01:27.846890  \n",
              "\n",
              "[5 rows x 23 columns]"
            ]
          },
          "execution_count": 62,
          "metadata": {},
          "output_type": "execute_result"
        }
      ],
      "source": [
        "# Add Years\n",
        "dados2[\"Date+Year\"] = dados2.DATA + pd.DateOffset(years=2)\n",
        "\n",
        "# Add Months\n",
        "dados2[\"Date+Month\"] = dados2.DATA + pd.DateOffset(months=2)\n",
        "\n",
        "# Add Days\n",
        "dados2[\"Date+Day\"] = dados2.DATA + pd.DateOffset(days=2)\n",
        "\n",
        "# Add Hour\n",
        "dados2[\"Date+Hour\"] = dados2.DATA + pd.DateOffset(hours=2)\n",
        "\n",
        "# Add Minutes\n",
        "dados2[\"Date+Minute\"] = dados2.DATA + pd.DateOffset(minutes=2)\n",
        "\n",
        "# Add Seconds\n",
        "dados2[\"Date+Seconds\"] = dados2.DATA + pd.DateOffset(seconds=2)\n",
        "\n",
        "\n",
        "dados2.head()"
      ]
    },
    {
      "cell_type": "code",
      "execution_count": 64,
      "metadata": {
        "id": "Wr5LNYjvXeMO"
      },
      "outputs": [
        {
          "data": {
            "text/html": [
              "<div>\n",
              "<style scoped>\n",
              "    .dataframe tbody tr th:only-of-type {\n",
              "        vertical-align: middle;\n",
              "    }\n",
              "\n",
              "    .dataframe tbody tr th {\n",
              "        vertical-align: top;\n",
              "    }\n",
              "\n",
              "    .dataframe thead th {\n",
              "        text-align: right;\n",
              "    }\n",
              "</style>\n",
              "<table border=\"1\" class=\"dataframe\">\n",
              "  <thead>\n",
              "    <tr style=\"text-align: right;\">\n",
              "      <th></th>\n",
              "      <th>DATA</th>\n",
              "      <th>Year</th>\n",
              "      <th>Month</th>\n",
              "      <th>Day</th>\n",
              "      <th>Hour</th>\n",
              "      <th>Minute</th>\n",
              "      <th>Seconds</th>\n",
              "      <th>Timezone</th>\n",
              "      <th>DayName</th>\n",
              "      <th>MonthName</th>\n",
              "      <th>...</th>\n",
              "      <th>OnlyDate</th>\n",
              "      <th>OnlyTime</th>\n",
              "      <th>OnlyTime-AMPM</th>\n",
              "      <th>Date+Day</th>\n",
              "      <th>Date+Hour</th>\n",
              "      <th>Date+Minute</th>\n",
              "      <th>Date+Seconds</th>\n",
              "      <th>Date+Year</th>\n",
              "      <th>Date+Month</th>\n",
              "      <th>NewDates</th>\n",
              "    </tr>\n",
              "  </thead>\n",
              "  <tbody>\n",
              "    <tr>\n",
              "      <th>0</th>\n",
              "      <td>2024-02-13 14:01:27.846890</td>\n",
              "      <td>2024</td>\n",
              "      <td>02</td>\n",
              "      <td>13</td>\n",
              "      <td>14</td>\n",
              "      <td>01</td>\n",
              "      <td>27</td>\n",
              "      <td>None</td>\n",
              "      <td>Tuesday</td>\n",
              "      <td>February</td>\n",
              "      <td>...</td>\n",
              "      <td>02/13/24</td>\n",
              "      <td>14:01:27</td>\n",
              "      <td>02:01:27 PM</td>\n",
              "      <td>2024-02-15 14:01:27.846890</td>\n",
              "      <td>2024-02-13 16:01:27.846890</td>\n",
              "      <td>2024-02-13 14:03:27.846890</td>\n",
              "      <td>2024-02-13 14:01:29.846890</td>\n",
              "      <td>2026-02-13 14:01:27.846890</td>\n",
              "      <td>2024-04-13 14:01:27.846890</td>\n",
              "      <td>2024-03-14 14:01:27.846890</td>\n",
              "    </tr>\n",
              "    <tr>\n",
              "      <th>1</th>\n",
              "      <td>2024-02-13 14:01:27.846890</td>\n",
              "      <td>2024</td>\n",
              "      <td>02</td>\n",
              "      <td>13</td>\n",
              "      <td>14</td>\n",
              "      <td>01</td>\n",
              "      <td>27</td>\n",
              "      <td>None</td>\n",
              "      <td>Tuesday</td>\n",
              "      <td>February</td>\n",
              "      <td>...</td>\n",
              "      <td>02/13/24</td>\n",
              "      <td>14:01:27</td>\n",
              "      <td>02:01:27 PM</td>\n",
              "      <td>2024-02-15 14:01:27.846890</td>\n",
              "      <td>2024-02-13 16:01:27.846890</td>\n",
              "      <td>2024-02-13 14:03:27.846890</td>\n",
              "      <td>2024-02-13 14:01:29.846890</td>\n",
              "      <td>2026-02-13 14:01:27.846890</td>\n",
              "      <td>2024-04-13 14:01:27.846890</td>\n",
              "      <td>2024-03-14 14:01:27.846890</td>\n",
              "    </tr>\n",
              "    <tr>\n",
              "      <th>2</th>\n",
              "      <td>2024-02-13 14:01:27.846890</td>\n",
              "      <td>2024</td>\n",
              "      <td>02</td>\n",
              "      <td>13</td>\n",
              "      <td>14</td>\n",
              "      <td>01</td>\n",
              "      <td>27</td>\n",
              "      <td>None</td>\n",
              "      <td>Tuesday</td>\n",
              "      <td>February</td>\n",
              "      <td>...</td>\n",
              "      <td>02/13/24</td>\n",
              "      <td>14:01:27</td>\n",
              "      <td>02:01:27 PM</td>\n",
              "      <td>2024-02-15 14:01:27.846890</td>\n",
              "      <td>2024-02-13 16:01:27.846890</td>\n",
              "      <td>2024-02-13 14:03:27.846890</td>\n",
              "      <td>2024-02-13 14:01:29.846890</td>\n",
              "      <td>2026-02-13 14:01:27.846890</td>\n",
              "      <td>2024-04-13 14:01:27.846890</td>\n",
              "      <td>2024-03-14 14:01:27.846890</td>\n",
              "    </tr>\n",
              "    <tr>\n",
              "      <th>3</th>\n",
              "      <td>2024-02-13 14:01:27.846890</td>\n",
              "      <td>2024</td>\n",
              "      <td>02</td>\n",
              "      <td>13</td>\n",
              "      <td>14</td>\n",
              "      <td>01</td>\n",
              "      <td>27</td>\n",
              "      <td>None</td>\n",
              "      <td>Tuesday</td>\n",
              "      <td>February</td>\n",
              "      <td>...</td>\n",
              "      <td>02/13/24</td>\n",
              "      <td>14:01:27</td>\n",
              "      <td>02:01:27 PM</td>\n",
              "      <td>2024-02-15 14:01:27.846890</td>\n",
              "      <td>2024-02-13 16:01:27.846890</td>\n",
              "      <td>2024-02-13 14:03:27.846890</td>\n",
              "      <td>2024-02-13 14:01:29.846890</td>\n",
              "      <td>2026-02-13 14:01:27.846890</td>\n",
              "      <td>2024-04-13 14:01:27.846890</td>\n",
              "      <td>2024-03-14 14:01:27.846890</td>\n",
              "    </tr>\n",
              "    <tr>\n",
              "      <th>4</th>\n",
              "      <td>2024-02-13 14:01:27.846890</td>\n",
              "      <td>2024</td>\n",
              "      <td>02</td>\n",
              "      <td>13</td>\n",
              "      <td>14</td>\n",
              "      <td>01</td>\n",
              "      <td>27</td>\n",
              "      <td>None</td>\n",
              "      <td>Tuesday</td>\n",
              "      <td>February</td>\n",
              "      <td>...</td>\n",
              "      <td>02/13/24</td>\n",
              "      <td>14:01:27</td>\n",
              "      <td>02:01:27 PM</td>\n",
              "      <td>2024-02-15 14:01:27.846890</td>\n",
              "      <td>2024-02-13 16:01:27.846890</td>\n",
              "      <td>2024-02-13 14:03:27.846890</td>\n",
              "      <td>2024-02-13 14:01:29.846890</td>\n",
              "      <td>2026-02-13 14:01:27.846890</td>\n",
              "      <td>2024-04-13 14:01:27.846890</td>\n",
              "      <td>2024-03-14 14:01:27.846890</td>\n",
              "    </tr>\n",
              "  </tbody>\n",
              "</table>\n",
              "<p>5 rows × 24 columns</p>\n",
              "</div>"
            ],
            "text/plain": [
              "                        DATA  Year Month Day Hour Minute Seconds Timezone  \\\n",
              "0 2024-02-13 14:01:27.846890  2024    02  13   14     01      27     None   \n",
              "1 2024-02-13 14:01:27.846890  2024    02  13   14     01      27     None   \n",
              "2 2024-02-13 14:01:27.846890  2024    02  13   14     01      27     None   \n",
              "3 2024-02-13 14:01:27.846890  2024    02  13   14     01      27     None   \n",
              "4 2024-02-13 14:01:27.846890  2024    02  13   14     01      27     None   \n",
              "\n",
              "   DayName MonthName  ...  OnlyDate  OnlyTime  OnlyTime-AMPM  \\\n",
              "0  Tuesday  February  ...  02/13/24  14:01:27    02:01:27 PM   \n",
              "1  Tuesday  February  ...  02/13/24  14:01:27    02:01:27 PM   \n",
              "2  Tuesday  February  ...  02/13/24  14:01:27    02:01:27 PM   \n",
              "3  Tuesday  February  ...  02/13/24  14:01:27    02:01:27 PM   \n",
              "4  Tuesday  February  ...  02/13/24  14:01:27    02:01:27 PM   \n",
              "\n",
              "                    Date+Day                  Date+Hour  \\\n",
              "0 2024-02-15 14:01:27.846890 2024-02-13 16:01:27.846890   \n",
              "1 2024-02-15 14:01:27.846890 2024-02-13 16:01:27.846890   \n",
              "2 2024-02-15 14:01:27.846890 2024-02-13 16:01:27.846890   \n",
              "3 2024-02-15 14:01:27.846890 2024-02-13 16:01:27.846890   \n",
              "4 2024-02-15 14:01:27.846890 2024-02-13 16:01:27.846890   \n",
              "\n",
              "                 Date+Minute               Date+Seconds  \\\n",
              "0 2024-02-13 14:03:27.846890 2024-02-13 14:01:29.846890   \n",
              "1 2024-02-13 14:03:27.846890 2024-02-13 14:01:29.846890   \n",
              "2 2024-02-13 14:03:27.846890 2024-02-13 14:01:29.846890   \n",
              "3 2024-02-13 14:03:27.846890 2024-02-13 14:01:29.846890   \n",
              "4 2024-02-13 14:03:27.846890 2024-02-13 14:01:29.846890   \n",
              "\n",
              "                   Date+Year                 Date+Month  \\\n",
              "0 2026-02-13 14:01:27.846890 2024-04-13 14:01:27.846890   \n",
              "1 2026-02-13 14:01:27.846890 2024-04-13 14:01:27.846890   \n",
              "2 2026-02-13 14:01:27.846890 2024-04-13 14:01:27.846890   \n",
              "3 2026-02-13 14:01:27.846890 2024-04-13 14:01:27.846890   \n",
              "4 2026-02-13 14:01:27.846890 2024-04-13 14:01:27.846890   \n",
              "\n",
              "                    NewDates  \n",
              "0 2024-03-14 14:01:27.846890  \n",
              "1 2024-03-14 14:01:27.846890  \n",
              "2 2024-03-14 14:01:27.846890  \n",
              "3 2024-03-14 14:01:27.846890  \n",
              "4 2024-03-14 14:01:27.846890  \n",
              "\n",
              "[5 rows x 24 columns]"
            ]
          },
          "execution_count": 64,
          "metadata": {},
          "output_type": "execute_result"
        }
      ],
      "source": [
        "# Adicionar um novo conjunto de datas à coluna 'DATA' do DataFrame 'dados2'\n",
        "# Utilizando o método 'pd.DateOffset' para adicionar 1 mês e 1 dia às datas existentes\n",
        "dados2[\"NewDates\"] = dados2.DATA + pd.DateOffset(months=1, days=1)\n",
        "\n",
        "# Exibir as primeiras linhas do DataFrame atualizado\n",
        "dados2.head()\n"
      ]
    },
    {
      "cell_type": "markdown",
      "metadata": {
        "id": "mLSXnKiAhXqp"
      },
      "source": [
        "# Recodificação de variáveis"
      ]
    },
    {
      "cell_type": "code",
      "execution_count": null,
      "metadata": {
        "id": "T9eqqUXwCPWQ"
      },
      "outputs": [],
      "source": [
        "# converter uma coluna texto para numerico (se tiver numeros e textos misturados)\n",
        "# dados['Vento'] = pd.to_numeric(dados['Vento'], errors='coerce')\n",
        "\n",
        "# errors{‘ignore’, ‘raise’, ‘coerce’}, default ‘raise’\n",
        "# If ‘raise’, then invalid parsing will raise an exception.\n",
        "# If ‘coerce’, then invalid parsing will be set as NaN.\n",
        "# If ‘ignore’, then invalid parsing will return the input."
      ]
    },
    {
      "cell_type": "code",
      "execution_count": 65,
      "metadata": {
        "id": "GjR97mSmYZgO"
      },
      "outputs": [
        {
          "data": {
            "text/plain": [
              "TIPO_PARTO\n",
              "1    1056\n",
              "2     653\n",
              "Name: count, dtype: int64"
            ]
          },
          "execution_count": 65,
          "metadata": {},
          "output_type": "execute_result"
        }
      ],
      "source": [
        "# TIPO_PARTO - Contando a quantidade de casos por categoria\n",
        "dados.TIPO_PARTO.value_counts()"
      ]
    },
    {
      "cell_type": "code",
      "execution_count": 66,
      "metadata": {
        "id": "YKM3x_NqjpNA"
      },
      "outputs": [
        {
          "data": {
            "text/plain": [
              "TIPO_PARTO\n",
              "Parto Normal     1056\n",
              "Parto Cesáreo     653\n",
              "Name: count, dtype: int64"
            ]
          },
          "execution_count": 66,
          "metadata": {},
          "output_type": "execute_result"
        }
      ],
      "source": [
        "# Trocar os números pelo conteúdo das categorias, o python não precisa que as categorias sejam códigos (apenas para regressão)\n",
        "# Já se sabe pela documentação da Base de dados que:\n",
        "# 1 = partos vaginais\n",
        "# 2 = partos cesáreos\n",
        "\n",
        "dados.TIPO_PARTO.replace(1, 'Parto Normal', inplace=True)\n",
        "dados.TIPO_PARTO.replace(2, 'Parto Cesáreo', inplace=True)\n",
        "dados.TIPO_PARTO.value_counts()"
      ]
    },
    {
      "cell_type": "code",
      "execution_count": 67,
      "metadata": {
        "id": "qlcfVlOnhV2C"
      },
      "outputs": [
        {
          "data": {
            "text/plain": [
              "HIPERTENSAO\n",
              "0    1486\n",
              "1     223\n",
              "Name: count, dtype: int64"
            ]
          },
          "execution_count": 67,
          "metadata": {},
          "output_type": "execute_result"
        }
      ],
      "source": [
        "# HIPERTENSAO - Contando a quantidade de casos por categoria\n",
        "dados.HIPERTENSAO.value_counts()"
      ]
    },
    {
      "cell_type": "code",
      "execution_count": 68,
      "metadata": {
        "id": "naznjAoUiOnN"
      },
      "outputs": [
        {
          "data": {
            "text/plain": [
              "HIPERTENSAO\n",
              "Não    1486\n",
              "Sim     223\n",
              "Name: count, dtype: int64"
            ]
          },
          "execution_count": 68,
          "metadata": {},
          "output_type": "execute_result"
        }
      ],
      "source": [
        "# HIPERTENSAO - recodificar ==>   0 = Não, 1 = Sim\n",
        "dados.HIPERTENSAO.replace(0, 'Não', inplace=True)\n",
        "dados.HIPERTENSAO.replace(1, 'Sim', inplace=True)\n",
        "dados.HIPERTENSAO.value_counts()"
      ]
    },
    {
      "cell_type": "code",
      "execution_count": 69,
      "metadata": {
        "id": "pPX_B2uLimqd"
      },
      "outputs": [
        {
          "data": {
            "text/plain": [
              "GEMELAR\n",
              "0    1641\n",
              "1      68\n",
              "Name: count, dtype: int64"
            ]
          },
          "execution_count": 69,
          "metadata": {},
          "output_type": "execute_result"
        }
      ],
      "source": [
        "# GEMELAR - Contando a quantidade de casos por categoria\n",
        "dados.GEMELAR.value_counts()"
      ]
    },
    {
      "cell_type": "code",
      "execution_count": 70,
      "metadata": {
        "id": "cJXRGyqUimmX"
      },
      "outputs": [
        {
          "data": {
            "text/plain": [
              "GEMELAR\n",
              "Não    1641\n",
              "Sim      68\n",
              "Name: count, dtype: int64"
            ]
          },
          "execution_count": 70,
          "metadata": {},
          "output_type": "execute_result"
        }
      ],
      "source": [
        "# GEMELAR - recodificar ==>   0 = Não, 1 = Sim\n",
        "dados.GEMELAR.replace(0, 'Não', inplace=True)\n",
        "dados.GEMELAR.replace(1, 'Sim', inplace=True)\n",
        "dados.GEMELAR.value_counts()"
      ]
    },
    {
      "cell_type": "code",
      "execution_count": 71,
      "metadata": {
        "id": "crpGInWgmPcU"
      },
      "outputs": [
        {
          "data": {
            "text/plain": [
              "CM_TRANSFUSAO\n",
              "0.0    1674\n",
              "1.0      32\n",
              "Name: count, dtype: int64"
            ]
          },
          "execution_count": 71,
          "metadata": {},
          "output_type": "execute_result"
        }
      ],
      "source": [
        "# CM_TRANSFUSAO - Contando a quantidade de casos por categoria\n",
        "dados.CM_TRANSFUSAO.value_counts()"
      ]
    },
    {
      "cell_type": "code",
      "execution_count": 72,
      "metadata": {
        "id": "92uXDbnsmPYI"
      },
      "outputs": [
        {
          "data": {
            "text/plain": [
              "CM_TRANSFUSAO\n",
              "Não    1674\n",
              "Sim      32\n",
              "Name: count, dtype: int64"
            ]
          },
          "execution_count": 72,
          "metadata": {},
          "output_type": "execute_result"
        }
      ],
      "source": [
        "# CM_TRANSFUSAO - recodificar ==>   0 = Não, 1 = Sim\n",
        "dados.CM_TRANSFUSAO.replace(0, 'Não', inplace=True)\n",
        "dados.CM_TRANSFUSAO.replace(1, 'Sim', inplace=True)\n",
        "dados.CM_TRANSFUSAO.value_counts()"
      ]
    },
    {
      "cell_type": "code",
      "execution_count": 73,
      "metadata": {
        "id": "b9yyBivCZ-hS"
      },
      "outputs": [
        {
          "data": {
            "text/plain": [
              "ALTO_RISCO\n",
              "não    889\n",
              "sim    799\n",
              "nao     11\n",
              "Nao      7\n",
              "Sim      2\n",
              "Não      1\n",
              "Name: count, dtype: int64"
            ]
          },
          "execution_count": 73,
          "metadata": {},
          "output_type": "execute_result"
        }
      ],
      "source": [
        "# ALTO_RISCO - Contando a quantidade de casos por categoria\n",
        "dados.ALTO_RISCO.value_counts()"
      ]
    },
    {
      "cell_type": "code",
      "execution_count": 74,
      "metadata": {
        "id": "L5YxApi4hd47"
      },
      "outputs": [
        {
          "data": {
            "text/plain": [
              "ALTO_RISCO\n",
              "Não    908\n",
              "Sim    801\n",
              "Name: count, dtype: int64"
            ]
          },
          "execution_count": 74,
          "metadata": {},
          "output_type": "execute_result"
        }
      ],
      "source": [
        "# ALTO_RISCO - Limpeza e Tratamento de dados, recodificando valores de texto\n",
        "dados.ALTO_RISCO.replace('não', 'Não', inplace=True)\n",
        "dados.ALTO_RISCO.replace('nao', 'Não', inplace=True)\n",
        "dados.ALTO_RISCO.replace('Nao', 'Não', inplace=True)\n",
        "dados.ALTO_RISCO.replace('sim', 'Sim', inplace=True)\n",
        "dados.ALTO_RISCO.value_counts()"
      ]
    },
    {
      "cell_type": "code",
      "execution_count": 75,
      "metadata": {
        "id": "NPQhDaWeaziL"
      },
      "outputs": [
        {
          "data": {
            "text/plain": [
              "VIVO\n",
              "1.0    1642\n",
              "0.0      31\n",
              "Name: count, dtype: int64"
            ]
          },
          "execution_count": 75,
          "metadata": {},
          "output_type": "execute_result"
        }
      ],
      "source": [
        "# VIVO - Contando a quantidade de casos por categoria\n",
        "dados.VIVO.value_counts()"
      ]
    },
    {
      "cell_type": "code",
      "execution_count": 76,
      "metadata": {
        "id": "eHiaAr6Jh22J"
      },
      "outputs": [
        {
          "data": {
            "text/plain": [
              "VIVO\n",
              "Nascido vivo     1642\n",
              "Nascido morto      31\n",
              "Name: count, dtype: int64"
            ]
          },
          "execution_count": 76,
          "metadata": {},
          "output_type": "execute_result"
        }
      ],
      "source": [
        "# VIVO - recodificar ==>   0 = Nascido morto, 1 = Nascido vivo\n",
        "dados.VIVO.replace(0, 'Nascido morto', inplace=True)\n",
        "dados.VIVO.replace(1, 'Nascido vivo', inplace=True)\n",
        "dados.VIVO.value_counts()"
      ]
    },
    {
      "cell_type": "code",
      "execution_count": 77,
      "metadata": {
        "id": "koU1UvNxZOyr"
      },
      "outputs": [
        {
          "data": {
            "text/plain": [
              "SEXO\n",
              "1    853\n",
              "2    798\n",
              "0     49\n",
              "3      9\n",
              "Name: count, dtype: int64"
            ]
          },
          "execution_count": 77,
          "metadata": {},
          "output_type": "execute_result"
        }
      ],
      "source": [
        "# SEXO - Contando a quantidade de casos por categoria\n",
        "dados.SEXO.value_counts()"
      ]
    },
    {
      "cell_type": "code",
      "execution_count": 78,
      "metadata": {
        "id": "M1Npt8H6eD-y"
      },
      "outputs": [
        {
          "data": {
            "text/plain": [
              "SEXO\n",
              "Masculino    853\n",
              "Feminino     798\n",
              "Name: count, dtype: int64"
            ]
          },
          "execution_count": 78,
          "metadata": {},
          "output_type": "execute_result"
        }
      ],
      "source": [
        "# SEXO - recodificar ==>\n",
        "#  0 = missing (não preenchido), 1 = masculino, 2 = feminino, 3 = indeterminado\n",
        "\n",
        "#  Para análise deste estudo, vamos considerar os valores 0 e 3 como missings (nulos)\n",
        "#  Preencher com null (nan) os valores 0 e 3\n",
        "dados.SEXO.replace(0, np.nan, inplace=True)\n",
        "dados.SEXO.replace(3, np.nan, inplace=True)\n",
        "\n",
        "# SEXO - recodificar ==>   1 = Masculino, 2 = Feminino\n",
        "dados.SEXO.replace(1, 'Masculino', inplace=True)\n",
        "dados.SEXO.replace(2, 'Feminino', inplace=True)\n",
        "\n",
        "dados.SEXO.value_counts()"
      ]
    },
    {
      "cell_type": "code",
      "execution_count": 79,
      "metadata": {
        "id": "acwFI7PznGrD"
      },
      "outputs": [
        {
          "data": {
            "text/plain": [
              "CM_LACERACAO_CANAL\n",
              "0.0    1147\n",
              "1.0     253\n",
              "2.0     126\n",
              "3.0      27\n",
              "4.0       1\n",
              "Name: count, dtype: int64"
            ]
          },
          "execution_count": 79,
          "metadata": {},
          "output_type": "execute_result"
        }
      ],
      "source": [
        "# CM_LACERACAO_CANAL - Contando a quantidade de casos por categoria\n",
        "dados.CM_LACERACAO_CANAL.value_counts()"
      ]
    },
    {
      "cell_type": "code",
      "execution_count": 80,
      "metadata": {
        "id": "HTkjKJmYrLO2"
      },
      "outputs": [
        {
          "data": {
            "text/plain": [
              "CM_LACERACAO_CANAL\n",
              "Não houve    1147\n",
              "Grau I        253\n",
              "Grau II       126\n",
              "Grau III       27\n",
              "Grau IV         1\n",
              "Name: count, dtype: int64"
            ]
          },
          "execution_count": 80,
          "metadata": {},
          "output_type": "execute_result"
        }
      ],
      "source": [
        "# CM_LACERACAO_CANAL - recodificar ==>   0 = não houve, 1 = Grau I, 2 - Grau II, 3 - Grau III, 4 Grau IV\n",
        "dados.CM_LACERACAO_CANAL.replace(0, 'Não houve', inplace=True)\n",
        "dados.CM_LACERACAO_CANAL.replace(1, 'Grau I', inplace=True)\n",
        "dados.CM_LACERACAO_CANAL.replace(2, 'Grau II', inplace=True)\n",
        "dados.CM_LACERACAO_CANAL.replace(3, 'Grau III', inplace=True)\n",
        "dados.CM_LACERACAO_CANAL.replace(4, 'Grau IV', inplace=True)\n",
        "dados.CM_LACERACAO_CANAL.value_counts()"
      ]
    },
    {
      "cell_type": "code",
      "execution_count": 81,
      "metadata": {
        "id": "KMMbRg9orLLF"
      },
      "outputs": [
        {
          "data": {
            "text/plain": [
              "LIGADURACORDAO\n",
              "2    1103\n",
              "1     500\n",
              "0     106\n",
              "Name: count, dtype: int64"
            ]
          },
          "execution_count": 81,
          "metadata": {},
          "output_type": "execute_result"
        }
      ],
      "source": [
        "# LIGADURACORDAO - Contando a quantidade de casos por categoria\n",
        "dados.LIGADURACORDAO.value_counts()"
      ]
    },
    {
      "cell_type": "code",
      "execution_count": 82,
      "metadata": {
        "id": "jqoQpUIIrLGF"
      },
      "outputs": [
        {
          "data": {
            "text/plain": [
              "LIGADURACORDAO\n",
              "Sim    500\n",
              "Não    106\n",
              "Name: count, dtype: int64"
            ]
          },
          "execution_count": 82,
          "metadata": {},
          "output_type": "execute_result"
        }
      ],
      "source": [
        "# LIGADURACORDAO - recodificar ==>   0 = Não, 1 = Sim, 2 = Não se aplica ou não informado\n",
        "dados.LIGADURACORDAO.replace(0, 'Não', inplace=True)\n",
        "dados.LIGADURACORDAO.replace(1, 'Sim', inplace=True)\n",
        "\n",
        "#  Para análise deste estudo, vamos considerar os valores 2 como missings (nulos)\n",
        "#  Preencher com null (nan) o valor 2\n",
        "dados.LIGADURACORDAO.replace(2, np.nan, inplace=True)\n",
        "\n",
        "dados.LIGADURACORDAO.value_counts()"
      ]
    },
    {
      "cell_type": "code",
      "execution_count": 83,
      "metadata": {
        "id": "GMSBMKWOrLA4"
      },
      "outputs": [
        {
          "data": {
            "text/plain": [
              "LC_MOTIVO\n",
              "0    1656\n",
              "3      29\n",
              "2      17\n",
              "1       7\n",
              "Name: count, dtype: int64"
            ]
          },
          "execution_count": 83,
          "metadata": {},
          "output_type": "execute_result"
        }
      ],
      "source": [
        "# LC_MOTIVO - Contando a quantidade de casos por categoria\n",
        "dados.LC_MOTIVO.value_counts()"
      ]
    },
    {
      "cell_type": "code",
      "execution_count": 84,
      "metadata": {
        "id": "vYNeF-vTtevZ"
      },
      "outputs": [
        {
          "data": {
            "text/plain": [
              "LC_MOTIVO\n",
              "Aloimunização Rh    29\n",
              "RN com asfixia      17\n",
              "Mãe soropositiva     7\n",
              "Name: count, dtype: int64"
            ]
          },
          "execution_count": 84,
          "metadata": {},
          "output_type": "execute_result"
        }
      ],
      "source": [
        "# LC_MOTIVO - recodificar ==>   0 = Não se aplica ou não informado, 1 Mãe soropositiva, 2 RN asfixia, 3 Aloimunização Rh\n",
        "dados.LC_MOTIVO.replace(1, 'Mãe soropositiva', inplace=True)\n",
        "dados.LC_MOTIVO.replace(2, 'RN com asfixia', inplace=True)\n",
        "dados.LC_MOTIVO.replace(3, 'Aloimunização Rh', inplace=True)\n",
        "\n",
        "#  Para análise deste estudo, vamos considerar os valores 0 como missings (nulos)\n",
        "#  Preencher com null (nan) o valor 0\n",
        "dados.LC_MOTIVO.replace(0, np.nan, inplace=True)\n",
        "\n",
        "dados.LC_MOTIVO.value_counts()"
      ]
    },
    {
      "cell_type": "code",
      "execution_count": null,
      "metadata": {
        "id": "fVqwT9cuZhGL"
      },
      "outputs": [],
      "source": [
        "# Se precisar: esse código desabilita algumas mensagens de Warning, quando se faz recodificação de variáveis.\n",
        "# pd.options.mode.chained_assignment = None\n",
        "# default='warn'"
      ]
    },
    {
      "cell_type": "markdown",
      "metadata": {
        "id": "VmRP1jPJ4_6M"
      },
      "source": [
        "# Salvar os dados atuais em um novo arquivo"
      ]
    },
    {
      "cell_type": "code",
      "execution_count": 85,
      "metadata": {
        "id": "H1U3eDrjox9c"
      },
      "outputs": [
        {
          "data": {
            "text/html": [
              "<div>\n",
              "<style scoped>\n",
              "    .dataframe tbody tr th:only-of-type {\n",
              "        vertical-align: middle;\n",
              "    }\n",
              "\n",
              "    .dataframe tbody tr th {\n",
              "        vertical-align: top;\n",
              "    }\n",
              "\n",
              "    .dataframe thead th {\n",
              "        text-align: right;\n",
              "    }\n",
              "</style>\n",
              "<table border=\"1\" class=\"dataframe\">\n",
              "  <thead>\n",
              "    <tr style=\"text-align: right;\">\n",
              "      <th></th>\n",
              "      <th>Unnamed: 0</th>\n",
              "      <th>DT_INTERNACAO</th>\n",
              "      <th>DT_ALTA</th>\n",
              "      <th>DURACAO_INT</th>\n",
              "      <th>GESTACOES</th>\n",
              "      <th>PARTOS</th>\n",
              "      <th>IG_OBSTETRA</th>\n",
              "      <th>IG_PEDIATRA</th>\n",
              "      <th>ALTO_RISCO</th>\n",
              "      <th>TIPO_PARTO</th>\n",
              "      <th>...</th>\n",
              "      <th>DIAS_INTERNACAO</th>\n",
              "      <th>DT_CONSULTAPOS</th>\n",
              "      <th>DT_AGORA</th>\n",
              "      <th>Year</th>\n",
              "      <th>Month</th>\n",
              "      <th>Day</th>\n",
              "      <th>Hour</th>\n",
              "      <th>Minute</th>\n",
              "      <th>Seconds</th>\n",
              "      <th>Timezone</th>\n",
              "    </tr>\n",
              "  </thead>\n",
              "  <tbody>\n",
              "    <tr>\n",
              "      <th>0</th>\n",
              "      <td>0</td>\n",
              "      <td>2014-01-20</td>\n",
              "      <td>2014-01-21</td>\n",
              "      <td>1.0</td>\n",
              "      <td>2</td>\n",
              "      <td>1.0</td>\n",
              "      <td>38.0</td>\n",
              "      <td>38.0</td>\n",
              "      <td>Sim</td>\n",
              "      <td>Parto Normal</td>\n",
              "      <td>...</td>\n",
              "      <td>1 days</td>\n",
              "      <td>2014-02-05</td>\n",
              "      <td>2024-02-13 14:01:27.846890</td>\n",
              "      <td>2024</td>\n",
              "      <td>2</td>\n",
              "      <td>13</td>\n",
              "      <td>14</td>\n",
              "      <td>1</td>\n",
              "      <td>27</td>\n",
              "      <td>None</td>\n",
              "    </tr>\n",
              "    <tr>\n",
              "      <th>1</th>\n",
              "      <td>1</td>\n",
              "      <td>2014-05-21</td>\n",
              "      <td>2014-05-22</td>\n",
              "      <td>1.0</td>\n",
              "      <td>1</td>\n",
              "      <td>0.0</td>\n",
              "      <td>36.0</td>\n",
              "      <td>36.0</td>\n",
              "      <td>Sim</td>\n",
              "      <td>Parto Normal</td>\n",
              "      <td>...</td>\n",
              "      <td>1 days</td>\n",
              "      <td>2014-06-06</td>\n",
              "      <td>2024-02-13 14:01:27.846890</td>\n",
              "      <td>2024</td>\n",
              "      <td>2</td>\n",
              "      <td>13</td>\n",
              "      <td>14</td>\n",
              "      <td>1</td>\n",
              "      <td>27</td>\n",
              "      <td>None</td>\n",
              "    </tr>\n",
              "    <tr>\n",
              "      <th>2</th>\n",
              "      <td>2</td>\n",
              "      <td>2014-04-13</td>\n",
              "      <td>2014-04-14</td>\n",
              "      <td>1.0</td>\n",
              "      <td>2</td>\n",
              "      <td>1.0</td>\n",
              "      <td>39.0</td>\n",
              "      <td>39.0</td>\n",
              "      <td>Não</td>\n",
              "      <td>Parto Normal</td>\n",
              "      <td>...</td>\n",
              "      <td>1 days</td>\n",
              "      <td>2014-04-29</td>\n",
              "      <td>2024-02-13 14:01:27.846890</td>\n",
              "      <td>2024</td>\n",
              "      <td>2</td>\n",
              "      <td>13</td>\n",
              "      <td>14</td>\n",
              "      <td>1</td>\n",
              "      <td>27</td>\n",
              "      <td>None</td>\n",
              "    </tr>\n",
              "    <tr>\n",
              "      <th>3</th>\n",
              "      <td>3</td>\n",
              "      <td>2013-12-04</td>\n",
              "      <td>2013-12-05</td>\n",
              "      <td>1.0</td>\n",
              "      <td>2</td>\n",
              "      <td>1.0</td>\n",
              "      <td>41.0</td>\n",
              "      <td>41.0</td>\n",
              "      <td>Não</td>\n",
              "      <td>Parto Normal</td>\n",
              "      <td>...</td>\n",
              "      <td>1 days</td>\n",
              "      <td>2013-12-20</td>\n",
              "      <td>2024-02-13 14:01:27.846890</td>\n",
              "      <td>2024</td>\n",
              "      <td>2</td>\n",
              "      <td>13</td>\n",
              "      <td>14</td>\n",
              "      <td>1</td>\n",
              "      <td>27</td>\n",
              "      <td>None</td>\n",
              "    </tr>\n",
              "    <tr>\n",
              "      <th>4</th>\n",
              "      <td>4</td>\n",
              "      <td>2013-12-05</td>\n",
              "      <td>2013-12-06</td>\n",
              "      <td>1.0</td>\n",
              "      <td>1</td>\n",
              "      <td>0.0</td>\n",
              "      <td>36.0</td>\n",
              "      <td>36.0</td>\n",
              "      <td>Não</td>\n",
              "      <td>Parto Normal</td>\n",
              "      <td>...</td>\n",
              "      <td>1 days</td>\n",
              "      <td>2013-12-21</td>\n",
              "      <td>2024-02-13 14:01:27.846890</td>\n",
              "      <td>2024</td>\n",
              "      <td>2</td>\n",
              "      <td>13</td>\n",
              "      <td>14</td>\n",
              "      <td>1</td>\n",
              "      <td>27</td>\n",
              "      <td>None</td>\n",
              "    </tr>\n",
              "    <tr>\n",
              "      <th>...</th>\n",
              "      <td>...</td>\n",
              "      <td>...</td>\n",
              "      <td>...</td>\n",
              "      <td>...</td>\n",
              "      <td>...</td>\n",
              "      <td>...</td>\n",
              "      <td>...</td>\n",
              "      <td>...</td>\n",
              "      <td>...</td>\n",
              "      <td>...</td>\n",
              "      <td>...</td>\n",
              "      <td>...</td>\n",
              "      <td>...</td>\n",
              "      <td>...</td>\n",
              "      <td>...</td>\n",
              "      <td>...</td>\n",
              "      <td>...</td>\n",
              "      <td>...</td>\n",
              "      <td>...</td>\n",
              "      <td>...</td>\n",
              "      <td>...</td>\n",
              "    </tr>\n",
              "    <tr>\n",
              "      <th>1704</th>\n",
              "      <td>1704</td>\n",
              "      <td>2014-07-05</td>\n",
              "      <td>2014-08-12</td>\n",
              "      <td>38.0</td>\n",
              "      <td>2</td>\n",
              "      <td>1.0</td>\n",
              "      <td>38.0</td>\n",
              "      <td>38.0</td>\n",
              "      <td>Não</td>\n",
              "      <td>Parto Normal</td>\n",
              "      <td>...</td>\n",
              "      <td>38 days</td>\n",
              "      <td>2014-08-27</td>\n",
              "      <td>2024-02-13 14:01:27.846890</td>\n",
              "      <td>2024</td>\n",
              "      <td>2</td>\n",
              "      <td>13</td>\n",
              "      <td>14</td>\n",
              "      <td>1</td>\n",
              "      <td>27</td>\n",
              "      <td>None</td>\n",
              "    </tr>\n",
              "    <tr>\n",
              "      <th>1705</th>\n",
              "      <td>1705</td>\n",
              "      <td>2014-04-25</td>\n",
              "      <td>2014-06-10</td>\n",
              "      <td>46.0</td>\n",
              "      <td>2</td>\n",
              "      <td>1.0</td>\n",
              "      <td>29.0</td>\n",
              "      <td>34.0</td>\n",
              "      <td>Sim</td>\n",
              "      <td>Parto Cesáreo</td>\n",
              "      <td>...</td>\n",
              "      <td>46 days</td>\n",
              "      <td>2014-06-25</td>\n",
              "      <td>2024-02-13 14:01:27.846890</td>\n",
              "      <td>2024</td>\n",
              "      <td>2</td>\n",
              "      <td>13</td>\n",
              "      <td>14</td>\n",
              "      <td>1</td>\n",
              "      <td>27</td>\n",
              "      <td>None</td>\n",
              "    </tr>\n",
              "    <tr>\n",
              "      <th>1706</th>\n",
              "      <td>1706</td>\n",
              "      <td>2013-11-04</td>\n",
              "      <td>2013-12-22</td>\n",
              "      <td>48.0</td>\n",
              "      <td>2</td>\n",
              "      <td>1.0</td>\n",
              "      <td>26.0</td>\n",
              "      <td>32.0</td>\n",
              "      <td>Sim</td>\n",
              "      <td>Parto Cesáreo</td>\n",
              "      <td>...</td>\n",
              "      <td>48 days</td>\n",
              "      <td>2014-01-06</td>\n",
              "      <td>2024-02-13 14:01:27.846890</td>\n",
              "      <td>2024</td>\n",
              "      <td>2</td>\n",
              "      <td>13</td>\n",
              "      <td>14</td>\n",
              "      <td>1</td>\n",
              "      <td>27</td>\n",
              "      <td>None</td>\n",
              "    </tr>\n",
              "    <tr>\n",
              "      <th>1707</th>\n",
              "      <td>1707</td>\n",
              "      <td>2013-10-04</td>\n",
              "      <td>2013-11-28</td>\n",
              "      <td>55.0</td>\n",
              "      <td>3</td>\n",
              "      <td>0.0</td>\n",
              "      <td>27.0</td>\n",
              "      <td>34.0</td>\n",
              "      <td>Sim</td>\n",
              "      <td>Parto Cesáreo</td>\n",
              "      <td>...</td>\n",
              "      <td>55 days</td>\n",
              "      <td>2013-12-13</td>\n",
              "      <td>2024-02-13 14:01:27.846890</td>\n",
              "      <td>2024</td>\n",
              "      <td>2</td>\n",
              "      <td>13</td>\n",
              "      <td>14</td>\n",
              "      <td>1</td>\n",
              "      <td>27</td>\n",
              "      <td>None</td>\n",
              "    </tr>\n",
              "    <tr>\n",
              "      <th>1708</th>\n",
              "      <td>1708</td>\n",
              "      <td>2014-03-12</td>\n",
              "      <td>2014-05-14</td>\n",
              "      <td>63.0</td>\n",
              "      <td>3</td>\n",
              "      <td>2.0</td>\n",
              "      <td>39.0</td>\n",
              "      <td>39.0</td>\n",
              "      <td>Não</td>\n",
              "      <td>Parto Normal</td>\n",
              "      <td>...</td>\n",
              "      <td>63 days</td>\n",
              "      <td>2014-05-29</td>\n",
              "      <td>2024-02-13 14:01:27.846890</td>\n",
              "      <td>2024</td>\n",
              "      <td>2</td>\n",
              "      <td>13</td>\n",
              "      <td>14</td>\n",
              "      <td>1</td>\n",
              "      <td>27</td>\n",
              "      <td>None</td>\n",
              "    </tr>\n",
              "  </tbody>\n",
              "</table>\n",
              "<p>1709 rows × 42 columns</p>\n",
              "</div>"
            ],
            "text/plain": [
              "      Unnamed: 0 DT_INTERNACAO    DT_ALTA  DURACAO_INT  GESTACOES  PARTOS  \\\n",
              "0              0    2014-01-20 2014-01-21          1.0          2     1.0   \n",
              "1              1    2014-05-21 2014-05-22          1.0          1     0.0   \n",
              "2              2    2014-04-13 2014-04-14          1.0          2     1.0   \n",
              "3              3    2013-12-04 2013-12-05          1.0          2     1.0   \n",
              "4              4    2013-12-05 2013-12-06          1.0          1     0.0   \n",
              "...          ...           ...        ...          ...        ...     ...   \n",
              "1704        1704    2014-07-05 2014-08-12         38.0          2     1.0   \n",
              "1705        1705    2014-04-25 2014-06-10         46.0          2     1.0   \n",
              "1706        1706    2013-11-04 2013-12-22         48.0          2     1.0   \n",
              "1707        1707    2013-10-04 2013-11-28         55.0          3     0.0   \n",
              "1708        1708    2014-03-12 2014-05-14         63.0          3     2.0   \n",
              "\n",
              "      IG_OBSTETRA  IG_PEDIATRA ALTO_RISCO     TIPO_PARTO  ... DIAS_INTERNACAO  \\\n",
              "0            38.0         38.0        Sim   Parto Normal  ...          1 days   \n",
              "1            36.0         36.0        Sim   Parto Normal  ...          1 days   \n",
              "2            39.0         39.0        Não   Parto Normal  ...          1 days   \n",
              "3            41.0         41.0        Não   Parto Normal  ...          1 days   \n",
              "4            36.0         36.0        Não   Parto Normal  ...          1 days   \n",
              "...           ...          ...        ...            ...  ...             ...   \n",
              "1704         38.0         38.0        Não   Parto Normal  ...         38 days   \n",
              "1705         29.0         34.0        Sim  Parto Cesáreo  ...         46 days   \n",
              "1706         26.0         32.0        Sim  Parto Cesáreo  ...         48 days   \n",
              "1707         27.0         34.0        Sim  Parto Cesáreo  ...         55 days   \n",
              "1708         39.0         39.0        Não   Parto Normal  ...         63 days   \n",
              "\n",
              "     DT_CONSULTAPOS                   DT_AGORA  Year  Month  Day Hour  Minute  \\\n",
              "0        2014-02-05 2024-02-13 14:01:27.846890  2024      2   13   14       1   \n",
              "1        2014-06-06 2024-02-13 14:01:27.846890  2024      2   13   14       1   \n",
              "2        2014-04-29 2024-02-13 14:01:27.846890  2024      2   13   14       1   \n",
              "3        2013-12-20 2024-02-13 14:01:27.846890  2024      2   13   14       1   \n",
              "4        2013-12-21 2024-02-13 14:01:27.846890  2024      2   13   14       1   \n",
              "...             ...                        ...   ...    ...  ...  ...     ...   \n",
              "1704     2014-08-27 2024-02-13 14:01:27.846890  2024      2   13   14       1   \n",
              "1705     2014-06-25 2024-02-13 14:01:27.846890  2024      2   13   14       1   \n",
              "1706     2014-01-06 2024-02-13 14:01:27.846890  2024      2   13   14       1   \n",
              "1707     2013-12-13 2024-02-13 14:01:27.846890  2024      2   13   14       1   \n",
              "1708     2014-05-29 2024-02-13 14:01:27.846890  2024      2   13   14       1   \n",
              "\n",
              "      Seconds  Timezone  \n",
              "0          27      None  \n",
              "1          27      None  \n",
              "2          27      None  \n",
              "3          27      None  \n",
              "4          27      None  \n",
              "...       ...       ...  \n",
              "1704       27      None  \n",
              "1705       27      None  \n",
              "1706       27      None  \n",
              "1707       27      None  \n",
              "1708       27      None  \n",
              "\n",
              "[1709 rows x 42 columns]"
            ]
          },
          "execution_count": 85,
          "metadata": {},
          "output_type": "execute_result"
        }
      ],
      "source": [
        "# listar o DataFrame com a Limpeza e o tratamento de dados realizado\n",
        "dados"
      ]
    },
    {
      "cell_type": "code",
      "execution_count": 86,
      "metadata": {
        "id": "EqHbBd744-62"
      },
      "outputs": [],
      "source": [
        "# salvar em excel, um novo arquivo, com os dados tratados\n",
        "dados.to_excel(\"Roteiro_QDS04_atividade7.xlsx\")"
      ]
    },
    {
      "cell_type": "code",
      "execution_count": null,
      "metadata": {},
      "outputs": [],
      "source": []
    }
  ],
  "metadata": {
    "colab": {
      "collapsed_sections": [
        "H5QuO8kThm1U"
      ],
      "provenance": []
    },
    "kernelspec": {
      "display_name": "Python 3",
      "name": "python3"
    },
    "language_info": {
      "codemirror_mode": {
        "name": "ipython",
        "version": 3
      },
      "file_extension": ".py",
      "mimetype": "text/x-python",
      "name": "python",
      "nbconvert_exporter": "python",
      "pygments_lexer": "ipython3",
      "version": "3.11.5"
    }
  },
  "nbformat": 4,
  "nbformat_minor": 0
}
